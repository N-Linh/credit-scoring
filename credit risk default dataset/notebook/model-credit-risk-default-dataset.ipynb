{
 "cells": [
  {
   "cell_type": "code",
   "execution_count": 1,
   "id": "ef236776",
   "metadata": {
    "_cell_guid": "b1076dfc-b9ad-4769-8c92-a6c4dae69d19",
    "_uuid": "8f2839f25d086af736a60e9eeb907d3b93b6e0e5",
    "execution": {
     "iopub.execute_input": "2022-08-29T07:55:50.629284Z",
     "iopub.status.busy": "2022-08-29T07:55:50.628755Z",
     "iopub.status.idle": "2022-08-29T07:55:52.337432Z",
     "shell.execute_reply": "2022-08-29T07:55:52.336065Z"
    },
    "papermill": {
     "duration": 1.72314,
     "end_time": "2022-08-29T07:55:52.340334",
     "exception": false,
     "start_time": "2022-08-29T07:55:50.617194",
     "status": "completed"
    },
    "tags": []
   },
   "outputs": [
    {
     "name": "stdout",
     "output_type": "stream",
     "text": [
      "/kaggle/input/credit-risk-dataset/credit_risk_dataset.csv\n"
     ]
    }
   ],
   "source": [
    "\n",
    "\n",
    "import numpy as np # linear algebra\n",
    "import pandas as pd # data processing, CSV file I/O (e.g. pd.read_csv)\n",
    "import matplotlib.pyplot as plt\n",
    "import seaborn as sns\n",
    "from scipy.stats import skew\n",
    "from scipy.stats import kurtosis\n",
    "import scipy.stats as stats\n",
    "from sklearn import preprocessing\n",
    "from itertools import combinations\n",
    "import warnings\n",
    "import pandas as pd\n",
    "from sklearn import metrics\n",
    "import missingno as msno\n",
    "from sklearn.impute import SimpleImputer\n",
    "from sklearn.compose import ColumnTransformer\n",
    "from sklearn.model_selection import train_test_split\n",
    "from sklearn import svm\n",
    "from sklearn.pipeline import Pipeline\n",
    "from category_encoders.woe import WOEEncoder\n",
    "from sklearn.preprocessing import OneHotEncoder, RobustScaler\n",
    "from sklearn.linear_model import LogisticRegression\n",
    "from sklearn.metrics import accuracy_score\n",
    "warnings.filterwarnings(\"ignore\")\n",
    "\n",
    "\n",
    "import os\n",
    "for dirname, _, filenames in os.walk('/kaggle/input'):\n",
    "    for filename in filenames:\n",
    "        print(os.path.join(dirname, filename))\n"
   ]
  },
  {
   "cell_type": "code",
   "execution_count": 2,
   "id": "a7953d84",
   "metadata": {
    "execution": {
     "iopub.execute_input": "2022-08-29T07:55:52.359792Z",
     "iopub.status.busy": "2022-08-29T07:55:52.359339Z",
     "iopub.status.idle": "2022-08-29T07:55:52.440401Z",
     "shell.execute_reply": "2022-08-29T07:55:52.439237Z"
    },
    "papermill": {
     "duration": 0.093773,
     "end_time": "2022-08-29T07:55:52.443236",
     "exception": false,
     "start_time": "2022-08-29T07:55:52.349463",
     "status": "completed"
    },
    "tags": []
   },
   "outputs": [],
   "source": [
    "#importing dataset\n",
    "data = pd.read_csv('/kaggle/input/credit-risk-dataset/credit_risk_dataset.csv')\n",
    "data_copy = data.copy()"
   ]
  },
  {
   "cell_type": "code",
   "execution_count": 3,
   "id": "c575af6a",
   "metadata": {
    "execution": {
     "iopub.execute_input": "2022-08-29T07:55:52.463814Z",
     "iopub.status.busy": "2022-08-29T07:55:52.461506Z",
     "iopub.status.idle": "2022-08-29T07:55:52.472502Z",
     "shell.execute_reply": "2022-08-29T07:55:52.471405Z"
    },
    "papermill": {
     "duration": 0.023391,
     "end_time": "2022-08-29T07:55:52.475139",
     "exception": false,
     "start_time": "2022-08-29T07:55:52.451748",
     "status": "completed"
    },
    "tags": []
   },
   "outputs": [
    {
     "data": {
      "text/plain": [
       "(32581, 12)"
      ]
     },
     "execution_count": 3,
     "metadata": {},
     "output_type": "execute_result"
    }
   ],
   "source": [
    "data_copy.shape"
   ]
  },
  {
   "cell_type": "code",
   "execution_count": 4,
   "id": "f1bf6d8c",
   "metadata": {
    "execution": {
     "iopub.execute_input": "2022-08-29T07:55:52.494373Z",
     "iopub.status.busy": "2022-08-29T07:55:52.493941Z",
     "iopub.status.idle": "2022-08-29T07:55:52.516457Z",
     "shell.execute_reply": "2022-08-29T07:55:52.515609Z"
    },
    "papermill": {
     "duration": 0.034748,
     "end_time": "2022-08-29T07:55:52.518543",
     "exception": false,
     "start_time": "2022-08-29T07:55:52.483795",
     "status": "completed"
    },
    "tags": []
   },
   "outputs": [
    {
     "data": {
      "text/html": [
       "<div>\n",
       "<style scoped>\n",
       "    .dataframe tbody tr th:only-of-type {\n",
       "        vertical-align: middle;\n",
       "    }\n",
       "\n",
       "    .dataframe tbody tr th {\n",
       "        vertical-align: top;\n",
       "    }\n",
       "\n",
       "    .dataframe thead th {\n",
       "        text-align: right;\n",
       "    }\n",
       "</style>\n",
       "<table border=\"1\" class=\"dataframe\">\n",
       "  <thead>\n",
       "    <tr style=\"text-align: right;\">\n",
       "      <th></th>\n",
       "      <th>person_age</th>\n",
       "      <th>person_income</th>\n",
       "      <th>person_home_ownership</th>\n",
       "      <th>person_emp_length</th>\n",
       "      <th>loan_intent</th>\n",
       "      <th>loan_grade</th>\n",
       "      <th>loan_amnt</th>\n",
       "      <th>loan_int_rate</th>\n",
       "      <th>loan_status</th>\n",
       "      <th>loan_percent_income</th>\n",
       "      <th>cb_person_default_on_file</th>\n",
       "      <th>cb_person_cred_hist_length</th>\n",
       "    </tr>\n",
       "  </thead>\n",
       "  <tbody>\n",
       "    <tr>\n",
       "      <th>0</th>\n",
       "      <td>22</td>\n",
       "      <td>59000</td>\n",
       "      <td>RENT</td>\n",
       "      <td>123.0</td>\n",
       "      <td>PERSONAL</td>\n",
       "      <td>D</td>\n",
       "      <td>35000</td>\n",
       "      <td>16.02</td>\n",
       "      <td>1</td>\n",
       "      <td>0.59</td>\n",
       "      <td>Y</td>\n",
       "      <td>3</td>\n",
       "    </tr>\n",
       "    <tr>\n",
       "      <th>1</th>\n",
       "      <td>21</td>\n",
       "      <td>9600</td>\n",
       "      <td>OWN</td>\n",
       "      <td>5.0</td>\n",
       "      <td>EDUCATION</td>\n",
       "      <td>B</td>\n",
       "      <td>1000</td>\n",
       "      <td>11.14</td>\n",
       "      <td>0</td>\n",
       "      <td>0.10</td>\n",
       "      <td>N</td>\n",
       "      <td>2</td>\n",
       "    </tr>\n",
       "    <tr>\n",
       "      <th>2</th>\n",
       "      <td>25</td>\n",
       "      <td>9600</td>\n",
       "      <td>MORTGAGE</td>\n",
       "      <td>1.0</td>\n",
       "      <td>MEDICAL</td>\n",
       "      <td>C</td>\n",
       "      <td>5500</td>\n",
       "      <td>12.87</td>\n",
       "      <td>1</td>\n",
       "      <td>0.57</td>\n",
       "      <td>N</td>\n",
       "      <td>3</td>\n",
       "    </tr>\n",
       "    <tr>\n",
       "      <th>3</th>\n",
       "      <td>23</td>\n",
       "      <td>65500</td>\n",
       "      <td>RENT</td>\n",
       "      <td>4.0</td>\n",
       "      <td>MEDICAL</td>\n",
       "      <td>C</td>\n",
       "      <td>35000</td>\n",
       "      <td>15.23</td>\n",
       "      <td>1</td>\n",
       "      <td>0.53</td>\n",
       "      <td>N</td>\n",
       "      <td>2</td>\n",
       "    </tr>\n",
       "    <tr>\n",
       "      <th>4</th>\n",
       "      <td>24</td>\n",
       "      <td>54400</td>\n",
       "      <td>RENT</td>\n",
       "      <td>8.0</td>\n",
       "      <td>MEDICAL</td>\n",
       "      <td>C</td>\n",
       "      <td>35000</td>\n",
       "      <td>14.27</td>\n",
       "      <td>1</td>\n",
       "      <td>0.55</td>\n",
       "      <td>Y</td>\n",
       "      <td>4</td>\n",
       "    </tr>\n",
       "  </tbody>\n",
       "</table>\n",
       "</div>"
      ],
      "text/plain": [
       "   person_age  person_income person_home_ownership  person_emp_length  \\\n",
       "0          22          59000                  RENT              123.0   \n",
       "1          21           9600                   OWN                5.0   \n",
       "2          25           9600              MORTGAGE                1.0   \n",
       "3          23          65500                  RENT                4.0   \n",
       "4          24          54400                  RENT                8.0   \n",
       "\n",
       "  loan_intent loan_grade  loan_amnt  loan_int_rate  loan_status  \\\n",
       "0    PERSONAL          D      35000          16.02            1   \n",
       "1   EDUCATION          B       1000          11.14            0   \n",
       "2     MEDICAL          C       5500          12.87            1   \n",
       "3     MEDICAL          C      35000          15.23            1   \n",
       "4     MEDICAL          C      35000          14.27            1   \n",
       "\n",
       "   loan_percent_income cb_person_default_on_file  cb_person_cred_hist_length  \n",
       "0                 0.59                         Y                           3  \n",
       "1                 0.10                         N                           2  \n",
       "2                 0.57                         N                           3  \n",
       "3                 0.53                         N                           2  \n",
       "4                 0.55                         Y                           4  "
      ]
     },
     "execution_count": 4,
     "metadata": {},
     "output_type": "execute_result"
    }
   ],
   "source": [
    "data_copy.head()"
   ]
  },
  {
   "cell_type": "markdown",
   "id": "fca0adcb",
   "metadata": {
    "papermill": {
     "duration": 0.008347,
     "end_time": "2022-08-29T07:55:52.535815",
     "exception": false,
     "start_time": "2022-08-29T07:55:52.527468",
     "status": "completed"
    },
    "tags": []
   },
   "source": [
    "# Train Test split before pre-processing"
   ]
  },
  {
   "cell_type": "code",
   "execution_count": 5,
   "id": "b28b829b",
   "metadata": {
    "execution": {
     "iopub.execute_input": "2022-08-29T07:55:52.555412Z",
     "iopub.status.busy": "2022-08-29T07:55:52.554497Z",
     "iopub.status.idle": "2022-08-29T07:55:52.589607Z",
     "shell.execute_reply": "2022-08-29T07:55:52.588543Z"
    },
    "papermill": {
     "duration": 0.047906,
     "end_time": "2022-08-29T07:55:52.592411",
     "exception": false,
     "start_time": "2022-08-29T07:55:52.544505",
     "status": "completed"
    },
    "tags": []
   },
   "outputs": [
    {
     "data": {
      "text/plain": [
       "165"
      ]
     },
     "execution_count": 5,
     "metadata": {},
     "output_type": "execute_result"
    }
   ],
   "source": [
    "data_copy.duplicated().sum()"
   ]
  },
  {
   "cell_type": "code",
   "execution_count": 6,
   "id": "a6a8035d",
   "metadata": {
    "execution": {
     "iopub.execute_input": "2022-08-29T07:55:52.612229Z",
     "iopub.status.busy": "2022-08-29T07:55:52.611803Z",
     "iopub.status.idle": "2022-08-29T07:55:52.661824Z",
     "shell.execute_reply": "2022-08-29T07:55:52.661029Z"
    },
    "papermill": {
     "duration": 0.062769,
     "end_time": "2022-08-29T07:55:52.664279",
     "exception": false,
     "start_time": "2022-08-29T07:55:52.601510",
     "status": "completed"
    },
    "tags": []
   },
   "outputs": [
    {
     "data": {
      "text/plain": [
       "0"
      ]
     },
     "execution_count": 6,
     "metadata": {},
     "output_type": "execute_result"
    }
   ],
   "source": [
    "#remove duplicate\n",
    "data_copy = data_copy.drop_duplicates()\n",
    "data_copy.reset_index(drop=True, inplace=True)\n",
    "data_copy.duplicated().sum()"
   ]
  },
  {
   "cell_type": "code",
   "execution_count": 7,
   "id": "33359d1d",
   "metadata": {
    "execution": {
     "iopub.execute_input": "2022-08-29T07:55:52.685891Z",
     "iopub.status.busy": "2022-08-29T07:55:52.685280Z",
     "iopub.status.idle": "2022-08-29T07:55:52.690709Z",
     "shell.execute_reply": "2022-08-29T07:55:52.689958Z"
    },
    "papermill": {
     "duration": 0.018405,
     "end_time": "2022-08-29T07:55:52.692900",
     "exception": false,
     "start_time": "2022-08-29T07:55:52.674495",
     "status": "completed"
    },
    "tags": []
   },
   "outputs": [
    {
     "data": {
      "text/plain": [
       "(32416, 12)"
      ]
     },
     "execution_count": 7,
     "metadata": {},
     "output_type": "execute_result"
    }
   ],
   "source": [
    "data_copy.shape"
   ]
  },
  {
   "cell_type": "code",
   "execution_count": 8,
   "id": "00d93f11",
   "metadata": {
    "execution": {
     "iopub.execute_input": "2022-08-29T07:55:52.713691Z",
     "iopub.status.busy": "2022-08-29T07:55:52.713019Z",
     "iopub.status.idle": "2022-08-29T07:55:52.717712Z",
     "shell.execute_reply": "2022-08-29T07:55:52.716930Z"
    },
    "papermill": {
     "duration": 0.017452,
     "end_time": "2022-08-29T07:55:52.719814",
     "exception": false,
     "start_time": "2022-08-29T07:55:52.702362",
     "status": "completed"
    },
    "tags": []
   },
   "outputs": [],
   "source": [
    "y = data_copy.pop(\"loan_status\")\n",
    "X = data_copy"
   ]
  },
  {
   "cell_type": "code",
   "execution_count": 9,
   "id": "deec7428",
   "metadata": {
    "execution": {
     "iopub.execute_input": "2022-08-29T07:55:52.740821Z",
     "iopub.status.busy": "2022-08-29T07:55:52.740114Z",
     "iopub.status.idle": "2022-08-29T07:55:52.760512Z",
     "shell.execute_reply": "2022-08-29T07:55:52.759255Z"
    },
    "papermill": {
     "duration": 0.034061,
     "end_time": "2022-08-29T07:55:52.763468",
     "exception": false,
     "start_time": "2022-08-29T07:55:52.729407",
     "status": "completed"
    },
    "tags": []
   },
   "outputs": [],
   "source": [
    "#train test split\n",
    "X_train, X_test, y_train, y_test = train_test_split(X, y, random_state=42, test_size = 0.3)"
   ]
  },
  {
   "cell_type": "code",
   "execution_count": 10,
   "id": "59f54375",
   "metadata": {
    "execution": {
     "iopub.execute_input": "2022-08-29T07:55:52.784722Z",
     "iopub.status.busy": "2022-08-29T07:55:52.784290Z",
     "iopub.status.idle": "2022-08-29T07:55:52.790930Z",
     "shell.execute_reply": "2022-08-29T07:55:52.790145Z"
    },
    "papermill": {
     "duration": 0.019418,
     "end_time": "2022-08-29T07:55:52.792959",
     "exception": false,
     "start_time": "2022-08-29T07:55:52.773541",
     "status": "completed"
    },
    "tags": []
   },
   "outputs": [
    {
     "data": {
      "text/plain": [
       "((22691, 11), (22691,), (9725, 11), (9725,))"
      ]
     },
     "execution_count": 10,
     "metadata": {},
     "output_type": "execute_result"
    }
   ],
   "source": [
    "X_train.shape, y_train.shape, X_test.shape, y_test.shape"
   ]
  },
  {
   "cell_type": "markdown",
   "id": "b06dad9f",
   "metadata": {
    "papermill": {
     "duration": 0.009838,
     "end_time": "2022-08-29T07:55:52.812455",
     "exception": false,
     "start_time": "2022-08-29T07:55:52.802617",
     "status": "completed"
    },
    "tags": []
   },
   "source": [
    "# Feature engineering"
   ]
  },
  {
   "cell_type": "markdown",
   "id": "9f655d8c",
   "metadata": {
    "papermill": {
     "duration": 0.009491,
     "end_time": "2022-08-29T07:55:52.831720",
     "exception": false,
     "start_time": "2022-08-29T07:55:52.822229",
     "status": "completed"
    },
    "tags": []
   },
   "source": [
    "1. drop duplicate\n",
    "2. impute missing\n",
    "3. process outliers (robust scaler)\n",
    "4. encode categorical data"
   ]
  },
  {
   "cell_type": "code",
   "execution_count": 11,
   "id": "dc58e480",
   "metadata": {
    "execution": {
     "iopub.execute_input": "2022-08-29T07:55:52.852967Z",
     "iopub.status.busy": "2022-08-29T07:55:52.852057Z",
     "iopub.status.idle": "2022-08-29T07:55:52.882373Z",
     "shell.execute_reply": "2022-08-29T07:55:52.881175Z"
    },
    "papermill": {
     "duration": 0.043995,
     "end_time": "2022-08-29T07:55:52.885240",
     "exception": false,
     "start_time": "2022-08-29T07:55:52.841245",
     "status": "completed"
    },
    "tags": []
   },
   "outputs": [
    {
     "data": {
      "text/plain": [
       "(0, 0)"
      ]
     },
     "execution_count": 11,
     "metadata": {},
     "output_type": "execute_result"
    }
   ],
   "source": [
    "X_train.duplicated().sum(), X_test.duplicated().sum()"
   ]
  },
  {
   "cell_type": "code",
   "execution_count": 12,
   "id": "91e7710d",
   "metadata": {
    "execution": {
     "iopub.execute_input": "2022-08-29T07:55:52.906428Z",
     "iopub.status.busy": "2022-08-29T07:55:52.905387Z",
     "iopub.status.idle": "2022-08-29T07:55:52.911118Z",
     "shell.execute_reply": "2022-08-29T07:55:52.910275Z"
    },
    "papermill": {
     "duration": 0.018807,
     "end_time": "2022-08-29T07:55:52.913555",
     "exception": false,
     "start_time": "2022-08-29T07:55:52.894748",
     "status": "completed"
    },
    "tags": []
   },
   "outputs": [],
   "source": [
    "numerical_cols = ['person_age', 'person_income', 'person_emp_length', 'loan_amnt','loan_int_rate', 'loan_percent_income', 'cb_person_cred_hist_length']\n",
    "categorical_cols = ['person_home_ownership', 'loan_intent','loan_grade','cb_person_default_on_file']"
   ]
  },
  {
   "cell_type": "code",
   "execution_count": 13,
   "id": "07f3663d",
   "metadata": {
    "execution": {
     "iopub.execute_input": "2022-08-29T07:55:52.935202Z",
     "iopub.status.busy": "2022-08-29T07:55:52.934406Z",
     "iopub.status.idle": "2022-08-29T07:55:52.941322Z",
     "shell.execute_reply": "2022-08-29T07:55:52.940419Z"
    },
    "papermill": {
     "duration": 0.020898,
     "end_time": "2022-08-29T07:55:52.943856",
     "exception": false,
     "start_time": "2022-08-29T07:55:52.922958",
     "status": "completed"
    },
    "tags": []
   },
   "outputs": [],
   "source": [
    "#feature engineering for numerical data\n",
    "num_transformer = Pipeline(\n",
    "    steps=[(\"imputer\", SimpleImputer(missing_values=np.nan, strategy='median')), \n",
    "           (\"scaler\", RobustScaler())]\n",
    ")\n",
    "\n",
    "#feature engineering for categorical data\n",
    "cat_transformer = Pipeline(\n",
    "    steps=[\n",
    "        (\"imputer\", SimpleImputer(strategy=\"most_frequent\")),\n",
    "        (\"onehot\", OneHotEncoder(handle_unknown=\"ignore\", sparse=False)),\n",
    "    ]\n",
    ")"
   ]
  },
  {
   "cell_type": "code",
   "execution_count": 14,
   "id": "050b3e07",
   "metadata": {
    "execution": {
     "iopub.execute_input": "2022-08-29T07:55:52.965389Z",
     "iopub.status.busy": "2022-08-29T07:55:52.964566Z",
     "iopub.status.idle": "2022-08-29T07:55:52.970180Z",
     "shell.execute_reply": "2022-08-29T07:55:52.969259Z"
    },
    "papermill": {
     "duration": 0.019199,
     "end_time": "2022-08-29T07:55:52.972655",
     "exception": false,
     "start_time": "2022-08-29T07:55:52.953456",
     "status": "completed"
    },
    "tags": []
   },
   "outputs": [],
   "source": [
    "#full training feature engineering\n",
    "preprocessor = ColumnTransformer(\n",
    "    transformers=[\n",
    "        (\"num\", num_transformer, numerical_cols),\n",
    "        (\"cat\", cat_transformer, categorical_cols),\n",
    "    ]\n",
    ")\n"
   ]
  },
  {
   "cell_type": "markdown",
   "id": "a823e411",
   "metadata": {
    "papermill": {
     "duration": 0.009083,
     "end_time": "2022-08-29T07:55:52.991204",
     "exception": false,
     "start_time": "2022-08-29T07:55:52.982121",
     "status": "completed"
    },
    "tags": []
   },
   "source": [
    "# Model"
   ]
  },
  {
   "cell_type": "code",
   "execution_count": 15,
   "id": "6f763c63",
   "metadata": {
    "execution": {
     "iopub.execute_input": "2022-08-29T07:55:53.012290Z",
     "iopub.status.busy": "2022-08-29T07:55:53.011509Z",
     "iopub.status.idle": "2022-08-29T07:55:53.017615Z",
     "shell.execute_reply": "2022-08-29T07:55:53.016776Z"
    },
    "papermill": {
     "duration": 0.019259,
     "end_time": "2022-08-29T07:55:53.019891",
     "exception": false,
     "start_time": "2022-08-29T07:55:53.000632",
     "status": "completed"
    },
    "tags": []
   },
   "outputs": [],
   "source": [
    "#full training pipline\n",
    "clf_logReg = Pipeline(\n",
    "    steps=[(\"preprocessor\", preprocessor), (\"classifier\", LogisticRegression())]\n",
    ")\n",
    "\n",
    "clf_svm = Pipeline(\n",
    "    steps=[(\"preprocessor\", preprocessor), (\"classifier\", svm.SVC(probability=True))]\n",
    ")\n"
   ]
  },
  {
   "cell_type": "code",
   "execution_count": 16,
   "id": "6eab5082",
   "metadata": {
    "execution": {
     "iopub.execute_input": "2022-08-29T07:55:53.040948Z",
     "iopub.status.busy": "2022-08-29T07:55:53.040159Z",
     "iopub.status.idle": "2022-08-29T07:57:23.712685Z",
     "shell.execute_reply": "2022-08-29T07:57:23.711531Z"
    },
    "papermill": {
     "duration": 90.695637,
     "end_time": "2022-08-29T07:57:23.724948",
     "exception": false,
     "start_time": "2022-08-29T07:55:53.029311",
     "status": "completed"
    },
    "tags": []
   },
   "outputs": [
    {
     "data": {
      "text/plain": [
       "Pipeline(steps=[('preprocessor',\n",
       "                 ColumnTransformer(transformers=[('num',\n",
       "                                                  Pipeline(steps=[('imputer',\n",
       "                                                                   SimpleImputer(strategy='median')),\n",
       "                                                                  ('scaler',\n",
       "                                                                   RobustScaler())]),\n",
       "                                                  ['person_age',\n",
       "                                                   'person_income',\n",
       "                                                   'person_emp_length',\n",
       "                                                   'loan_amnt', 'loan_int_rate',\n",
       "                                                   'loan_percent_income',\n",
       "                                                   'cb_person_cred_hist_length']),\n",
       "                                                 ('cat',\n",
       "                                                  Pipeline(steps=[('imputer',\n",
       "                                                                   SimpleImputer(strategy='most_frequent')),\n",
       "                                                                  ('onehot',\n",
       "                                                                   OneHotEncoder(handle_unknown='ignore',\n",
       "                                                                                 sparse=False))]),\n",
       "                                                  ['person_home_ownership',\n",
       "                                                   'loan_intent', 'loan_grade',\n",
       "                                                   'cb_person_default_on_file'])])),\n",
       "                ('classifier', SVC(probability=True))])"
      ]
     },
     "execution_count": 16,
     "metadata": {},
     "output_type": "execute_result"
    }
   ],
   "source": [
    "clf_logReg.fit(X_train, y_train)\n",
    "clf_svm.fit(X_train, y_train)"
   ]
  },
  {
   "cell_type": "code",
   "execution_count": 17,
   "id": "106e7a16",
   "metadata": {
    "execution": {
     "iopub.execute_input": "2022-08-29T07:57:23.748471Z",
     "iopub.status.busy": "2022-08-29T07:57:23.747141Z",
     "iopub.status.idle": "2022-08-29T07:57:28.644189Z",
     "shell.execute_reply": "2022-08-29T07:57:28.642795Z"
    },
    "papermill": {
     "duration": 4.911138,
     "end_time": "2022-08-29T07:57:28.646736",
     "exception": false,
     "start_time": "2022-08-29T07:57:23.735598",
     "status": "completed"
    },
    "tags": []
   },
   "outputs": [
    {
     "name": "stdout",
     "output_type": "stream",
     "text": [
      "Accuracy score logistic regression 0.8648843187660669\n",
      "Accuracy score svm 0.912904884318766\n"
     ]
    }
   ],
   "source": [
    "y_pred = clf_logReg.predict(X_test)\n",
    "print(f\"Accuracy score logistic regression {accuracy_score(list(y_test), list(y_pred))}\")\n",
    "\n",
    "y_pred = clf_svm.predict(X_test)\n",
    "print(f\"Accuracy score svm {accuracy_score(list(y_test), list(y_pred))}\")"
   ]
  },
  {
   "cell_type": "code",
   "execution_count": 18,
   "id": "f739d038",
   "metadata": {
    "execution": {
     "iopub.execute_input": "2022-08-29T07:57:28.667707Z",
     "iopub.status.busy": "2022-08-29T07:57:28.667296Z",
     "iopub.status.idle": "2022-08-29T07:57:28.675251Z",
     "shell.execute_reply": "2022-08-29T07:57:28.674239Z"
    },
    "papermill": {
     "duration": 0.021133,
     "end_time": "2022-08-29T07:57:28.677662",
     "exception": false,
     "start_time": "2022-08-29T07:57:28.656529",
     "status": "completed"
    },
    "tags": []
   },
   "outputs": [],
   "source": [
    "def plot_roc_curve(model, X_test, y_test):\n",
    "    y_pred_prob_test = model.predict_proba(X_test)[:, 1]\n",
    "    fpr, tpr, thres = metrics.roc_curve(y_test, y_pred_prob_test)\n",
    "    roc_auc = metrics.auc(fpr, tpr)\n",
    "    plt.figure(figsize = (10, 8))\n",
    "    plt.plot(fpr, tpr, 'b-', color='darkorange', lw=2, linestyle='--', label='ROC curve (area = %0.2f)'%roc_auc)\n",
    "    plt.plot([0, 1], [0, 1], '--')\n",
    "    plt.axis([0, 1, 0, 1])\n",
    "    plt.xlabel('False Positive Rate')\n",
    "    plt.ylabel('True Positive Rate')\n",
    "    plt.legend(loc='lower right')\n",
    "    plt.title('ROC Curve')"
   ]
  },
  {
   "cell_type": "code",
   "execution_count": 19,
   "id": "b8e4b249",
   "metadata": {
    "execution": {
     "iopub.execute_input": "2022-08-29T07:57:28.698626Z",
     "iopub.status.busy": "2022-08-29T07:57:28.697815Z",
     "iopub.status.idle": "2022-08-29T07:57:34.192336Z",
     "shell.execute_reply": "2022-08-29T07:57:34.191152Z"
    },
    "papermill": {
     "duration": 5.507933,
     "end_time": "2022-08-29T07:57:34.195051",
     "exception": false,
     "start_time": "2022-08-29T07:57:28.687118",
     "status": "completed"
    },
    "tags": []
   },
   "outputs": [
    {
     "data": {
      "image/png": "[encoded data removed]",
      "text/plain": [
       "<Figure size 720x576 with 1 Axes>"
      ]
     },
     "metadata": {
      "needs_background": "light"
     },
     "output_type": "display_data"
    },
    {
     "data": {
      "image/png": "[encoded data removed]",
      "text/plain": [
       "<Figure size 720x576 with 1 Axes>"
      ]
     },
     "metadata": {
      "needs_background": "light"
     },
     "output_type": "display_data"
    }
   ],
   "source": [
    "plot_roc_curve(clf_logReg, X_test, y_test)\n",
    "plot_roc_curve(clf_svm, X_test, y_test)"
   ]
  },
  {
   "cell_type": "markdown",
   "id": "e0f433ce",
   "metadata": {
    "papermill": {
     "duration": 0.010395,
     "end_time": "2022-08-29T07:57:34.216584",
     "exception": false,
     "start_time": "2022-08-29T07:57:34.206189",
     "status": "completed"
    },
    "tags": []
   },
   "source": [
    "# Using weight of evidence encoder"
   ]
  },
  {
   "cell_type": "code",
   "execution_count": 20,
   "id": "aae3cb06",
   "metadata": {
    "execution": {
     "iopub.execute_input": "2022-08-29T07:57:34.240318Z",
     "iopub.status.busy": "2022-08-29T07:57:34.239225Z",
     "iopub.status.idle": "2022-08-29T07:57:34.245905Z",
     "shell.execute_reply": "2022-08-29T07:57:34.244848Z"
    },
    "papermill": {
     "duration": 0.021034,
     "end_time": "2022-08-29T07:57:34.248272",
     "exception": false,
     "start_time": "2022-08-29T07:57:34.227238",
     "status": "completed"
    },
    "tags": []
   },
   "outputs": [],
   "source": [
    "data_woe = data.copy()"
   ]
  },
  {
   "cell_type": "code",
   "execution_count": 21,
   "id": "5ad96705",
   "metadata": {
    "execution": {
     "iopub.execute_input": "2022-08-29T07:57:34.271625Z",
     "iopub.status.busy": "2022-08-29T07:57:34.270853Z",
     "iopub.status.idle": "2022-08-29T07:57:34.321920Z",
     "shell.execute_reply": "2022-08-29T07:57:34.320971Z"
    },
    "papermill": {
     "duration": 0.065575,
     "end_time": "2022-08-29T07:57:34.324475",
     "exception": false,
     "start_time": "2022-08-29T07:57:34.258900",
     "status": "completed"
    },
    "tags": []
   },
   "outputs": [
    {
     "data": {
      "text/plain": [
       "0"
      ]
     },
     "execution_count": 21,
     "metadata": {},
     "output_type": "execute_result"
    }
   ],
   "source": [
    "#remove duplicate\n",
    "data_woe = data_woe.drop_duplicates()\n",
    "data_woe.reset_index(drop=True, inplace=True)\n",
    "data_woe.duplicated().sum()"
   ]
  },
  {
   "cell_type": "code",
   "execution_count": 22,
   "id": "b123991e",
   "metadata": {
    "execution": {
     "iopub.execute_input": "2022-08-29T07:57:34.347879Z",
     "iopub.status.busy": "2022-08-29T07:57:34.347515Z",
     "iopub.status.idle": "2022-08-29T07:57:34.356987Z",
     "shell.execute_reply": "2022-08-29T07:57:34.355822Z"
    },
    "papermill": {
     "duration": 0.024034,
     "end_time": "2022-08-29T07:57:34.359438",
     "exception": false,
     "start_time": "2022-08-29T07:57:34.335404",
     "status": "completed"
    },
    "tags": []
   },
   "outputs": [],
   "source": [
    "#fill missing value\n",
    "data_woe[\"person_emp_length\"] = data_woe[\"person_emp_length\"].fillna(data_woe[\"person_emp_length\"].median())\n",
    "data_woe[\"loan_int_rate\"] = data_woe[\"loan_int_rate\"].fillna(data_woe[\"loan_int_rate\"].median())"
   ]
  },
  {
   "cell_type": "code",
   "execution_count": 23,
   "id": "ba7eec99",
   "metadata": {
    "execution": {
     "iopub.execute_input": "2022-08-29T07:57:34.383583Z",
     "iopub.status.busy": "2022-08-29T07:57:34.383139Z",
     "iopub.status.idle": "2022-08-29T07:57:34.401545Z",
     "shell.execute_reply": "2022-08-29T07:57:34.400384Z"
    },
    "papermill": {
     "duration": 0.033657,
     "end_time": "2022-08-29T07:57:34.404164",
     "exception": false,
     "start_time": "2022-08-29T07:57:34.370507",
     "status": "completed"
    },
    "tags": []
   },
   "outputs": [],
   "source": [
    "#train test split\n",
    "y_woe = data_woe.pop(\"loan_status\")\n",
    "X_woe = data_woe\n",
    "X_train_woe, X_test_woe, y_train_woe, y_test_woe = train_test_split(X_woe, y_woe, random_state=42, test_size=0.3)"
   ]
  },
  {
   "cell_type": "code",
   "execution_count": 24,
   "id": "ad753c27",
   "metadata": {
    "execution": {
     "iopub.execute_input": "2022-08-29T07:57:34.427677Z",
     "iopub.status.busy": "2022-08-29T07:57:34.427272Z",
     "iopub.status.idle": "2022-08-29T07:57:34.434397Z",
     "shell.execute_reply": "2022-08-29T07:57:34.433337Z"
    },
    "papermill": {
     "duration": 0.021814,
     "end_time": "2022-08-29T07:57:34.436833",
     "exception": false,
     "start_time": "2022-08-29T07:57:34.415019",
     "status": "completed"
    },
    "tags": []
   },
   "outputs": [
    {
     "data": {
      "text/plain": [
       "((22691, 11), (9725, 11), (22691,), (9725,))"
      ]
     },
     "execution_count": 24,
     "metadata": {},
     "output_type": "execute_result"
    }
   ],
   "source": [
    "X_train_woe.shape, X_test_woe.shape, y_train_woe.shape, y_test_woe.shape"
   ]
  },
  {
   "cell_type": "markdown",
   "id": "af22d25c",
   "metadata": {
    "papermill": {
     "duration": 0.011544,
     "end_time": "2022-08-29T07:57:34.459507",
     "exception": false,
     "start_time": "2022-08-29T07:57:34.447963",
     "status": "completed"
    },
    "tags": []
   },
   "source": [
    "**WOEEncoder**"
   ]
  },
  {
   "cell_type": "code",
   "execution_count": 25,
   "id": "2df81b88",
   "metadata": {
    "execution": {
     "iopub.execute_input": "2022-08-29T07:57:34.483450Z",
     "iopub.status.busy": "2022-08-29T07:57:34.483009Z",
     "iopub.status.idle": "2022-08-29T07:57:35.141103Z",
     "shell.execute_reply": "2022-08-29T07:57:35.140040Z"
    },
    "papermill": {
     "duration": 0.673103,
     "end_time": "2022-08-29T07:57:35.143803",
     "exception": false,
     "start_time": "2022-08-29T07:57:34.470700",
     "status": "completed"
    },
    "tags": []
   },
   "outputs": [],
   "source": [
    "for col in categorical_cols + numerical_cols:\n",
    "    woe=WOEEncoder(cols=[col])\n",
    "        \n",
    "    X_train_woe['woe_'+col]=woe.fit_transform(X_train_woe[col],y_train_woe)\n",
    "    X_test_woe['woe_'+col]=woe.transform(X_test_woe[col])"
   ]
  },
  {
   "cell_type": "code",
   "execution_count": 26,
   "id": "16c9de0c",
   "metadata": {
    "execution": {
     "iopub.execute_input": "2022-08-29T07:57:35.167732Z",
     "iopub.status.busy": "2022-08-29T07:57:35.167303Z",
     "iopub.status.idle": "2022-08-29T07:57:35.174333Z",
     "shell.execute_reply": "2022-08-29T07:57:35.173208Z"
    },
    "papermill": {
     "duration": 0.021644,
     "end_time": "2022-08-29T07:57:35.176682",
     "exception": false,
     "start_time": "2022-08-29T07:57:35.155038",
     "status": "completed"
    },
    "tags": []
   },
   "outputs": [
    {
     "data": {
      "text/plain": [
       "['woe_person_home_ownership',\n",
       " 'woe_loan_intent',\n",
       " 'woe_loan_grade',\n",
       " 'woe_cb_person_default_on_file',\n",
       " 'woe_person_age',\n",
       " 'woe_person_income',\n",
       " 'woe_person_emp_length',\n",
       " 'woe_loan_amnt',\n",
       " 'woe_loan_int_rate',\n",
       " 'woe_loan_percent_income',\n",
       " 'woe_cb_person_cred_hist_length']"
      ]
     },
     "execution_count": 26,
     "metadata": {},
     "output_type": "execute_result"
    }
   ],
   "source": [
    "woe_cols = list(X_train_woe.columns)[-11:]\n",
    "woe_cols"
   ]
  },
  {
   "cell_type": "code",
   "execution_count": 27,
   "id": "54c14c14",
   "metadata": {
    "execution": {
     "iopub.execute_input": "2022-08-29T07:57:35.200386Z",
     "iopub.status.busy": "2022-08-29T07:57:35.199973Z",
     "iopub.status.idle": "2022-08-29T07:57:35.216285Z",
     "shell.execute_reply": "2022-08-29T07:57:35.215099Z"
    },
    "papermill": {
     "duration": 0.031046,
     "end_time": "2022-08-29T07:57:35.218687",
     "exception": false,
     "start_time": "2022-08-29T07:57:35.187641",
     "status": "completed"
    },
    "tags": []
   },
   "outputs": [
    {
     "data": {
      "text/html": [
       "<div>\n",
       "<style scoped>\n",
       "    .dataframe tbody tr th:only-of-type {\n",
       "        vertical-align: middle;\n",
       "    }\n",
       "\n",
       "    .dataframe tbody tr th {\n",
       "        vertical-align: top;\n",
       "    }\n",
       "\n",
       "    .dataframe thead th {\n",
       "        text-align: right;\n",
       "    }\n",
       "</style>\n",
       "<table border=\"1\" class=\"dataframe\">\n",
       "  <thead>\n",
       "    <tr style=\"text-align: right;\">\n",
       "      <th></th>\n",
       "      <th>loan_int_rate</th>\n",
       "      <th>woe_loan_int_rate</th>\n",
       "    </tr>\n",
       "  </thead>\n",
       "  <tbody>\n",
       "    <tr>\n",
       "      <th>30316</th>\n",
       "      <td>15.68</td>\n",
       "      <td>1.791422</td>\n",
       "    </tr>\n",
       "    <tr>\n",
       "      <th>7763</th>\n",
       "      <td>11.34</td>\n",
       "      <td>0.230774</td>\n",
       "    </tr>\n",
       "    <tr>\n",
       "      <th>25942</th>\n",
       "      <td>12.87</td>\n",
       "      <td>0.038090</td>\n",
       "    </tr>\n",
       "    <tr>\n",
       "      <th>11309</th>\n",
       "      <td>8.94</td>\n",
       "      <td>-0.505193</td>\n",
       "    </tr>\n",
       "    <tr>\n",
       "      <th>15963</th>\n",
       "      <td>16.95</td>\n",
       "      <td>2.579879</td>\n",
       "    </tr>\n",
       "    <tr>\n",
       "      <th>...</th>\n",
       "      <td>...</td>\n",
       "      <td>...</td>\n",
       "    </tr>\n",
       "    <tr>\n",
       "      <th>29802</th>\n",
       "      <td>10.99</td>\n",
       "      <td>-0.123826</td>\n",
       "    </tr>\n",
       "    <tr>\n",
       "      <th>5390</th>\n",
       "      <td>6.92</td>\n",
       "      <td>-0.963149</td>\n",
       "    </tr>\n",
       "    <tr>\n",
       "      <th>860</th>\n",
       "      <td>17.99</td>\n",
       "      <td>2.167899</td>\n",
       "    </tr>\n",
       "    <tr>\n",
       "      <th>15795</th>\n",
       "      <td>10.99</td>\n",
       "      <td>-0.123826</td>\n",
       "    </tr>\n",
       "    <tr>\n",
       "      <th>23654</th>\n",
       "      <td>9.51</td>\n",
       "      <td>-0.511163</td>\n",
       "    </tr>\n",
       "  </tbody>\n",
       "</table>\n",
       "<p>22691 rows × 2 columns</p>\n",
       "</div>"
      ],
      "text/plain": [
       "       loan_int_rate  woe_loan_int_rate\n",
       "30316          15.68           1.791422\n",
       "7763           11.34           0.230774\n",
       "25942          12.87           0.038090\n",
       "11309           8.94          -0.505193\n",
       "15963          16.95           2.579879\n",
       "...              ...                ...\n",
       "29802          10.99          -0.123826\n",
       "5390            6.92          -0.963149\n",
       "860            17.99           2.167899\n",
       "15795          10.99          -0.123826\n",
       "23654           9.51          -0.511163\n",
       "\n",
       "[22691 rows x 2 columns]"
      ]
     },
     "execution_count": 27,
     "metadata": {},
     "output_type": "execute_result"
    }
   ],
   "source": [
    "X_train_woe[[\"loan_int_rate\",\"woe_loan_int_rate\"]]"
   ]
  },
  {
   "cell_type": "code",
   "execution_count": 28,
   "id": "e87b8e42",
   "metadata": {
    "execution": {
     "iopub.execute_input": "2022-08-29T07:57:35.243280Z",
     "iopub.status.busy": "2022-08-29T07:57:35.242858Z",
     "iopub.status.idle": "2022-08-29T07:58:28.452360Z",
     "shell.execute_reply": "2022-08-29T07:58:28.451058Z"
    },
    "papermill": {
     "duration": 53.225216,
     "end_time": "2022-08-29T07:58:28.455270",
     "exception": false,
     "start_time": "2022-08-29T07:57:35.230054",
     "status": "completed"
    },
    "tags": []
   },
   "outputs": [],
   "source": [
    "clf_logReg_woe = LogisticRegression(random_state=42).fit(X_train_woe[woe_cols[-11:]], y_train_woe)\n",
    "clf_svm_woe = svm.SVC(probability=True).fit(X_train_woe[woe_cols[-11:]], y_train_woe)"
   ]
  },
  {
   "cell_type": "code",
   "execution_count": 29,
   "id": "cffe4071",
   "metadata": {
    "execution": {
     "iopub.execute_input": "2022-08-29T07:58:28.479712Z",
     "iopub.status.busy": "2022-08-29T07:58:28.479310Z",
     "iopub.status.idle": "2022-08-29T07:58:31.022621Z",
     "shell.execute_reply": "2022-08-29T07:58:31.021407Z"
    },
    "papermill": {
     "duration": 2.558686,
     "end_time": "2022-08-29T07:58:31.025500",
     "exception": false,
     "start_time": "2022-08-29T07:58:28.466814",
     "status": "completed"
    },
    "tags": []
   },
   "outputs": [],
   "source": [
    "y_pre_logReg_woe = clf_logReg_woe.predict(X_test_woe[woe_cols[-11:]])\n",
    "y_pre_svm_woe = clf_svm_woe.predict(X_test_woe[woe_cols[-11:]])"
   ]
  },
  {
   "cell_type": "code",
   "execution_count": 30,
   "id": "a3d56d17",
   "metadata": {
    "execution": {
     "iopub.execute_input": "2022-08-29T07:58:31.050655Z",
     "iopub.status.busy": "2022-08-29T07:58:31.049761Z",
     "iopub.status.idle": "2022-08-29T07:58:31.069263Z",
     "shell.execute_reply": "2022-08-29T07:58:31.067983Z"
    },
    "papermill": {
     "duration": 0.035367,
     "end_time": "2022-08-29T07:58:31.072322",
     "exception": false,
     "start_time": "2022-08-29T07:58:31.036955",
     "status": "completed"
    },
    "tags": []
   },
   "outputs": [
    {
     "name": "stdout",
     "output_type": "stream",
     "text": [
      "Accuracy score logistic regression 0.8930591259640103\n",
      "Accuracy score svm 0.9204113110539845\n"
     ]
    }
   ],
   "source": [
    "print(f\"Accuracy score logistic regression {accuracy_score(list(y_test_woe), list(y_pre_logReg_woe))}\")\n",
    "print(f\"Accuracy score svm {accuracy_score(list(y_test_woe), list(y_pre_svm_woe))}\")"
   ]
  },
  {
   "cell_type": "code",
   "execution_count": 31,
   "id": "f5ca89a8",
   "metadata": {
    "execution": {
     "iopub.execute_input": "2022-08-29T07:58:31.099303Z",
     "iopub.status.busy": "2022-08-29T07:58:31.098853Z",
     "iopub.status.idle": "2022-08-29T07:58:34.185469Z",
     "shell.execute_reply": "2022-08-29T07:58:34.184487Z"
    },
    "papermill": {
     "duration": 3.102682,
     "end_time": "2022-08-29T07:58:34.188383",
     "exception": false,
     "start_time": "2022-08-29T07:58:31.085701",
     "status": "completed"
    },
    "tags": []
   },
   "outputs": [
    {
     "data": {
      "image/png": "[encoded data removed]",
      "text/plain": [
       "<Figure size 720x576 with 1 Axes>"
      ]
     },
     "metadata": {
      "needs_background": "light"
     },
     "output_type": "display_data"
    },
    {
     "data": {
      "image/png": "[encoded data removed]",
      "text/plain": [
       "<Figure size 720x576 with 1 Axes>"
      ]
     },
     "metadata": {
      "needs_background": "light"
     },
     "output_type": "display_data"
    }
   ],
   "source": [
    "from sklearn.metrics import roc_curve, auc\n",
    "\n",
    "\n",
    "plot_roc_curve(clf_logReg_woe, X_test_woe[woe_cols[-11:]], y_test_woe)\n",
    "plot_roc_curve(clf_svm_woe, X_test_woe[woe_cols[-11:]], y_test_woe)"
   ]
  }
 ],
 "metadata": {
  "kernelspec": {
   "display_name": "Python 3",
   "language": "python",
   "name": "python3"
  },
  "language_info": {
   "codemirror_mode": {
    "name": "ipython",
    "version": 3
   },
   "file_extension": ".py",
   "mimetype": "text/x-python",
   "name": "python",
   "nbconvert_exporter": "python",
   "pygments_lexer": "ipython3",
   "version": "3.7.12"
  },
  "papermill": {
   "default_parameters": {},
   "duration": 173.81077,
   "end_time": "2022-08-29T07:58:35.025275",
   "environment_variables": {},
   "exception": null,
   "input_path": "__notebook__.ipynb",
   "output_path": "__notebook__.ipynb",
   "parameters": {},
   "start_time": "2022-08-29T07:55:41.214505",
   "version": "2.3.4"
  }
 },
 "nbformat": 4,
 "nbformat_minor": 5
}
