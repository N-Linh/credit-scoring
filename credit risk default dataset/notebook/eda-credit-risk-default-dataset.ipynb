{
 "cells": [
  {
   "cell_type": "code",
   "execution_count": 1,
   "id": "2b3bc5ca",
   "metadata": {
    "_cell_guid": "b1076dfc-b9ad-4769-8c92-a6c4dae69d19",
    "_uuid": "8f2839f25d086af736a60e9eeb907d3b93b6e0e5",
    "execution": {
     "iopub.execute_input": "2022-08-29T07:50:17.805953Z",
     "iopub.status.busy": "2022-08-29T07:50:17.805099Z",
     "iopub.status.idle": "2022-08-29T07:50:19.184508Z",
     "shell.execute_reply": "2022-08-29T07:50:19.183431Z"
    },
    "papermill": {
     "duration": 1.398581,
     "end_time": "2022-08-29T07:50:19.187409",
     "exception": false,
     "start_time": "2022-08-29T07:50:17.788828",
     "status": "completed"
    },
    "tags": []
   },
   "outputs": [
    {
     "name": "stdout",
     "output_type": "stream",
     "text": [
      "/kaggle/input/credit-risk-dataset/credit_risk_dataset.csv\n"
     ]
    }
   ],
   "source": [
    "\n",
    "\n",
    "import numpy as np # linear algebra\n",
    "import pandas as pd # data processing, CSV file I/O (e.g. pd.read_csv)\n",
    "import matplotlib.pyplot as plt\n",
    "import seaborn as sns\n",
    "from scipy.stats import skew\n",
    "from scipy.stats import kurtosis\n",
    "import scipy.stats as stats\n",
    "from sklearn import preprocessing\n",
    "from itertools import combinations\n",
    "from scipy.stats import chi2_contingency\n",
    "import warnings\n",
    "import pandas as pd\n",
    "import missingno as msno\n",
    "warnings.filterwarnings(\"ignore\")\n",
    "\n",
    "\n",
    "import os\n",
    "for dirname, _, filenames in os.walk('/kaggle/input'):\n",
    "    for filename in filenames:\n",
    "        print(os.path.join(dirname, filename))\n"
   ]
  },
  {
   "cell_type": "code",
   "execution_count": 2,
   "id": "8f5436a1",
   "metadata": {
    "execution": {
     "iopub.execute_input": "2022-08-29T07:50:19.216788Z",
     "iopub.status.busy": "2022-08-29T07:50:19.215985Z",
     "iopub.status.idle": "2022-08-29T07:50:19.299844Z",
     "shell.execute_reply": "2022-08-29T07:50:19.298559Z"
    },
    "papermill": {
     "duration": 0.101727,
     "end_time": "2022-08-29T07:50:19.302880",
     "exception": false,
     "start_time": "2022-08-29T07:50:19.201153",
     "status": "completed"
    },
    "tags": []
   },
   "outputs": [],
   "source": [
    "#importing dataset\n",
    "data = pd.read_csv('/kaggle/input/credit-risk-dataset/credit_risk_dataset.csv')\n",
    "data_copy = data.copy()"
   ]
  },
  {
   "cell_type": "code",
   "execution_count": 3,
   "id": "602037ef",
   "metadata": {
    "execution": {
     "iopub.execute_input": "2022-08-29T07:50:19.333674Z",
     "iopub.status.busy": "2022-08-29T07:50:19.332821Z",
     "iopub.status.idle": "2022-08-29T07:50:19.360913Z",
     "shell.execute_reply": "2022-08-29T07:50:19.359339Z"
    },
    "papermill": {
     "duration": 0.047064,
     "end_time": "2022-08-29T07:50:19.363554",
     "exception": false,
     "start_time": "2022-08-29T07:50:19.316490",
     "status": "completed"
    },
    "tags": []
   },
   "outputs": [
    {
     "data": {
      "text/html": [
       "<div>\n",
       "<style scoped>\n",
       "    .dataframe tbody tr th:only-of-type {\n",
       "        vertical-align: middle;\n",
       "    }\n",
       "\n",
       "    .dataframe tbody tr th {\n",
       "        vertical-align: top;\n",
       "    }\n",
       "\n",
       "    .dataframe thead th {\n",
       "        text-align: right;\n",
       "    }\n",
       "</style>\n",
       "<table border=\"1\" class=\"dataframe\">\n",
       "  <thead>\n",
       "    <tr style=\"text-align: right;\">\n",
       "      <th></th>\n",
       "      <th>person_age</th>\n",
       "      <th>person_income</th>\n",
       "      <th>person_home_ownership</th>\n",
       "      <th>person_emp_length</th>\n",
       "      <th>loan_intent</th>\n",
       "      <th>loan_grade</th>\n",
       "      <th>loan_amnt</th>\n",
       "      <th>loan_int_rate</th>\n",
       "      <th>loan_status</th>\n",
       "      <th>loan_percent_income</th>\n",
       "      <th>cb_person_default_on_file</th>\n",
       "      <th>cb_person_cred_hist_length</th>\n",
       "    </tr>\n",
       "  </thead>\n",
       "  <tbody>\n",
       "    <tr>\n",
       "      <th>0</th>\n",
       "      <td>22</td>\n",
       "      <td>59000</td>\n",
       "      <td>RENT</td>\n",
       "      <td>123.0</td>\n",
       "      <td>PERSONAL</td>\n",
       "      <td>D</td>\n",
       "      <td>35000</td>\n",
       "      <td>16.02</td>\n",
       "      <td>1</td>\n",
       "      <td>0.59</td>\n",
       "      <td>Y</td>\n",
       "      <td>3</td>\n",
       "    </tr>\n",
       "    <tr>\n",
       "      <th>1</th>\n",
       "      <td>21</td>\n",
       "      <td>9600</td>\n",
       "      <td>OWN</td>\n",
       "      <td>5.0</td>\n",
       "      <td>EDUCATION</td>\n",
       "      <td>B</td>\n",
       "      <td>1000</td>\n",
       "      <td>11.14</td>\n",
       "      <td>0</td>\n",
       "      <td>0.10</td>\n",
       "      <td>N</td>\n",
       "      <td>2</td>\n",
       "    </tr>\n",
       "    <tr>\n",
       "      <th>2</th>\n",
       "      <td>25</td>\n",
       "      <td>9600</td>\n",
       "      <td>MORTGAGE</td>\n",
       "      <td>1.0</td>\n",
       "      <td>MEDICAL</td>\n",
       "      <td>C</td>\n",
       "      <td>5500</td>\n",
       "      <td>12.87</td>\n",
       "      <td>1</td>\n",
       "      <td>0.57</td>\n",
       "      <td>N</td>\n",
       "      <td>3</td>\n",
       "    </tr>\n",
       "    <tr>\n",
       "      <th>3</th>\n",
       "      <td>23</td>\n",
       "      <td>65500</td>\n",
       "      <td>RENT</td>\n",
       "      <td>4.0</td>\n",
       "      <td>MEDICAL</td>\n",
       "      <td>C</td>\n",
       "      <td>35000</td>\n",
       "      <td>15.23</td>\n",
       "      <td>1</td>\n",
       "      <td>0.53</td>\n",
       "      <td>N</td>\n",
       "      <td>2</td>\n",
       "    </tr>\n",
       "    <tr>\n",
       "      <th>4</th>\n",
       "      <td>24</td>\n",
       "      <td>54400</td>\n",
       "      <td>RENT</td>\n",
       "      <td>8.0</td>\n",
       "      <td>MEDICAL</td>\n",
       "      <td>C</td>\n",
       "      <td>35000</td>\n",
       "      <td>14.27</td>\n",
       "      <td>1</td>\n",
       "      <td>0.55</td>\n",
       "      <td>Y</td>\n",
       "      <td>4</td>\n",
       "    </tr>\n",
       "  </tbody>\n",
       "</table>\n",
       "</div>"
      ],
      "text/plain": [
       "   person_age  person_income person_home_ownership  person_emp_length  \\\n",
       "0          22          59000                  RENT              123.0   \n",
       "1          21           9600                   OWN                5.0   \n",
       "2          25           9600              MORTGAGE                1.0   \n",
       "3          23          65500                  RENT                4.0   \n",
       "4          24          54400                  RENT                8.0   \n",
       "\n",
       "  loan_intent loan_grade  loan_amnt  loan_int_rate  loan_status  \\\n",
       "0    PERSONAL          D      35000          16.02            1   \n",
       "1   EDUCATION          B       1000          11.14            0   \n",
       "2     MEDICAL          C       5500          12.87            1   \n",
       "3     MEDICAL          C      35000          15.23            1   \n",
       "4     MEDICAL          C      35000          14.27            1   \n",
       "\n",
       "   loan_percent_income cb_person_default_on_file  cb_person_cred_hist_length  \n",
       "0                 0.59                         Y                           3  \n",
       "1                 0.10                         N                           2  \n",
       "2                 0.57                         N                           3  \n",
       "3                 0.53                         N                           2  \n",
       "4                 0.55                         Y                           4  "
      ]
     },
     "execution_count": 3,
     "metadata": {},
     "output_type": "execute_result"
    }
   ],
   "source": [
    "data_copy.head()"
   ]
  },
  {
   "cell_type": "code",
   "execution_count": 4,
   "id": "c0a12df3",
   "metadata": {
    "execution": {
     "iopub.execute_input": "2022-08-29T07:50:19.393597Z",
     "iopub.status.busy": "2022-08-29T07:50:19.393147Z",
     "iopub.status.idle": "2022-08-29T07:50:19.399219Z",
     "shell.execute_reply": "2022-08-29T07:50:19.397948Z"
    },
    "papermill": {
     "duration": 0.024087,
     "end_time": "2022-08-29T07:50:19.401820",
     "exception": false,
     "start_time": "2022-08-29T07:50:19.377733",
     "status": "completed"
    },
    "tags": []
   },
   "outputs": [
    {
     "name": "stdout",
     "output_type": "stream",
     "text": [
      "data.shape : (32581, 12)\n"
     ]
    }
   ],
   "source": [
    "print(\"data.shape : {}\".format(data_copy.shape))"
   ]
  },
  {
   "cell_type": "markdown",
   "id": "e19418fa",
   "metadata": {
    "papermill": {
     "duration": 0.014852,
     "end_time": "2022-08-29T07:50:19.430231",
     "exception": false,
     "start_time": "2022-08-29T07:50:19.415379",
     "status": "completed"
    },
    "tags": []
   },
   "source": [
    "# Meaning of all data fields\n",
    "* loan_status: the target variable, contain binary value 0 or 1, 0-not default, 1-default -> categorical\n",
    "* person_age: customer's age -> numerical\n",
    "* person_imcome: anual imcome -> numerical\n",
    "* person_home_ownership: \n",
    "* person_emp_length: number of employment -> numerical\n",
    "* loan_intent: purpose of loan -> categorical\n",
    "* loan_amnt: amount of loan -> numerical\n",
    "* loan_grade: grade of loan -> categorical\n",
    "* loan_int_rate: interest rate -> numerical\n",
    "* loan_percent_income: ratio of amount of loan and anual income -> numerical\n",
    "* cb_person_default_on_file: history of default? yes or no -> categorical\n",
    "* cb_person_cred_hist_length: number of year open crdit -> numerical"
   ]
  },
  {
   "cell_type": "markdown",
   "id": "183be53a",
   "metadata": {
    "papermill": {
     "duration": 0.013231,
     "end_time": "2022-08-29T07:50:19.457269",
     "exception": false,
     "start_time": "2022-08-29T07:50:19.444038",
     "status": "completed"
    },
    "tags": []
   },
   "source": [
    "# Check duplicate"
   ]
  },
  {
   "cell_type": "code",
   "execution_count": 5,
   "id": "48505426",
   "metadata": {
    "execution": {
     "iopub.execute_input": "2022-08-29T07:50:19.486504Z",
     "iopub.status.busy": "2022-08-29T07:50:19.485866Z",
     "iopub.status.idle": "2022-08-29T07:50:19.522155Z",
     "shell.execute_reply": "2022-08-29T07:50:19.520784Z"
    },
    "papermill": {
     "duration": 0.054089,
     "end_time": "2022-08-29T07:50:19.524893",
     "exception": false,
     "start_time": "2022-08-29T07:50:19.470804",
     "status": "completed"
    },
    "tags": []
   },
   "outputs": [
    {
     "data": {
      "text/plain": [
       "330"
      ]
     },
     "execution_count": 5,
     "metadata": {},
     "output_type": "execute_result"
    }
   ],
   "source": [
    "data_copy.duplicated(keep=False).sum()"
   ]
  },
  {
   "cell_type": "markdown",
   "id": "6213e523",
   "metadata": {
    "papermill": {
     "duration": 0.013776,
     "end_time": "2022-08-29T07:50:19.552345",
     "exception": false,
     "start_time": "2022-08-29T07:50:19.538569",
     "status": "completed"
    },
    "tags": []
   },
   "source": [
    "# Check missing value"
   ]
  },
  {
   "cell_type": "code",
   "execution_count": 6,
   "id": "e1124a8f",
   "metadata": {
    "execution": {
     "iopub.execute_input": "2022-08-29T07:50:19.582198Z",
     "iopub.status.busy": "2022-08-29T07:50:19.581097Z",
     "iopub.status.idle": "2022-08-29T07:50:20.668550Z",
     "shell.execute_reply": "2022-08-29T07:50:20.667364Z"
    },
    "papermill": {
     "duration": 1.105619,
     "end_time": "2022-08-29T07:50:20.671672",
     "exception": false,
     "start_time": "2022-08-29T07:50:19.566053",
     "status": "completed"
    },
    "tags": []
   },
   "outputs": [
    {
     "data": {
      "text/plain": [
       "<AxesSubplot:>"
      ]
     },
     "execution_count": 6,
     "metadata": {},
     "output_type": "execute_result"
    },
    {
     "data": {
      "image/png": "[encoded data removed]",
      "text/plain": [
       "<Figure size 1728x720 with 3 Axes>"
      ]
     },
     "metadata": {
      "needs_background": "light"
     },
     "output_type": "display_data"
    }
   ],
   "source": [
    "msno.bar(data_copy)"
   ]
  },
  {
   "cell_type": "code",
   "execution_count": 7,
   "id": "a6ac8618",
   "metadata": {
    "execution": {
     "iopub.execute_input": "2022-08-29T07:50:20.703677Z",
     "iopub.status.busy": "2022-08-29T07:50:20.703163Z",
     "iopub.status.idle": "2022-08-29T07:50:20.720756Z",
     "shell.execute_reply": "2022-08-29T07:50:20.719733Z"
    },
    "papermill": {
     "duration": 0.036708,
     "end_time": "2022-08-29T07:50:20.723597",
     "exception": false,
     "start_time": "2022-08-29T07:50:20.686889",
     "status": "completed"
    },
    "tags": []
   },
   "outputs": [
    {
     "data": {
      "text/plain": [
       "person_age                    0.000000\n",
       "person_income                 0.000000\n",
       "person_home_ownership         0.000000\n",
       "person_emp_length             2.747000\n",
       "loan_intent                   0.000000\n",
       "loan_grade                    0.000000\n",
       "loan_amnt                     0.000000\n",
       "loan_int_rate                 9.563856\n",
       "loan_status                   0.000000\n",
       "loan_percent_income           0.000000\n",
       "cb_person_default_on_file     0.000000\n",
       "cb_person_cred_hist_length    0.000000\n",
       "dtype: float64"
      ]
     },
     "execution_count": 7,
     "metadata": {},
     "output_type": "execute_result"
    }
   ],
   "source": [
    "(data_copy.isnull().sum()/len(data_copy))*100"
   ]
  },
  {
   "cell_type": "markdown",
   "id": "97774d84",
   "metadata": {
    "papermill": {
     "duration": 0.014567,
     "end_time": "2022-08-29T07:50:20.753667",
     "exception": false,
     "start_time": "2022-08-29T07:50:20.739100",
     "status": "completed"
    },
    "tags": []
   },
   "source": [
    "* columns have missing value: 'person_emp_length', 'loan_int_rate'\n",
    "* missing value < 30%"
   ]
  },
  {
   "cell_type": "markdown",
   "id": "fd0e5748",
   "metadata": {
    "papermill": {
     "duration": 0.014462,
     "end_time": "2022-08-29T07:50:20.783189",
     "exception": false,
     "start_time": "2022-08-29T07:50:20.768727",
     "status": "completed"
    },
    "tags": []
   },
   "source": [
    "### Types of Data\n",
    "\n",
    "**target variable is loan_status column**"
   ]
  },
  {
   "cell_type": "code",
   "execution_count": 8,
   "id": "90d5e349",
   "metadata": {
    "execution": {
     "iopub.execute_input": "2022-08-29T07:50:20.815118Z",
     "iopub.status.busy": "2022-08-29T07:50:20.814712Z",
     "iopub.status.idle": "2022-08-29T07:50:20.823517Z",
     "shell.execute_reply": "2022-08-29T07:50:20.822347Z"
    },
    "papermill": {
     "duration": 0.027417,
     "end_time": "2022-08-29T07:50:20.825646",
     "exception": false,
     "start_time": "2022-08-29T07:50:20.798229",
     "status": "completed"
    },
    "tags": []
   },
   "outputs": [
    {
     "data": {
      "text/plain": [
       "0    1\n",
       "1    0\n",
       "2    1\n",
       "3    1\n",
       "4    1\n",
       "Name: loan_status, dtype: int64"
      ]
     },
     "execution_count": 8,
     "metadata": {},
     "output_type": "execute_result"
    }
   ],
   "source": [
    "data_copy[\"loan_status\"].head()"
   ]
  },
  {
   "cell_type": "code",
   "execution_count": 9,
   "id": "06c2fc05",
   "metadata": {
    "execution": {
     "iopub.execute_input": "2022-08-29T07:50:20.857604Z",
     "iopub.status.busy": "2022-08-29T07:50:20.856790Z",
     "iopub.status.idle": "2022-08-29T07:50:20.864917Z",
     "shell.execute_reply": "2022-08-29T07:50:20.864105Z"
    },
    "papermill": {
     "duration": 0.026571,
     "end_time": "2022-08-29T07:50:20.867018",
     "exception": false,
     "start_time": "2022-08-29T07:50:20.840447",
     "status": "completed"
    },
    "tags": []
   },
   "outputs": [
    {
     "data": {
      "text/plain": [
       "0    25473\n",
       "1     7108\n",
       "Name: loan_status, dtype: int64"
      ]
     },
     "execution_count": 9,
     "metadata": {},
     "output_type": "execute_result"
    }
   ],
   "source": [
    "data_copy[\"loan_status\"].value_counts()"
   ]
  },
  {
   "cell_type": "code",
   "execution_count": 10,
   "id": "79b265e2",
   "metadata": {
    "execution": {
     "iopub.execute_input": "2022-08-29T07:50:20.898841Z",
     "iopub.status.busy": "2022-08-29T07:50:20.898394Z",
     "iopub.status.idle": "2022-08-29T07:50:21.077467Z",
     "shell.execute_reply": "2022-08-29T07:50:21.076338Z"
    },
    "papermill": {
     "duration": 0.198136,
     "end_time": "2022-08-29T07:50:21.080235",
     "exception": false,
     "start_time": "2022-08-29T07:50:20.882099",
     "status": "completed"
    },
    "tags": []
   },
   "outputs": [
    {
     "data": {
      "text/plain": [
       "<AxesSubplot:xlabel='loan_status', ylabel='count'>"
      ]
     },
     "execution_count": 10,
     "metadata": {},
     "output_type": "execute_result"
    },
    {
     "data": {
      "image/png": "[encoded data removed]",
      "text/plain": [
       "<Figure size 432x288 with 1 Axes>"
      ]
     },
     "metadata": {
      "needs_background": "light"
     },
     "output_type": "display_data"
    }
   ],
   "source": [
    "sns.countplot(data_copy[\"loan_status\"])"
   ]
  },
  {
   "cell_type": "code",
   "execution_count": 11,
   "id": "b6941d67",
   "metadata": {
    "execution": {
     "iopub.execute_input": "2022-08-29T07:50:21.112796Z",
     "iopub.status.busy": "2022-08-29T07:50:21.112347Z",
     "iopub.status.idle": "2022-08-29T07:50:21.138318Z",
     "shell.execute_reply": "2022-08-29T07:50:21.136487Z"
    },
    "papermill": {
     "duration": 0.045097,
     "end_time": "2022-08-29T07:50:21.140851",
     "exception": false,
     "start_time": "2022-08-29T07:50:21.095754",
     "status": "completed"
    },
    "tags": []
   },
   "outputs": [
    {
     "name": "stdout",
     "output_type": "stream",
     "text": [
      "<class 'pandas.core.frame.DataFrame'>\n",
      "RangeIndex: 32581 entries, 0 to 32580\n",
      "Data columns (total 12 columns):\n",
      " #   Column                      Non-Null Count  Dtype  \n",
      "---  ------                      --------------  -----  \n",
      " 0   person_age                  32581 non-null  int64  \n",
      " 1   person_income               32581 non-null  int64  \n",
      " 2   person_home_ownership       32581 non-null  object \n",
      " 3   person_emp_length           31686 non-null  float64\n",
      " 4   loan_intent                 32581 non-null  object \n",
      " 5   loan_grade                  32581 non-null  object \n",
      " 6   loan_amnt                   32581 non-null  int64  \n",
      " 7   loan_int_rate               29465 non-null  float64\n",
      " 8   loan_status                 32581 non-null  int64  \n",
      " 9   loan_percent_income         32581 non-null  float64\n",
      " 10  cb_person_default_on_file   32581 non-null  object \n",
      " 11  cb_person_cred_hist_length  32581 non-null  int64  \n",
      "dtypes: float64(3), int64(5), object(4)\n",
      "memory usage: 3.0+ MB\n"
     ]
    }
   ],
   "source": [
    "data_copy.info()"
   ]
  },
  {
   "cell_type": "code",
   "execution_count": 12,
   "id": "0c5aab04",
   "metadata": {
    "execution": {
     "iopub.execute_input": "2022-08-29T07:50:21.173884Z",
     "iopub.status.busy": "2022-08-29T07:50:21.173020Z",
     "iopub.status.idle": "2022-08-29T07:50:21.180465Z",
     "shell.execute_reply": "2022-08-29T07:50:21.179367Z"
    },
    "papermill": {
     "duration": 0.026328,
     "end_time": "2022-08-29T07:50:21.182661",
     "exception": false,
     "start_time": "2022-08-29T07:50:21.156333",
     "status": "completed"
    },
    "tags": []
   },
   "outputs": [
    {
     "data": {
      "text/plain": [
       "Index(['person_age', 'person_income', 'person_home_ownership',\n",
       "       'person_emp_length', 'loan_intent', 'loan_grade', 'loan_amnt',\n",
       "       'loan_int_rate', 'loan_status', 'loan_percent_income',\n",
       "       'cb_person_default_on_file', 'cb_person_cred_hist_length'],\n",
       "      dtype='object')"
      ]
     },
     "execution_count": 12,
     "metadata": {},
     "output_type": "execute_result"
    }
   ],
   "source": [
    "data_copy.columns"
   ]
  },
  {
   "cell_type": "code",
   "execution_count": 13,
   "id": "8e726a6f",
   "metadata": {
    "execution": {
     "iopub.execute_input": "2022-08-29T07:50:21.215938Z",
     "iopub.status.busy": "2022-08-29T07:50:21.215471Z",
     "iopub.status.idle": "2022-08-29T07:50:21.220568Z",
     "shell.execute_reply": "2022-08-29T07:50:21.219637Z"
    },
    "papermill": {
     "duration": 0.024574,
     "end_time": "2022-08-29T07:50:21.222755",
     "exception": false,
     "start_time": "2022-08-29T07:50:21.198181",
     "status": "completed"
    },
    "tags": []
   },
   "outputs": [],
   "source": [
    "numerical = ['person_age', 'person_income', 'person_emp_length', 'loan_amnt','loan_int_rate', 'loan_percent_income', 'cb_person_cred_hist_length']\n",
    "categorical = ['person_home_ownership', 'loan_intent','loan_grade','loan_status','cb_person_default_on_file']"
   ]
  },
  {
   "cell_type": "markdown",
   "id": "40f08ae2",
   "metadata": {
    "papermill": {
     "duration": 0.015116,
     "end_time": "2022-08-29T07:50:21.253348",
     "exception": false,
     "start_time": "2022-08-29T07:50:21.238232",
     "status": "completed"
    },
    "tags": []
   },
   "source": [
    "# Summary of numerical data"
   ]
  },
  {
   "cell_type": "code",
   "execution_count": 14,
   "id": "1e90f826",
   "metadata": {
    "execution": {
     "iopub.execute_input": "2022-08-29T07:50:21.287521Z",
     "iopub.status.busy": "2022-08-29T07:50:21.286767Z",
     "iopub.status.idle": "2022-08-29T07:50:21.334519Z",
     "shell.execute_reply": "2022-08-29T07:50:21.333656Z"
    },
    "papermill": {
     "duration": 0.067242,
     "end_time": "2022-08-29T07:50:21.336806",
     "exception": false,
     "start_time": "2022-08-29T07:50:21.269564",
     "status": "completed"
    },
    "tags": []
   },
   "outputs": [
    {
     "data": {
      "text/html": [
       "<div>\n",
       "<style scoped>\n",
       "    .dataframe tbody tr th:only-of-type {\n",
       "        vertical-align: middle;\n",
       "    }\n",
       "\n",
       "    .dataframe tbody tr th {\n",
       "        vertical-align: top;\n",
       "    }\n",
       "\n",
       "    .dataframe thead th {\n",
       "        text-align: right;\n",
       "    }\n",
       "</style>\n",
       "<table border=\"1\" class=\"dataframe\">\n",
       "  <thead>\n",
       "    <tr style=\"text-align: right;\">\n",
       "      <th></th>\n",
       "      <th>person_age</th>\n",
       "      <th>person_income</th>\n",
       "      <th>person_emp_length</th>\n",
       "      <th>loan_amnt</th>\n",
       "      <th>loan_int_rate</th>\n",
       "      <th>loan_status</th>\n",
       "      <th>loan_percent_income</th>\n",
       "      <th>cb_person_cred_hist_length</th>\n",
       "    </tr>\n",
       "  </thead>\n",
       "  <tbody>\n",
       "    <tr>\n",
       "      <th>count</th>\n",
       "      <td>32581.000000</td>\n",
       "      <td>3.258100e+04</td>\n",
       "      <td>31686.000000</td>\n",
       "      <td>32581.000000</td>\n",
       "      <td>29465.000000</td>\n",
       "      <td>32581.000000</td>\n",
       "      <td>32581.000000</td>\n",
       "      <td>32581.000000</td>\n",
       "    </tr>\n",
       "    <tr>\n",
       "      <th>mean</th>\n",
       "      <td>27.734600</td>\n",
       "      <td>6.607485e+04</td>\n",
       "      <td>4.789686</td>\n",
       "      <td>9589.371106</td>\n",
       "      <td>11.011695</td>\n",
       "      <td>0.218164</td>\n",
       "      <td>0.170203</td>\n",
       "      <td>5.804211</td>\n",
       "    </tr>\n",
       "    <tr>\n",
       "      <th>std</th>\n",
       "      <td>6.348078</td>\n",
       "      <td>6.198312e+04</td>\n",
       "      <td>4.142630</td>\n",
       "      <td>6322.086646</td>\n",
       "      <td>3.240459</td>\n",
       "      <td>0.413006</td>\n",
       "      <td>0.106782</td>\n",
       "      <td>4.055001</td>\n",
       "    </tr>\n",
       "    <tr>\n",
       "      <th>min</th>\n",
       "      <td>20.000000</td>\n",
       "      <td>4.000000e+03</td>\n",
       "      <td>0.000000</td>\n",
       "      <td>500.000000</td>\n",
       "      <td>5.420000</td>\n",
       "      <td>0.000000</td>\n",
       "      <td>0.000000</td>\n",
       "      <td>2.000000</td>\n",
       "    </tr>\n",
       "    <tr>\n",
       "      <th>25%</th>\n",
       "      <td>23.000000</td>\n",
       "      <td>3.850000e+04</td>\n",
       "      <td>2.000000</td>\n",
       "      <td>5000.000000</td>\n",
       "      <td>7.900000</td>\n",
       "      <td>0.000000</td>\n",
       "      <td>0.090000</td>\n",
       "      <td>3.000000</td>\n",
       "    </tr>\n",
       "    <tr>\n",
       "      <th>50%</th>\n",
       "      <td>26.000000</td>\n",
       "      <td>5.500000e+04</td>\n",
       "      <td>4.000000</td>\n",
       "      <td>8000.000000</td>\n",
       "      <td>10.990000</td>\n",
       "      <td>0.000000</td>\n",
       "      <td>0.150000</td>\n",
       "      <td>4.000000</td>\n",
       "    </tr>\n",
       "    <tr>\n",
       "      <th>75%</th>\n",
       "      <td>30.000000</td>\n",
       "      <td>7.920000e+04</td>\n",
       "      <td>7.000000</td>\n",
       "      <td>12200.000000</td>\n",
       "      <td>13.470000</td>\n",
       "      <td>0.000000</td>\n",
       "      <td>0.230000</td>\n",
       "      <td>8.000000</td>\n",
       "    </tr>\n",
       "    <tr>\n",
       "      <th>max</th>\n",
       "      <td>144.000000</td>\n",
       "      <td>6.000000e+06</td>\n",
       "      <td>123.000000</td>\n",
       "      <td>35000.000000</td>\n",
       "      <td>23.220000</td>\n",
       "      <td>1.000000</td>\n",
       "      <td>0.830000</td>\n",
       "      <td>30.000000</td>\n",
       "    </tr>\n",
       "  </tbody>\n",
       "</table>\n",
       "</div>"
      ],
      "text/plain": [
       "         person_age  person_income  person_emp_length     loan_amnt  \\\n",
       "count  32581.000000   3.258100e+04       31686.000000  32581.000000   \n",
       "mean      27.734600   6.607485e+04           4.789686   9589.371106   \n",
       "std        6.348078   6.198312e+04           4.142630   6322.086646   \n",
       "min       20.000000   4.000000e+03           0.000000    500.000000   \n",
       "25%       23.000000   3.850000e+04           2.000000   5000.000000   \n",
       "50%       26.000000   5.500000e+04           4.000000   8000.000000   \n",
       "75%       30.000000   7.920000e+04           7.000000  12200.000000   \n",
       "max      144.000000   6.000000e+06         123.000000  35000.000000   \n",
       "\n",
       "       loan_int_rate   loan_status  loan_percent_income  \\\n",
       "count   29465.000000  32581.000000         32581.000000   \n",
       "mean       11.011695      0.218164             0.170203   \n",
       "std         3.240459      0.413006             0.106782   \n",
       "min         5.420000      0.000000             0.000000   \n",
       "25%         7.900000      0.000000             0.090000   \n",
       "50%        10.990000      0.000000             0.150000   \n",
       "75%        13.470000      0.000000             0.230000   \n",
       "max        23.220000      1.000000             0.830000   \n",
       "\n",
       "       cb_person_cred_hist_length  \n",
       "count                32581.000000  \n",
       "mean                     5.804211  \n",
       "std                      4.055001  \n",
       "min                      2.000000  \n",
       "25%                      3.000000  \n",
       "50%                      4.000000  \n",
       "75%                      8.000000  \n",
       "max                     30.000000  "
      ]
     },
     "execution_count": 14,
     "metadata": {},
     "output_type": "execute_result"
    }
   ],
   "source": [
    "data_copy.describe()"
   ]
  },
  {
   "cell_type": "markdown",
   "id": "ab6de52f",
   "metadata": {
    "papermill": {
     "duration": 0.016569,
     "end_time": "2022-08-29T07:50:21.369303",
     "exception": false,
     "start_time": "2022-08-29T07:50:21.352734",
     "status": "completed"
    },
    "tags": []
   },
   "source": [
    "* person_emp_length, loan_int_rate have count < 32581 -> missing value\n",
    "* person_age, person_income, person_emp_lengt have maximum value is quite far from 75th percentile value -> seem skewness."
   ]
  },
  {
   "cell_type": "code",
   "execution_count": 15,
   "id": "4e00ee6b",
   "metadata": {
    "execution": {
     "iopub.execute_input": "2022-08-29T07:50:21.403240Z",
     "iopub.status.busy": "2022-08-29T07:50:21.402428Z",
     "iopub.status.idle": "2022-08-29T07:50:23.128677Z",
     "shell.execute_reply": "2022-08-29T07:50:23.127794Z"
    },
    "papermill": {
     "duration": 1.74589,
     "end_time": "2022-08-29T07:50:23.130972",
     "exception": false,
     "start_time": "2022-08-29T07:50:21.385082",
     "status": "completed"
    },
    "tags": []
   },
   "outputs": [
    {
     "data": {
      "text/plain": [
       "array([[<AxesSubplot:title={'center':'person_age'}>,\n",
       "        <AxesSubplot:title={'center':'person_income'}>,\n",
       "        <AxesSubplot:title={'center':'person_emp_length'}>],\n",
       "       [<AxesSubplot:title={'center':'loan_amnt'}>,\n",
       "        <AxesSubplot:title={'center':'loan_int_rate'}>,\n",
       "        <AxesSubplot:title={'center':'loan_percent_income'}>],\n",
       "       [<AxesSubplot:title={'center':'cb_person_cred_hist_length'}>,\n",
       "        <AxesSubplot:>, <AxesSubplot:>]], dtype=object)"
      ]
     },
     "execution_count": 15,
     "metadata": {},
     "output_type": "execute_result"
    },
    {
     "data": {
      "image/png": "[encoded data removed]",
      "text/plain": [
       "<Figure size 1080x1080 with 9 Axes>"
      ]
     },
     "metadata": {
      "needs_background": "light"
     },
     "output_type": "display_data"
    }
   ],
   "source": [
    "data[numerical].hist(figsize=(15,15), bins=50)"
   ]
  },
  {
   "cell_type": "markdown",
   "id": "44f720a8",
   "metadata": {
    "papermill": {
     "duration": 0.017507,
     "end_time": "2022-08-29T07:50:23.165647",
     "exception": false,
     "start_time": "2022-08-29T07:50:23.148140",
     "status": "completed"
    },
    "tags": []
   },
   "source": [
    "**Examining each variable**"
   ]
  },
  {
   "cell_type": "code",
   "execution_count": 16,
   "id": "15183150",
   "metadata": {
    "execution": {
     "iopub.execute_input": "2022-08-29T07:50:23.201891Z",
     "iopub.status.busy": "2022-08-29T07:50:23.201079Z",
     "iopub.status.idle": "2022-08-29T07:50:23.211461Z",
     "shell.execute_reply": "2022-08-29T07:50:23.210554Z"
    },
    "papermill": {
     "duration": 0.031272,
     "end_time": "2022-08-29T07:50:23.213915",
     "exception": false,
     "start_time": "2022-08-29T07:50:23.182643",
     "status": "completed"
    },
    "tags": []
   },
   "outputs": [],
   "source": [
    "def descriptive_summary_n(data, column_name):\n",
    "    fig, axs = plt.subplots(1,2, figsize=(19,6))\n",
    "    axs[0].hist(data[column_name], bins=50) \n",
    "    axs[0].axvline(data[column_name].mean(), color='red', label=f\"Mean: {round(data[column_name].mean(),2)}\") \n",
    "    axs[0].axvline(data[column_name].median(), color='green', label=f\"Median: {round(data[column_name].median(),2)}\") \n",
    "    axs[0].axvline(x=data[column_name].describe()[4],color='r', linestyle='--', label=f\"25th percentile: {data[column_name].describe()[4]}\") \n",
    "    axs[0].axvline(x=data[column_name].describe()[6],color='r', linestyle='--', label=f\"75th percentile: {data[column_name].describe()[6]}\") \n",
    "    axs[0].legend()\n",
    "    sns.boxplot(data=data, x=column_name, ax=axs[1]) #creating boxplot\n",
    "    axs[1].axvline(data[column_name].mean(), color='red') #vertical line for the mean of the distribution\n",
    "    fig.suptitle(f\"Histogram and Boxplot of {column_name}\")\n",
    "    plt.show()\n",
    "    \n",
    "    print(f\"{data[column_name].describe().round(3)}\\n\")\n",
    "    print(f\"Skewness: {skew(data[data[column_name].isna()==False][column_name], bias=True)}\")\n",
    "    print(f\"Kurtosis: {kurtosis(data[data[column_name].isna()==False][column_name], bias=True)}\")"
   ]
  },
  {
   "cell_type": "code",
   "execution_count": 17,
   "id": "8ce75075",
   "metadata": {
    "execution": {
     "iopub.execute_input": "2022-08-29T07:50:23.249792Z",
     "iopub.status.busy": "2022-08-29T07:50:23.249016Z",
     "iopub.status.idle": "2022-08-29T07:50:23.762296Z",
     "shell.execute_reply": "2022-08-29T07:50:23.760472Z"
    },
    "papermill": {
     "duration": 0.53425,
     "end_time": "2022-08-29T07:50:23.764992",
     "exception": false,
     "start_time": "2022-08-29T07:50:23.230742",
     "status": "completed"
    },
    "tags": []
   },
   "outputs": [
    {
     "data": {
      "image/png": "[encoded data removed]",
      "text/plain": [
       "<Figure size 1368x432 with 2 Axes>"
      ]
     },
     "metadata": {
      "needs_background": "light"
     },
     "output_type": "display_data"
    },
    {
     "name": "stdout",
     "output_type": "stream",
     "text": [
      "count    32581.000\n",
      "mean        27.735\n",
      "std          6.348\n",
      "min         20.000\n",
      "25%         23.000\n",
      "50%         26.000\n",
      "75%         30.000\n",
      "max        144.000\n",
      "Name: person_age, dtype: float64\n",
      "\n",
      "Skewness: 2.5812736796698657\n",
      "Kurtosis: 18.557792324565625\n"
     ]
    }
   ],
   "source": [
    "descriptive_summary_n(data_copy, numerical[0])"
   ]
  },
  {
   "cell_type": "markdown",
   "id": "f9e6e439",
   "metadata": {
    "papermill": {
     "duration": 0.01709,
     "end_time": "2022-08-29T07:50:23.799436",
     "exception": false,
     "start_time": "2022-08-29T07:50:23.782346",
     "status": "completed"
    },
    "tags": []
   },
   "source": [
    "age is mostly distributed between 23 and 30. data distribution is right-skewed, few value > 100,\n",
    "may be outliers. -> clip"
   ]
  },
  {
   "cell_type": "code",
   "execution_count": 18,
   "id": "d5b52ce3",
   "metadata": {
    "execution": {
     "iopub.execute_input": "2022-08-29T07:50:23.836396Z",
     "iopub.status.busy": "2022-08-29T07:50:23.835328Z",
     "iopub.status.idle": "2022-08-29T07:50:24.260417Z",
     "shell.execute_reply": "2022-08-29T07:50:24.258939Z"
    },
    "papermill": {
     "duration": 0.446537,
     "end_time": "2022-08-29T07:50:24.263311",
     "exception": false,
     "start_time": "2022-08-29T07:50:23.816774",
     "status": "completed"
    },
    "tags": []
   },
   "outputs": [
    {
     "data": {
      "image/png": "[encoded data removed]",
      "text/plain": [
       "<Figure size 1368x432 with 2 Axes>"
      ]
     },
     "metadata": {
      "needs_background": "light"
     },
     "output_type": "display_data"
    },
    {
     "name": "stdout",
     "output_type": "stream",
     "text": [
      "count      32581.000\n",
      "mean       66074.848\n",
      "std        61983.119\n",
      "min         4000.000\n",
      "25%        38500.000\n",
      "50%        55000.000\n",
      "75%        79200.000\n",
      "max      6000000.000\n",
      "Name: person_income, dtype: float64\n",
      "\n",
      "Skewness: 32.86383572338852\n",
      "Kurtosis: 2692.8592897449143\n"
     ]
    }
   ],
   "source": [
    "descriptive_summary_n(data_copy, numerical[1])"
   ]
  },
  {
   "cell_type": "markdown",
   "id": "e01f63b3",
   "metadata": {
    "papermill": {
     "duration": 0.017527,
     "end_time": "2022-08-29T07:50:24.299125",
     "exception": false,
     "start_time": "2022-08-29T07:50:24.281598",
     "status": "completed"
    },
    "tags": []
   },
   "source": [
    "\"person_income\" distributed between 38500 and 79200, data distribution is heavily right skewd, and lots of outliers. -> clip"
   ]
  },
  {
   "cell_type": "code",
   "execution_count": 19,
   "id": "f9553dcd",
   "metadata": {
    "execution": {
     "iopub.execute_input": "2022-08-29T07:50:24.339733Z",
     "iopub.status.busy": "2022-08-29T07:50:24.338618Z",
     "iopub.status.idle": "2022-08-29T07:50:24.767842Z",
     "shell.execute_reply": "2022-08-29T07:50:24.766148Z"
    },
    "papermill": {
     "duration": 0.452351,
     "end_time": "2022-08-29T07:50:24.771149",
     "exception": false,
     "start_time": "2022-08-29T07:50:24.318798",
     "status": "completed"
    },
    "tags": []
   },
   "outputs": [
    {
     "data": {
      "image/png": "[encoded data removed]",
      "text/plain": [
       "<Figure size 1368x432 with 2 Axes>"
      ]
     },
     "metadata": {
      "needs_background": "light"
     },
     "output_type": "display_data"
    },
    {
     "name": "stdout",
     "output_type": "stream",
     "text": [
      "count    31686.000\n",
      "mean         4.790\n",
      "std          4.143\n",
      "min          0.000\n",
      "25%          2.000\n",
      "50%          4.000\n",
      "75%          7.000\n",
      "max        123.000\n",
      "Name: person_emp_length, dtype: float64\n",
      "\n",
      "Skewness: 2.6143313527840095\n",
      "Kurtosis: 43.71524985460213\n"
     ]
    }
   ],
   "source": [
    "descriptive_summary_n(data_copy, numerical[2])"
   ]
  },
  {
   "cell_type": "markdown",
   "id": "60871d0a",
   "metadata": {
    "papermill": {
     "duration": 0.018567,
     "end_time": "2022-08-29T07:50:24.808408",
     "exception": false,
     "start_time": "2022-08-29T07:50:24.789841",
     "status": "completed"
    },
    "tags": []
   },
   "source": [
    "\"person_emp_length\" is right skewed and long tailed with potential outliers. It is mostly distributed between 2 and 7. Max number is 123, 123 years of employment length seems very strange, this observation is potentially an error.-> clip"
   ]
  },
  {
   "cell_type": "code",
   "execution_count": 20,
   "id": "6e93ded5",
   "metadata": {
    "execution": {
     "iopub.execute_input": "2022-08-29T07:50:24.848169Z",
     "iopub.status.busy": "2022-08-29T07:50:24.847753Z",
     "iopub.status.idle": "2022-08-29T07:50:25.278916Z",
     "shell.execute_reply": "2022-08-29T07:50:25.277190Z"
    },
    "papermill": {
     "duration": 0.455261,
     "end_time": "2022-08-29T07:50:25.282376",
     "exception": false,
     "start_time": "2022-08-29T07:50:24.827115",
     "status": "completed"
    },
    "tags": []
   },
   "outputs": [
    {
     "data": {
      "image/png": "[encoded data removed]",
      "text/plain": [
       "<Figure size 1368x432 with 2 Axes>"
      ]
     },
     "metadata": {
      "needs_background": "light"
     },
     "output_type": "display_data"
    },
    {
     "name": "stdout",
     "output_type": "stream",
     "text": [
      "count    32581.000\n",
      "mean      9589.371\n",
      "std       6322.087\n",
      "min        500.000\n",
      "25%       5000.000\n",
      "50%       8000.000\n",
      "75%      12200.000\n",
      "max      35000.000\n",
      "Name: loan_amnt, dtype: float64\n",
      "\n",
      "Skewness: 1.192422526473502\n",
      "Kurtosis: 1.4231627003417104\n"
     ]
    }
   ],
   "source": [
    "descriptive_summary_n(data_copy, numerical[3])"
   ]
  },
  {
   "cell_type": "markdown",
   "id": "d4887627",
   "metadata": {
    "papermill": {
     "duration": 0.019086,
     "end_time": "2022-08-29T07:50:25.321034",
     "exception": false,
     "start_time": "2022-08-29T07:50:25.301948",
     "status": "completed"
    },
    "tags": []
   },
   "source": [
    "\"loan_amnt\" variable is slightly right skewed."
   ]
  },
  {
   "cell_type": "code",
   "execution_count": 21,
   "id": "891bbc8e",
   "metadata": {
    "execution": {
     "iopub.execute_input": "2022-08-29T07:50:25.362589Z",
     "iopub.status.busy": "2022-08-29T07:50:25.362180Z",
     "iopub.status.idle": "2022-08-29T07:50:25.811040Z",
     "shell.execute_reply": "2022-08-29T07:50:25.809631Z"
    },
    "papermill": {
     "duration": 0.474185,
     "end_time": "2022-08-29T07:50:25.815034",
     "exception": false,
     "start_time": "2022-08-29T07:50:25.340849",
     "status": "completed"
    },
    "tags": []
   },
   "outputs": [
    {
     "data": {
      "image/png": "[encoded data removed]",
      "text/plain": [
       "<Figure size 1368x432 with 2 Axes>"
      ]
     },
     "metadata": {
      "needs_background": "light"
     },
     "output_type": "display_data"
    },
    {
     "name": "stdout",
     "output_type": "stream",
     "text": [
      "count    29465.000\n",
      "mean        11.012\n",
      "std          3.240\n",
      "min          5.420\n",
      "25%          7.900\n",
      "50%         10.990\n",
      "75%         13.470\n",
      "max         23.220\n",
      "Name: loan_int_rate, dtype: float64\n",
      "\n",
      "Skewness: 0.2085396846918691\n",
      "Kurtosis: -0.6716987706450692\n"
     ]
    }
   ],
   "source": [
    "descriptive_summary_n(data_copy, numerical[4])"
   ]
  },
  {
   "cell_type": "markdown",
   "id": "c1b9d222",
   "metadata": {
    "papermill": {
     "duration": 0.019109,
     "end_time": "2022-08-29T07:50:25.854705",
     "exception": false,
     "start_time": "2022-08-29T07:50:25.835596",
     "status": "completed"
    },
    "tags": []
   },
   "source": [
    "\"loan_int_rate\" variable's skewness is 0.20, very close to normal distribution. Data is lighter tailed than normal distribution. Mean and Median very close to each other. "
   ]
  },
  {
   "cell_type": "code",
   "execution_count": 22,
   "id": "dfdd4d75",
   "metadata": {
    "execution": {
     "iopub.execute_input": "2022-08-29T07:50:25.896983Z",
     "iopub.status.busy": "2022-08-29T07:50:25.896082Z",
     "iopub.status.idle": "2022-08-29T07:50:26.315299Z",
     "shell.execute_reply": "2022-08-29T07:50:26.313328Z"
    },
    "papermill": {
     "duration": 0.444619,
     "end_time": "2022-08-29T07:50:26.318884",
     "exception": false,
     "start_time": "2022-08-29T07:50:25.874265",
     "status": "completed"
    },
    "tags": []
   },
   "outputs": [
    {
     "data": {
      "image/png": "[encoded data removed]",
      "text/plain": [
       "<Figure size 1368x432 with 2 Axes>"
      ]
     },
     "metadata": {
      "needs_background": "light"
     },
     "output_type": "display_data"
    },
    {
     "name": "stdout",
     "output_type": "stream",
     "text": [
      "count    32581.000\n",
      "mean         0.170\n",
      "std          0.107\n",
      "min          0.000\n",
      "25%          0.090\n",
      "50%          0.150\n",
      "75%          0.230\n",
      "max          0.830\n",
      "Name: loan_percent_income, dtype: float64\n",
      "\n",
      "Skewness: 1.0646196197529139\n",
      "Kurtosis: 1.2233147441419057\n"
     ]
    }
   ],
   "source": [
    "descriptive_summary_n(data_copy, numerical[5])"
   ]
  },
  {
   "cell_type": "markdown",
   "id": "9f203d2d",
   "metadata": {
    "papermill": {
     "duration": 0.020318,
     "end_time": "2022-08-29T07:50:26.359511",
     "exception": false,
     "start_time": "2022-08-29T07:50:26.339193",
     "status": "completed"
    },
    "tags": []
   },
   "source": [
    "\"loan_percent_income\" variable is right skewed and lightly tailed. "
   ]
  },
  {
   "cell_type": "code",
   "execution_count": 23,
   "id": "89a484b3",
   "metadata": {
    "execution": {
     "iopub.execute_input": "2022-08-29T07:50:26.402313Z",
     "iopub.status.busy": "2022-08-29T07:50:26.401155Z",
     "iopub.status.idle": "2022-08-29T07:50:26.811741Z",
     "shell.execute_reply": "2022-08-29T07:50:26.810039Z"
    },
    "papermill": {
     "duration": 0.43565,
     "end_time": "2022-08-29T07:50:26.815352",
     "exception": false,
     "start_time": "2022-08-29T07:50:26.379702",
     "status": "completed"
    },
    "tags": []
   },
   "outputs": [
    {
     "data": {
      "image/png": "[encoded data removed]",
      "text/plain": [
       "<Figure size 1368x432 with 2 Axes>"
      ]
     },
     "metadata": {
      "needs_background": "light"
     },
     "output_type": "display_data"
    },
    {
     "name": "stdout",
     "output_type": "stream",
     "text": [
      "count    32581.000\n",
      "mean         5.804\n",
      "std          4.055\n",
      "min          2.000\n",
      "25%          3.000\n",
      "50%          4.000\n",
      "75%          8.000\n",
      "max         30.000\n",
      "Name: cb_person_cred_hist_length, dtype: float64\n",
      "\n",
      "Skewness: 1.6617136116084419\n",
      "Kurtosis: 3.715439392280821\n"
     ]
    }
   ],
   "source": [
    "descriptive_summary_n(data_copy, numerical[6])"
   ]
  },
  {
   "cell_type": "markdown",
   "id": "afcdb4e3",
   "metadata": {
    "papermill": {
     "duration": 0.020066,
     "end_time": "2022-08-29T07:50:26.856469",
     "exception": false,
     "start_time": "2022-08-29T07:50:26.836403",
     "status": "completed"
    },
    "tags": []
   },
   "source": [
    "Mostly distributed between 3 and 8. \"cb_person_cred_hist_length\" variable is slightly right skewd. "
   ]
  },
  {
   "cell_type": "markdown",
   "id": "97af2755",
   "metadata": {
    "papermill": {
     "duration": 0.021842,
     "end_time": "2022-08-29T07:50:26.898730",
     "exception": false,
     "start_time": "2022-08-29T07:50:26.876888",
     "status": "completed"
    },
    "tags": []
   },
   "source": [
    "# Summary of categorical data"
   ]
  },
  {
   "cell_type": "code",
   "execution_count": 24,
   "id": "9865fff0",
   "metadata": {
    "execution": {
     "iopub.execute_input": "2022-08-29T07:50:26.952001Z",
     "iopub.status.busy": "2022-08-29T07:50:26.951508Z",
     "iopub.status.idle": "2022-08-29T07:50:26.969898Z",
     "shell.execute_reply": "2022-08-29T07:50:26.968036Z"
    },
    "papermill": {
     "duration": 0.048244,
     "end_time": "2022-08-29T07:50:26.972972",
     "exception": false,
     "start_time": "2022-08-29T07:50:26.924728",
     "status": "completed"
    },
    "tags": []
   },
   "outputs": [],
   "source": [
    "data_c = data.copy()\n",
    "data_c.loc[data_c['loan_status']==0, 'loan_status']='Not default'\n",
    "data_c.loc[data_c['loan_status']==1, 'loan_status']='Default'"
   ]
  },
  {
   "cell_type": "code",
   "execution_count": 25,
   "id": "2043cbd3",
   "metadata": {
    "execution": {
     "iopub.execute_input": "2022-08-29T07:50:27.025199Z",
     "iopub.status.busy": "2022-08-29T07:50:27.024809Z",
     "iopub.status.idle": "2022-08-29T07:50:27.033924Z",
     "shell.execute_reply": "2022-08-29T07:50:27.032699Z"
    },
    "papermill": {
     "duration": 0.039813,
     "end_time": "2022-08-29T07:50:27.036426",
     "exception": false,
     "start_time": "2022-08-29T07:50:26.996613",
     "status": "completed"
    },
    "tags": []
   },
   "outputs": [],
   "source": [
    "def descriptive_summary_c(data, column_name):\n",
    "    print(f\"\\033[1mFrequency table of {column_name} variable: \\033[0m\")\n",
    "    freq_table = data[column_name].value_counts().to_frame().reset_index() \n",
    "    freq_table.columns = [column_name, 'Frequencies']\n",
    "    freq_table['% Percentages'] = round(freq_table['Frequencies']/data[column_name].count()*100,2) \n",
    "    display(freq_table)\n",
    "    print()\n",
    "    fig,axs = plt.subplots(1,2,figsize=(15,5))\n",
    "    sns.barplot(data=freq_table, x='Frequencies', y=column_name, palette='flare', ax=axs[0]) \n",
    "    colors = sns.color_palette('flare')\n",
    "    d = list(freq_table['% Percentages'])\n",
    "    labels = list(freq_table[column_name])\n",
    "    plt.pie(d, labels = labels, colors = colors, autopct='%.0f%%')\n",
    "    fig.suptitle(f\"Bar Chart and Pie Chart of {column_name} variable\")\n",
    "    plt.show()"
   ]
  },
  {
   "cell_type": "code",
   "execution_count": 26,
   "id": "ee1171a8",
   "metadata": {
    "execution": {
     "iopub.execute_input": "2022-08-29T07:50:27.080094Z",
     "iopub.status.busy": "2022-08-29T07:50:27.079652Z",
     "iopub.status.idle": "2022-08-29T07:50:27.370741Z",
     "shell.execute_reply": "2022-08-29T07:50:27.369522Z"
    },
    "papermill": {
     "duration": 0.315884,
     "end_time": "2022-08-29T07:50:27.373220",
     "exception": false,
     "start_time": "2022-08-29T07:50:27.057336",
     "status": "completed"
    },
    "tags": []
   },
   "outputs": [
    {
     "name": "stdout",
     "output_type": "stream",
     "text": [
      "\u001b[1mFrequency table of person_home_ownership variable: \u001b[0m\n"
     ]
    },
    {
     "data": {
      "text/html": [
       "<div>\n",
       "<style scoped>\n",
       "    .dataframe tbody tr th:only-of-type {\n",
       "        vertical-align: middle;\n",
       "    }\n",
       "\n",
       "    .dataframe tbody tr th {\n",
       "        vertical-align: top;\n",
       "    }\n",
       "\n",
       "    .dataframe thead th {\n",
       "        text-align: right;\n",
       "    }\n",
       "</style>\n",
       "<table border=\"1\" class=\"dataframe\">\n",
       "  <thead>\n",
       "    <tr style=\"text-align: right;\">\n",
       "      <th></th>\n",
       "      <th>person_home_ownership</th>\n",
       "      <th>Frequencies</th>\n",
       "      <th>% Percentages</th>\n",
       "    </tr>\n",
       "  </thead>\n",
       "  <tbody>\n",
       "    <tr>\n",
       "      <th>0</th>\n",
       "      <td>RENT</td>\n",
       "      <td>16446</td>\n",
       "      <td>50.48</td>\n",
       "    </tr>\n",
       "    <tr>\n",
       "      <th>1</th>\n",
       "      <td>MORTGAGE</td>\n",
       "      <td>13444</td>\n",
       "      <td>41.26</td>\n",
       "    </tr>\n",
       "    <tr>\n",
       "      <th>2</th>\n",
       "      <td>OWN</td>\n",
       "      <td>2584</td>\n",
       "      <td>7.93</td>\n",
       "    </tr>\n",
       "    <tr>\n",
       "      <th>3</th>\n",
       "      <td>OTHER</td>\n",
       "      <td>107</td>\n",
       "      <td>0.33</td>\n",
       "    </tr>\n",
       "  </tbody>\n",
       "</table>\n",
       "</div>"
      ],
      "text/plain": [
       "  person_home_ownership  Frequencies  % Percentages\n",
       "0                  RENT        16446          50.48\n",
       "1              MORTGAGE        13444          41.26\n",
       "2                   OWN         2584           7.93\n",
       "3                 OTHER          107           0.33"
      ]
     },
     "metadata": {},
     "output_type": "display_data"
    },
    {
     "name": "stdout",
     "output_type": "stream",
     "text": [
      "\n"
     ]
    },
    {
     "data": {
      "image/png": "[encoded data removed]",
      "text/plain": [
       "<Figure size 1080x360 with 2 Axes>"
      ]
     },
     "metadata": {
      "needs_background": "light"
     },
     "output_type": "display_data"
    }
   ],
   "source": [
    "descriptive_summary_c(data_c, categorical[0])"
   ]
  },
  {
   "cell_type": "markdown",
   "id": "2c608c1a",
   "metadata": {
    "papermill": {
     "duration": 0.021158,
     "end_time": "2022-08-29T07:50:27.415629",
     "exception": false,
     "start_time": "2022-08-29T07:50:27.394471",
     "status": "completed"
    },
    "tags": []
   },
   "source": [
    "The large proportion of the person_home_ownership variable is Rent and Mortage."
   ]
  },
  {
   "cell_type": "code",
   "execution_count": 27,
   "id": "5b4b4fa9",
   "metadata": {
    "execution": {
     "iopub.execute_input": "2022-08-29T07:50:27.461741Z",
     "iopub.status.busy": "2022-08-29T07:50:27.461313Z",
     "iopub.status.idle": "2022-08-29T07:50:27.799560Z",
     "shell.execute_reply": "2022-08-29T07:50:27.798544Z"
    },
    "papermill": {
     "duration": 0.364282,
     "end_time": "2022-08-29T07:50:27.801830",
     "exception": false,
     "start_time": "2022-08-29T07:50:27.437548",
     "status": "completed"
    },
    "tags": []
   },
   "outputs": [
    {
     "name": "stdout",
     "output_type": "stream",
     "text": [
      "\u001b[1mFrequency table of loan_intent variable: \u001b[0m\n"
     ]
    },
    {
     "data": {
      "text/html": [
       "<div>\n",
       "<style scoped>\n",
       "    .dataframe tbody tr th:only-of-type {\n",
       "        vertical-align: middle;\n",
       "    }\n",
       "\n",
       "    .dataframe tbody tr th {\n",
       "        vertical-align: top;\n",
       "    }\n",
       "\n",
       "    .dataframe thead th {\n",
       "        text-align: right;\n",
       "    }\n",
       "</style>\n",
       "<table border=\"1\" class=\"dataframe\">\n",
       "  <thead>\n",
       "    <tr style=\"text-align: right;\">\n",
       "      <th></th>\n",
       "      <th>loan_intent</th>\n",
       "      <th>Frequencies</th>\n",
       "      <th>% Percentages</th>\n",
       "    </tr>\n",
       "  </thead>\n",
       "  <tbody>\n",
       "    <tr>\n",
       "      <th>0</th>\n",
       "      <td>EDUCATION</td>\n",
       "      <td>6453</td>\n",
       "      <td>19.81</td>\n",
       "    </tr>\n",
       "    <tr>\n",
       "      <th>1</th>\n",
       "      <td>MEDICAL</td>\n",
       "      <td>6071</td>\n",
       "      <td>18.63</td>\n",
       "    </tr>\n",
       "    <tr>\n",
       "      <th>2</th>\n",
       "      <td>VENTURE</td>\n",
       "      <td>5719</td>\n",
       "      <td>17.55</td>\n",
       "    </tr>\n",
       "    <tr>\n",
       "      <th>3</th>\n",
       "      <td>PERSONAL</td>\n",
       "      <td>5521</td>\n",
       "      <td>16.95</td>\n",
       "    </tr>\n",
       "    <tr>\n",
       "      <th>4</th>\n",
       "      <td>DEBTCONSOLIDATION</td>\n",
       "      <td>5212</td>\n",
       "      <td>16.00</td>\n",
       "    </tr>\n",
       "    <tr>\n",
       "      <th>5</th>\n",
       "      <td>HOMEIMPROVEMENT</td>\n",
       "      <td>3605</td>\n",
       "      <td>11.06</td>\n",
       "    </tr>\n",
       "  </tbody>\n",
       "</table>\n",
       "</div>"
      ],
      "text/plain": [
       "         loan_intent  Frequencies  % Percentages\n",
       "0          EDUCATION         6453          19.81\n",
       "1            MEDICAL         6071          18.63\n",
       "2            VENTURE         5719          17.55\n",
       "3           PERSONAL         5521          16.95\n",
       "4  DEBTCONSOLIDATION         5212          16.00\n",
       "5    HOMEIMPROVEMENT         3605          11.06"
      ]
     },
     "metadata": {},
     "output_type": "display_data"
    },
    {
     "name": "stdout",
     "output_type": "stream",
     "text": [
      "\n"
     ]
    },
    {
     "data": {
      "image/png": "[encoded data removed]",
      "text/plain": [
       "<Figure size 1080x360 with 2 Axes>"
      ]
     },
     "metadata": {
      "needs_background": "light"
     },
     "output_type": "display_data"
    }
   ],
   "source": [
    "descriptive_summary_c(data_c, categorical[1])"
   ]
  },
  {
   "cell_type": "markdown",
   "id": "ddf5dc21",
   "metadata": {
    "papermill": {
     "duration": 0.022144,
     "end_time": "2022-08-29T07:50:27.846859",
     "exception": false,
     "start_time": "2022-08-29T07:50:27.824715",
     "status": "completed"
    },
    "tags": []
   },
   "source": [
    "data is distributed in approximately the same proportion. "
   ]
  },
  {
   "cell_type": "code",
   "execution_count": 28,
   "id": "c4a3a5ba",
   "metadata": {
    "execution": {
     "iopub.execute_input": "2022-08-29T07:50:27.894391Z",
     "iopub.status.busy": "2022-08-29T07:50:27.893711Z",
     "iopub.status.idle": "2022-08-29T07:50:28.425587Z",
     "shell.execute_reply": "2022-08-29T07:50:28.424581Z"
    },
    "papermill": {
     "duration": 0.55837,
     "end_time": "2022-08-29T07:50:28.428045",
     "exception": false,
     "start_time": "2022-08-29T07:50:27.869675",
     "status": "completed"
    },
    "tags": []
   },
   "outputs": [
    {
     "name": "stdout",
     "output_type": "stream",
     "text": [
      "\u001b[1mFrequency table of loan_grade variable: \u001b[0m\n"
     ]
    },
    {
     "data": {
      "text/html": [
       "<div>\n",
       "<style scoped>\n",
       "    .dataframe tbody tr th:only-of-type {\n",
       "        vertical-align: middle;\n",
       "    }\n",
       "\n",
       "    .dataframe tbody tr th {\n",
       "        vertical-align: top;\n",
       "    }\n",
       "\n",
       "    .dataframe thead th {\n",
       "        text-align: right;\n",
       "    }\n",
       "</style>\n",
       "<table border=\"1\" class=\"dataframe\">\n",
       "  <thead>\n",
       "    <tr style=\"text-align: right;\">\n",
       "      <th></th>\n",
       "      <th>loan_grade</th>\n",
       "      <th>Frequencies</th>\n",
       "      <th>% Percentages</th>\n",
       "    </tr>\n",
       "  </thead>\n",
       "  <tbody>\n",
       "    <tr>\n",
       "      <th>0</th>\n",
       "      <td>A</td>\n",
       "      <td>10777</td>\n",
       "      <td>33.08</td>\n",
       "    </tr>\n",
       "    <tr>\n",
       "      <th>1</th>\n",
       "      <td>B</td>\n",
       "      <td>10451</td>\n",
       "      <td>32.08</td>\n",
       "    </tr>\n",
       "    <tr>\n",
       "      <th>2</th>\n",
       "      <td>C</td>\n",
       "      <td>6458</td>\n",
       "      <td>19.82</td>\n",
       "    </tr>\n",
       "    <tr>\n",
       "      <th>3</th>\n",
       "      <td>D</td>\n",
       "      <td>3626</td>\n",
       "      <td>11.13</td>\n",
       "    </tr>\n",
       "    <tr>\n",
       "      <th>4</th>\n",
       "      <td>E</td>\n",
       "      <td>964</td>\n",
       "      <td>2.96</td>\n",
       "    </tr>\n",
       "    <tr>\n",
       "      <th>5</th>\n",
       "      <td>F</td>\n",
       "      <td>241</td>\n",
       "      <td>0.74</td>\n",
       "    </tr>\n",
       "    <tr>\n",
       "      <th>6</th>\n",
       "      <td>G</td>\n",
       "      <td>64</td>\n",
       "      <td>0.20</td>\n",
       "    </tr>\n",
       "  </tbody>\n",
       "</table>\n",
       "</div>"
      ],
      "text/plain": [
       "  loan_grade  Frequencies  % Percentages\n",
       "0          A        10777          33.08\n",
       "1          B        10451          32.08\n",
       "2          C         6458          19.82\n",
       "3          D         3626          11.13\n",
       "4          E          964           2.96\n",
       "5          F          241           0.74\n",
       "6          G           64           0.20"
      ]
     },
     "metadata": {},
     "output_type": "display_data"
    },
    {
     "name": "stdout",
     "output_type": "stream",
     "text": [
      "\n"
     ]
    },
    {
     "data": {
      "image/png": "[encoded data removed]",
      "text/plain": [
       "<Figure size 1080x360 with 2 Axes>"
      ]
     },
     "metadata": {
      "needs_background": "light"
     },
     "output_type": "display_data"
    }
   ],
   "source": [
    "descriptive_summary_c(data_c, categorical[2])"
   ]
  },
  {
   "cell_type": "markdown",
   "id": "d8bef9c4",
   "metadata": {
    "papermill": {
     "duration": 0.03838,
     "end_time": "2022-08-29T07:50:28.490603",
     "exception": false,
     "start_time": "2022-08-29T07:50:28.452223",
     "status": "completed"
    },
    "tags": []
   },
   "source": [
    "Most of the \"loan_grade\" variable data distributed in of \"A\", \"B\", \"C\", and \"D\" category. "
   ]
  },
  {
   "cell_type": "code",
   "execution_count": 29,
   "id": "91a6fb32",
   "metadata": {
    "execution": {
     "iopub.execute_input": "2022-08-29T07:50:28.539813Z",
     "iopub.status.busy": "2022-08-29T07:50:28.539049Z",
     "iopub.status.idle": "2022-08-29T07:50:28.806732Z",
     "shell.execute_reply": "2022-08-29T07:50:28.805519Z"
    },
    "papermill": {
     "duration": 0.294892,
     "end_time": "2022-08-29T07:50:28.809295",
     "exception": false,
     "start_time": "2022-08-29T07:50:28.514403",
     "status": "completed"
    },
    "tags": []
   },
   "outputs": [
    {
     "name": "stdout",
     "output_type": "stream",
     "text": [
      "\u001b[1mFrequency table of loan_status variable: \u001b[0m\n"
     ]
    },
    {
     "data": {
      "text/html": [
       "<div>\n",
       "<style scoped>\n",
       "    .dataframe tbody tr th:only-of-type {\n",
       "        vertical-align: middle;\n",
       "    }\n",
       "\n",
       "    .dataframe tbody tr th {\n",
       "        vertical-align: top;\n",
       "    }\n",
       "\n",
       "    .dataframe thead th {\n",
       "        text-align: right;\n",
       "    }\n",
       "</style>\n",
       "<table border=\"1\" class=\"dataframe\">\n",
       "  <thead>\n",
       "    <tr style=\"text-align: right;\">\n",
       "      <th></th>\n",
       "      <th>loan_status</th>\n",
       "      <th>Frequencies</th>\n",
       "      <th>% Percentages</th>\n",
       "    </tr>\n",
       "  </thead>\n",
       "  <tbody>\n",
       "    <tr>\n",
       "      <th>0</th>\n",
       "      <td>Not default</td>\n",
       "      <td>25473</td>\n",
       "      <td>78.18</td>\n",
       "    </tr>\n",
       "    <tr>\n",
       "      <th>1</th>\n",
       "      <td>Default</td>\n",
       "      <td>7108</td>\n",
       "      <td>21.82</td>\n",
       "    </tr>\n",
       "  </tbody>\n",
       "</table>\n",
       "</div>"
      ],
      "text/plain": [
       "   loan_status  Frequencies  % Percentages\n",
       "0  Not default        25473          78.18\n",
       "1      Default         7108          21.82"
      ]
     },
     "metadata": {},
     "output_type": "display_data"
    },
    {
     "name": "stdout",
     "output_type": "stream",
     "text": [
      "\n"
     ]
    },
    {
     "data": {
      "image/png": "[encoded data removed]",
      "text/plain": [
       "<Figure size 1080x360 with 2 Axes>"
      ]
     },
     "metadata": {
      "needs_background": "light"
     },
     "output_type": "display_data"
    }
   ],
   "source": [
    "descriptive_summary_c(data_c, categorical[3])"
   ]
  },
  {
   "cell_type": "markdown",
   "id": "82ac9979",
   "metadata": {
    "papermill": {
     "duration": 0.023252,
     "end_time": "2022-08-29T07:50:28.856128",
     "exception": false,
     "start_time": "2022-08-29T07:50:28.832876",
     "status": "completed"
    },
    "tags": []
   },
   "source": [
    "Great percentage of loan_status variable is \"Not Default\" category."
   ]
  },
  {
   "cell_type": "code",
   "execution_count": 30,
   "id": "cce71e3d",
   "metadata": {
    "execution": {
     "iopub.execute_input": "2022-08-29T07:50:28.905668Z",
     "iopub.status.busy": "2022-08-29T07:50:28.904938Z",
     "iopub.status.idle": "2022-08-29T07:50:29.172468Z",
     "shell.execute_reply": "2022-08-29T07:50:29.171246Z"
    },
    "papermill": {
     "duration": 0.295178,
     "end_time": "2022-08-29T07:50:29.174965",
     "exception": false,
     "start_time": "2022-08-29T07:50:28.879787",
     "status": "completed"
    },
    "tags": []
   },
   "outputs": [
    {
     "name": "stdout",
     "output_type": "stream",
     "text": [
      "\u001b[1mFrequency table of cb_person_default_on_file variable: \u001b[0m\n"
     ]
    },
    {
     "data": {
      "text/html": [
       "<div>\n",
       "<style scoped>\n",
       "    .dataframe tbody tr th:only-of-type {\n",
       "        vertical-align: middle;\n",
       "    }\n",
       "\n",
       "    .dataframe tbody tr th {\n",
       "        vertical-align: top;\n",
       "    }\n",
       "\n",
       "    .dataframe thead th {\n",
       "        text-align: right;\n",
       "    }\n",
       "</style>\n",
       "<table border=\"1\" class=\"dataframe\">\n",
       "  <thead>\n",
       "    <tr style=\"text-align: right;\">\n",
       "      <th></th>\n",
       "      <th>cb_person_default_on_file</th>\n",
       "      <th>Frequencies</th>\n",
       "      <th>% Percentages</th>\n",
       "    </tr>\n",
       "  </thead>\n",
       "  <tbody>\n",
       "    <tr>\n",
       "      <th>0</th>\n",
       "      <td>N</td>\n",
       "      <td>26836</td>\n",
       "      <td>82.37</td>\n",
       "    </tr>\n",
       "    <tr>\n",
       "      <th>1</th>\n",
       "      <td>Y</td>\n",
       "      <td>5745</td>\n",
       "      <td>17.63</td>\n",
       "    </tr>\n",
       "  </tbody>\n",
       "</table>\n",
       "</div>"
      ],
      "text/plain": [
       "  cb_person_default_on_file  Frequencies  % Percentages\n",
       "0                         N        26836          82.37\n",
       "1                         Y         5745          17.63"
      ]
     },
     "metadata": {},
     "output_type": "display_data"
    },
    {
     "name": "stdout",
     "output_type": "stream",
     "text": [
      "\n"
     ]
    },
    {
     "data": {
      "image/png": "[encoded data removed]",
      "text/plain": [
       "<Figure size 1080x360 with 2 Axes>"
      ]
     },
     "metadata": {
      "needs_background": "light"
     },
     "output_type": "display_data"
    }
   ],
   "source": [
    "descriptive_summary_c(data_c, categorical[4])"
   ]
  },
  {
   "cell_type": "markdown",
   "id": "b7429600",
   "metadata": {
    "papermill": {
     "duration": 0.024387,
     "end_time": "2022-08-29T07:50:29.223594",
     "exception": false,
     "start_time": "2022-08-29T07:50:29.199207",
     "status": "completed"
    },
    "tags": []
   },
   "source": [
    "\"cb_person_default_on_file\" is 82% \"N\" category. "
   ]
  },
  {
   "cell_type": "markdown",
   "id": "ad5500a5",
   "metadata": {
    "papermill": {
     "duration": 0.024185,
     "end_time": "2022-08-29T07:50:29.272485",
     "exception": false,
     "start_time": "2022-08-29T07:50:29.248300",
     "status": "completed"
    },
    "tags": []
   },
   "source": [
    "### Correlation among categorical data\n",
    "using cramers'v measure"
   ]
  },
  {
   "cell_type": "code",
   "execution_count": 31,
   "id": "bb10fd23",
   "metadata": {
    "execution": {
     "iopub.execute_input": "2022-08-29T07:50:29.324076Z",
     "iopub.status.busy": "2022-08-29T07:50:29.323149Z",
     "iopub.status.idle": "2022-08-29T07:50:29.370518Z",
     "shell.execute_reply": "2022-08-29T07:50:29.369569Z"
    },
    "papermill": {
     "duration": 0.076162,
     "end_time": "2022-08-29T07:50:29.373132",
     "exception": false,
     "start_time": "2022-08-29T07:50:29.296970",
     "status": "completed"
    },
    "tags": []
   },
   "outputs": [],
   "source": [
    "label = preprocessing.LabelEncoder() \n",
    "data_encoded = pd.DataFrame() \n",
    "\n",
    "for i in data_copy[categorical].columns :\n",
    "    data_encoded[i]=label.fit_transform(data_copy[i])"
   ]
  },
  {
   "cell_type": "code",
   "execution_count": 32,
   "id": "5ec4fd1b",
   "metadata": {
    "execution": {
     "iopub.execute_input": "2022-08-29T07:50:29.424162Z",
     "iopub.status.busy": "2022-08-29T07:50:29.423427Z",
     "iopub.status.idle": "2022-08-29T07:50:29.429313Z",
     "shell.execute_reply": "2022-08-29T07:50:29.428441Z"
    },
    "papermill": {
     "duration": 0.033977,
     "end_time": "2022-08-29T07:50:29.431567",
     "exception": false,
     "start_time": "2022-08-29T07:50:29.397590",
     "status": "completed"
    },
    "tags": []
   },
   "outputs": [],
   "source": [
    "def cramers_V(var1,var2) :\n",
    "    crosstab =np.array(pd.crosstab(var1,var2, rownames=None, colnames=None)) # Cross table building\n",
    "    stat = chi2_contingency(crosstab)[0] # Keeping of the test statistic of the Chi2 test\n",
    "    obs = np.sum(crosstab) # Number of observations\n",
    "    mini = min(crosstab.shape)-1 # Take the minimum value between the columns and the rows of the cross table\n",
    "    return (stat/(obs*mini))"
   ]
  },
  {
   "cell_type": "code",
   "execution_count": 33,
   "id": "bfda3bee",
   "metadata": {
    "execution": {
     "iopub.execute_input": "2022-08-29T07:50:29.482719Z",
     "iopub.status.busy": "2022-08-29T07:50:29.482271Z",
     "iopub.status.idle": "2022-08-29T07:50:29.832443Z",
     "shell.execute_reply": "2022-08-29T07:50:29.831278Z"
    },
    "papermill": {
     "duration": 0.378484,
     "end_time": "2022-08-29T07:50:29.834906",
     "exception": false,
     "start_time": "2022-08-29T07:50:29.456422",
     "status": "completed"
    },
    "tags": []
   },
   "outputs": [
    {
     "data": {
      "text/html": [
       "<div>\n",
       "<style scoped>\n",
       "    .dataframe tbody tr th:only-of-type {\n",
       "        vertical-align: middle;\n",
       "    }\n",
       "\n",
       "    .dataframe tbody tr th {\n",
       "        vertical-align: top;\n",
       "    }\n",
       "\n",
       "    .dataframe thead th {\n",
       "        text-align: right;\n",
       "    }\n",
       "</style>\n",
       "<table border=\"1\" class=\"dataframe\">\n",
       "  <thead>\n",
       "    <tr style=\"text-align: right;\">\n",
       "      <th></th>\n",
       "      <th>person_home_ownership</th>\n",
       "      <th>loan_intent</th>\n",
       "      <th>loan_grade</th>\n",
       "      <th>loan_status</th>\n",
       "      <th>cb_person_default_on_file</th>\n",
       "    </tr>\n",
       "  </thead>\n",
       "  <tbody>\n",
       "    <tr>\n",
       "      <th>person_home_ownership</th>\n",
       "      <td>1.00</td>\n",
       "      <td>0.01</td>\n",
       "      <td>0.01</td>\n",
       "      <td>0.06</td>\n",
       "      <td>0.00</td>\n",
       "    </tr>\n",
       "    <tr>\n",
       "      <th>loan_intent</th>\n",
       "      <td>0.01</td>\n",
       "      <td>1.00</td>\n",
       "      <td>0.00</td>\n",
       "      <td>0.02</td>\n",
       "      <td>0.00</td>\n",
       "    </tr>\n",
       "    <tr>\n",
       "      <th>loan_grade</th>\n",
       "      <td>0.01</td>\n",
       "      <td>0.00</td>\n",
       "      <td>1.00</td>\n",
       "      <td>0.17</td>\n",
       "      <td>0.40</td>\n",
       "    </tr>\n",
       "    <tr>\n",
       "      <th>loan_status</th>\n",
       "      <td>0.06</td>\n",
       "      <td>0.02</td>\n",
       "      <td>0.17</td>\n",
       "      <td>1.00</td>\n",
       "      <td>0.03</td>\n",
       "    </tr>\n",
       "    <tr>\n",
       "      <th>cb_person_default_on_file</th>\n",
       "      <td>0.00</td>\n",
       "      <td>0.00</td>\n",
       "      <td>0.40</td>\n",
       "      <td>0.03</td>\n",
       "      <td>1.00</td>\n",
       "    </tr>\n",
       "  </tbody>\n",
       "</table>\n",
       "</div>"
      ],
      "text/plain": [
       "                           person_home_ownership  loan_intent  loan_grade  \\\n",
       "person_home_ownership                       1.00         0.01        0.01   \n",
       "loan_intent                                 0.01         1.00        0.00   \n",
       "loan_grade                                  0.01         0.00        1.00   \n",
       "loan_status                                 0.06         0.02        0.17   \n",
       "cb_person_default_on_file                   0.00         0.00        0.40   \n",
       "\n",
       "                           loan_status  cb_person_default_on_file  \n",
       "person_home_ownership             0.06                       0.00  \n",
       "loan_intent                       0.02                       0.00  \n",
       "loan_grade                        0.17                       0.40  \n",
       "loan_status                       1.00                       0.03  \n",
       "cb_person_default_on_file         0.03                       1.00  "
      ]
     },
     "execution_count": 33,
     "metadata": {},
     "output_type": "execute_result"
    }
   ],
   "source": [
    "rows= []\n",
    "for var1 in data_encoded:\n",
    "    col = []\n",
    "    for var2 in data_encoded :\n",
    "        cramers =cramers_V(data_encoded[var1], data_encoded[var2]) # Cramer's V test\n",
    "        col.append(round(cramers,2)) # Keeping of the rounded value of the Cramer's V  \n",
    "    rows.append(col)      \n",
    "cramers_results = np.array(rows)\n",
    "df = pd.DataFrame(cramers_results, columns = data_encoded.columns, index =data_encoded.columns)\n",
    "df"
   ]
  },
  {
   "cell_type": "code",
   "execution_count": 34,
   "id": "e179a92d",
   "metadata": {
    "execution": {
     "iopub.execute_input": "2022-08-29T07:50:29.888288Z",
     "iopub.status.busy": "2022-08-29T07:50:29.886327Z",
     "iopub.status.idle": "2022-08-29T07:50:30.190754Z",
     "shell.execute_reply": "2022-08-29T07:50:30.189470Z"
    },
    "papermill": {
     "duration": 0.334439,
     "end_time": "2022-08-29T07:50:30.193670",
     "exception": false,
     "start_time": "2022-08-29T07:50:29.859231",
     "status": "completed"
    },
    "tags": []
   },
   "outputs": [
    {
     "data": {
      "image/png": "[encoded data removed]",
      "text/plain": [
       "<Figure size 432x432 with 2 Axes>"
      ]
     },
     "metadata": {
      "needs_background": "light"
     },
     "output_type": "display_data"
    }
   ],
   "source": [
    "fig, ax = plt.subplots(figsize=(6,6))\n",
    "mask = np.zeros_like(df, dtype=np.bool)\n",
    "mask[np.triu_indices_from(mask)] = True\n",
    "with sns.axes_style(\"white\"):\n",
    "    ax = sns.heatmap(df, mask=mask, square=True)\n",
    "plt.show()"
   ]
  },
  {
   "cell_type": "markdown",
   "id": "4e650b70",
   "metadata": {
    "papermill": {
     "duration": 0.024365,
     "end_time": "2022-08-29T07:50:30.243580",
     "exception": false,
     "start_time": "2022-08-29T07:50:30.219215",
     "status": "completed"
    },
    "tags": []
   },
   "source": [
    "loan_status and loan_grade, loan_grade and cb_person_default_on_file variables have some correlations between them."
   ]
  },
  {
   "cell_type": "markdown",
   "id": "8a452674",
   "metadata": {
    "papermill": {
     "duration": 0.024293,
     "end_time": "2022-08-29T07:50:30.292580",
     "exception": false,
     "start_time": "2022-08-29T07:50:30.268287",
     "status": "completed"
    },
    "tags": []
   },
   "source": [
    "# Correlation among numerical data"
   ]
  },
  {
   "cell_type": "markdown",
   "id": "1ccef808",
   "metadata": {
    "papermill": {
     "duration": 0.024451,
     "end_time": "2022-08-29T07:50:30.341784",
     "exception": false,
     "start_time": "2022-08-29T07:50:30.317333",
     "status": "completed"
    },
    "tags": []
   },
   "source": [
    "**using pearson measure**"
   ]
  },
  {
   "cell_type": "code",
   "execution_count": 35,
   "id": "906e1928",
   "metadata": {
    "execution": {
     "iopub.execute_input": "2022-08-29T07:50:30.394415Z",
     "iopub.status.busy": "2022-08-29T07:50:30.393981Z",
     "iopub.status.idle": "2022-08-29T07:50:30.419977Z",
     "shell.execute_reply": "2022-08-29T07:50:30.418982Z"
    },
    "papermill": {
     "duration": 0.054934,
     "end_time": "2022-08-29T07:50:30.422396",
     "exception": false,
     "start_time": "2022-08-29T07:50:30.367462",
     "status": "completed"
    },
    "tags": []
   },
   "outputs": [
    {
     "data": {
      "text/html": [
       "<div>\n",
       "<style scoped>\n",
       "    .dataframe tbody tr th:only-of-type {\n",
       "        vertical-align: middle;\n",
       "    }\n",
       "\n",
       "    .dataframe tbody tr th {\n",
       "        vertical-align: top;\n",
       "    }\n",
       "\n",
       "    .dataframe thead th {\n",
       "        text-align: right;\n",
       "    }\n",
       "</style>\n",
       "<table border=\"1\" class=\"dataframe\">\n",
       "  <thead>\n",
       "    <tr style=\"text-align: right;\">\n",
       "      <th></th>\n",
       "      <th>person_age</th>\n",
       "      <th>person_income</th>\n",
       "      <th>person_emp_length</th>\n",
       "      <th>loan_amnt</th>\n",
       "      <th>loan_int_rate</th>\n",
       "      <th>loan_percent_income</th>\n",
       "      <th>cb_person_cred_hist_length</th>\n",
       "      <th>loan_status</th>\n",
       "    </tr>\n",
       "  </thead>\n",
       "  <tbody>\n",
       "    <tr>\n",
       "      <th>person_age</th>\n",
       "      <td>1.000000</td>\n",
       "      <td>0.173202</td>\n",
       "      <td>0.163106</td>\n",
       "      <td>0.050787</td>\n",
       "      <td>0.012580</td>\n",
       "      <td>-0.042411</td>\n",
       "      <td>0.859133</td>\n",
       "      <td>-0.021629</td>\n",
       "    </tr>\n",
       "    <tr>\n",
       "      <th>person_income</th>\n",
       "      <td>0.173202</td>\n",
       "      <td>1.000000</td>\n",
       "      <td>0.134268</td>\n",
       "      <td>0.266820</td>\n",
       "      <td>0.000792</td>\n",
       "      <td>-0.254471</td>\n",
       "      <td>0.117987</td>\n",
       "      <td>-0.144449</td>\n",
       "    </tr>\n",
       "    <tr>\n",
       "      <th>person_emp_length</th>\n",
       "      <td>0.163106</td>\n",
       "      <td>0.134268</td>\n",
       "      <td>1.000000</td>\n",
       "      <td>0.113082</td>\n",
       "      <td>-0.056405</td>\n",
       "      <td>-0.054111</td>\n",
       "      <td>0.144699</td>\n",
       "      <td>-0.082489</td>\n",
       "    </tr>\n",
       "    <tr>\n",
       "      <th>loan_amnt</th>\n",
       "      <td>0.050787</td>\n",
       "      <td>0.266820</td>\n",
       "      <td>0.113082</td>\n",
       "      <td>1.000000</td>\n",
       "      <td>0.146813</td>\n",
       "      <td>0.572612</td>\n",
       "      <td>0.041967</td>\n",
       "      <td>0.105376</td>\n",
       "    </tr>\n",
       "    <tr>\n",
       "      <th>loan_int_rate</th>\n",
       "      <td>0.012580</td>\n",
       "      <td>0.000792</td>\n",
       "      <td>-0.056405</td>\n",
       "      <td>0.146813</td>\n",
       "      <td>1.000000</td>\n",
       "      <td>0.120314</td>\n",
       "      <td>0.016696</td>\n",
       "      <td>0.335133</td>\n",
       "    </tr>\n",
       "    <tr>\n",
       "      <th>loan_percent_income</th>\n",
       "      <td>-0.042411</td>\n",
       "      <td>-0.254471</td>\n",
       "      <td>-0.054111</td>\n",
       "      <td>0.572612</td>\n",
       "      <td>0.120314</td>\n",
       "      <td>1.000000</td>\n",
       "      <td>-0.031690</td>\n",
       "      <td>0.379366</td>\n",
       "    </tr>\n",
       "    <tr>\n",
       "      <th>cb_person_cred_hist_length</th>\n",
       "      <td>0.859133</td>\n",
       "      <td>0.117987</td>\n",
       "      <td>0.144699</td>\n",
       "      <td>0.041967</td>\n",
       "      <td>0.016696</td>\n",
       "      <td>-0.031690</td>\n",
       "      <td>1.000000</td>\n",
       "      <td>-0.015529</td>\n",
       "    </tr>\n",
       "    <tr>\n",
       "      <th>loan_status</th>\n",
       "      <td>-0.021629</td>\n",
       "      <td>-0.144449</td>\n",
       "      <td>-0.082489</td>\n",
       "      <td>0.105376</td>\n",
       "      <td>0.335133</td>\n",
       "      <td>0.379366</td>\n",
       "      <td>-0.015529</td>\n",
       "      <td>1.000000</td>\n",
       "    </tr>\n",
       "  </tbody>\n",
       "</table>\n",
       "</div>"
      ],
      "text/plain": [
       "                            person_age  person_income  person_emp_length  \\\n",
       "person_age                    1.000000       0.173202           0.163106   \n",
       "person_income                 0.173202       1.000000           0.134268   \n",
       "person_emp_length             0.163106       0.134268           1.000000   \n",
       "loan_amnt                     0.050787       0.266820           0.113082   \n",
       "loan_int_rate                 0.012580       0.000792          -0.056405   \n",
       "loan_percent_income          -0.042411      -0.254471          -0.054111   \n",
       "cb_person_cred_hist_length    0.859133       0.117987           0.144699   \n",
       "loan_status                  -0.021629      -0.144449          -0.082489   \n",
       "\n",
       "                            loan_amnt  loan_int_rate  loan_percent_income  \\\n",
       "person_age                   0.050787       0.012580            -0.042411   \n",
       "person_income                0.266820       0.000792            -0.254471   \n",
       "person_emp_length            0.113082      -0.056405            -0.054111   \n",
       "loan_amnt                    1.000000       0.146813             0.572612   \n",
       "loan_int_rate                0.146813       1.000000             0.120314   \n",
       "loan_percent_income          0.572612       0.120314             1.000000   \n",
       "cb_person_cred_hist_length   0.041967       0.016696            -0.031690   \n",
       "loan_status                  0.105376       0.335133             0.379366   \n",
       "\n",
       "                            cb_person_cred_hist_length  loan_status  \n",
       "person_age                                    0.859133    -0.021629  \n",
       "person_income                                 0.117987    -0.144449  \n",
       "person_emp_length                             0.144699    -0.082489  \n",
       "loan_amnt                                     0.041967     0.105376  \n",
       "loan_int_rate                                 0.016696     0.335133  \n",
       "loan_percent_income                          -0.031690     0.379366  \n",
       "cb_person_cred_hist_length                    1.000000    -0.015529  \n",
       "loan_status                                  -0.015529     1.000000  "
      ]
     },
     "execution_count": 35,
     "metadata": {},
     "output_type": "execute_result"
    }
   ],
   "source": [
    "data_copy[numerical+[\"loan_status\"]].corr(method='pearson')"
   ]
  },
  {
   "cell_type": "code",
   "execution_count": 36,
   "id": "9c0b1df6",
   "metadata": {
    "execution": {
     "iopub.execute_input": "2022-08-29T07:50:30.475999Z",
     "iopub.status.busy": "2022-08-29T07:50:30.475122Z",
     "iopub.status.idle": "2022-08-29T07:50:30.823333Z",
     "shell.execute_reply": "2022-08-29T07:50:30.822036Z"
    },
    "papermill": {
     "duration": 0.37859,
     "end_time": "2022-08-29T07:50:30.825890",
     "exception": false,
     "start_time": "2022-08-29T07:50:30.447300",
     "status": "completed"
    },
    "tags": []
   },
   "outputs": [
    {
     "data": {
      "image/png": "[encoded data removed]",
      "text/plain": [
       "<Figure size 432x432 with 2 Axes>"
      ]
     },
     "metadata": {
      "needs_background": "light"
     },
     "output_type": "display_data"
    }
   ],
   "source": [
    "fig, ax = plt.subplots(figsize=(6,6))\n",
    "mask = np.zeros_like(data[numerical+[\"loan_status\"]].corr(method='pearson'), dtype=np.bool)\n",
    "mask[np.triu_indices_from(mask)] = True\n",
    "with sns.axes_style(\"white\"):\n",
    "    ax = sns.heatmap(data[numerical+[\"loan_status\"]].corr(method='pearson'), mask=mask, square=True)\n",
    "plt.show()"
   ]
  },
  {
   "cell_type": "markdown",
   "id": "6f3a0a6e",
   "metadata": {
    "papermill": {
     "duration": 0.025352,
     "end_time": "2022-08-29T07:50:30.876912",
     "exception": false,
     "start_time": "2022-08-29T07:50:30.851560",
     "status": "completed"
    },
    "tags": []
   },
   "source": [
    "* person_age and cb_person_cred_hist_length is positively strong correlated. \n",
    "* loan_percent_income is correlated loan_amnt and person_income,  \n",
    "* person_income is positively correlated with loan_amnt"
   ]
  },
  {
   "cell_type": "markdown",
   "id": "1edee5e5",
   "metadata": {
    "papermill": {
     "duration": 0.025684,
     "end_time": "2022-08-29T07:50:30.928744",
     "exception": false,
     "start_time": "2022-08-29T07:50:30.903060",
     "status": "completed"
    },
    "tags": []
   },
   "source": [
    "# Weight of evidence - IV"
   ]
  },
  {
   "cell_type": "markdown",
   "id": "3269bcb7",
   "metadata": {
    "papermill": {
     "duration": 0.02616,
     "end_time": "2022-08-29T07:50:30.980826",
     "exception": false,
     "start_time": "2022-08-29T07:50:30.954666",
     "status": "completed"
    },
    "tags": []
   },
   "source": [
    "**drop duplicate, impute missing data**"
   ]
  },
  {
   "cell_type": "code",
   "execution_count": 37,
   "id": "56894a96",
   "metadata": {
    "execution": {
     "iopub.execute_input": "2022-08-29T07:50:31.035353Z",
     "iopub.status.busy": "2022-08-29T07:50:31.034342Z",
     "iopub.status.idle": "2022-08-29T07:50:31.097300Z",
     "shell.execute_reply": "2022-08-29T07:50:31.095896Z"
    },
    "papermill": {
     "duration": 0.093207,
     "end_time": "2022-08-29T07:50:31.100247",
     "exception": false,
     "start_time": "2022-08-29T07:50:31.007040",
     "status": "completed"
    },
    "tags": []
   },
   "outputs": [],
   "source": [
    "data_cop = data.copy()\n",
    "# drop duplicate\n",
    "\n",
    "data_cop = data_cop.drop_duplicates()\n",
    "data_cop.reset_index(drop=True, inplace=True)\n",
    "#impute\n",
    "columns_num = data_cop.select_dtypes(['float', 'int']).columns\n",
    "data_cop[columns_num] = data_cop[columns_num].apply(lambda x: x.fillna(x.median()), axis=0)\n",
    "\n",
    "columns_obj = data_cop.select_dtypes(['object']).columns\n",
    "data_cop[columns_obj] = data_cop[columns_obj].apply(lambda x: x.fillna('Missing'), axis=0)\n",
    "\n"
   ]
  },
  {
   "cell_type": "code",
   "execution_count": 38,
   "id": "6e1090d7",
   "metadata": {
    "execution": {
     "iopub.execute_input": "2022-08-29T07:50:31.154551Z",
     "iopub.status.busy": "2022-08-29T07:50:31.153349Z",
     "iopub.status.idle": "2022-08-29T07:50:31.202585Z",
     "shell.execute_reply": "2022-08-29T07:50:31.201339Z"
    },
    "papermill": {
     "duration": 0.079128,
     "end_time": "2022-08-29T07:50:31.205186",
     "exception": false,
     "start_time": "2022-08-29T07:50:31.126058",
     "status": "completed"
    },
    "tags": []
   },
   "outputs": [
    {
     "data": {
      "text/html": [
       "<div>\n",
       "<style scoped>\n",
       "    .dataframe tbody tr th:only-of-type {\n",
       "        vertical-align: middle;\n",
       "    }\n",
       "\n",
       "    .dataframe tbody tr th {\n",
       "        vertical-align: top;\n",
       "    }\n",
       "\n",
       "    .dataframe thead th {\n",
       "        text-align: right;\n",
       "    }\n",
       "</style>\n",
       "<table border=\"1\" class=\"dataframe\">\n",
       "  <thead>\n",
       "    <tr style=\"text-align: right;\">\n",
       "      <th></th>\n",
       "      <th>col name</th>\n",
       "      <th>bin range</th>\n",
       "      <th>num of data</th>\n",
       "      <th>Events</th>\n",
       "      <th>% of Events</th>\n",
       "      <th>Non-Events</th>\n",
       "      <th>% of Non-Events</th>\n",
       "      <th>WoE</th>\n",
       "      <th>IV</th>\n",
       "    </tr>\n",
       "  </thead>\n",
       "  <tbody>\n",
       "    <tr>\n",
       "      <th>0</th>\n",
       "      <td>loan_int_rate</td>\n",
       "      <td>(5.419, 6.92]</td>\n",
       "      <td>3375</td>\n",
       "      <td>272</td>\n",
       "      <td>0.038369</td>\n",
       "      <td>3103</td>\n",
       "      <td>0.122517</td>\n",
       "      <td>-1.160996</td>\n",
       "      <td>0.097696</td>\n",
       "    </tr>\n",
       "    <tr>\n",
       "      <th>1</th>\n",
       "      <td>loan_int_rate</td>\n",
       "      <td>(6.92, 7.75]</td>\n",
       "      <td>3127</td>\n",
       "      <td>305</td>\n",
       "      <td>0.043024</td>\n",
       "      <td>2822</td>\n",
       "      <td>0.111423</td>\n",
       "      <td>-0.951563</td>\n",
       "      <td>0.065085</td>\n",
       "    </tr>\n",
       "    <tr>\n",
       "      <th>2</th>\n",
       "      <td>loan_int_rate</td>\n",
       "      <td>(7.75, 9.32]</td>\n",
       "      <td>3263</td>\n",
       "      <td>398</td>\n",
       "      <td>0.056143</td>\n",
       "      <td>2865</td>\n",
       "      <td>0.113120</td>\n",
       "      <td>-0.700545</td>\n",
       "      <td>0.039915</td>\n",
       "    </tr>\n",
       "    <tr>\n",
       "      <th>3</th>\n",
       "      <td>loan_int_rate</td>\n",
       "      <td>(9.32, 10.62]</td>\n",
       "      <td>3410</td>\n",
       "      <td>549</td>\n",
       "      <td>0.077444</td>\n",
       "      <td>2861</td>\n",
       "      <td>0.112962</td>\n",
       "      <td>-0.377501</td>\n",
       "      <td>0.013408</td>\n",
       "    </tr>\n",
       "    <tr>\n",
       "      <th>4</th>\n",
       "      <td>loan_int_rate</td>\n",
       "      <td>(10.62, 10.99]</td>\n",
       "      <td>4745</td>\n",
       "      <td>915</td>\n",
       "      <td>0.129073</td>\n",
       "      <td>3830</td>\n",
       "      <td>0.151222</td>\n",
       "      <td>-0.158369</td>\n",
       "      <td>0.003508</td>\n",
       "    </tr>\n",
       "    <tr>\n",
       "      <th>5</th>\n",
       "      <td>loan_int_rate</td>\n",
       "      <td>(10.99, 11.49]</td>\n",
       "      <td>1761</td>\n",
       "      <td>288</td>\n",
       "      <td>0.040626</td>\n",
       "      <td>1473</td>\n",
       "      <td>0.058159</td>\n",
       "      <td>-0.358769</td>\n",
       "      <td>0.006290</td>\n",
       "    </tr>\n",
       "    <tr>\n",
       "      <th>6</th>\n",
       "      <td>loan_int_rate</td>\n",
       "      <td>(11.49, 12.68]</td>\n",
       "      <td>3088</td>\n",
       "      <td>575</td>\n",
       "      <td>0.081112</td>\n",
       "      <td>2513</td>\n",
       "      <td>0.099222</td>\n",
       "      <td>-0.201536</td>\n",
       "      <td>0.003650</td>\n",
       "    </tr>\n",
       "    <tr>\n",
       "      <th>7</th>\n",
       "      <td>loan_int_rate</td>\n",
       "      <td>(12.68, 13.61]</td>\n",
       "      <td>3241</td>\n",
       "      <td>687</td>\n",
       "      <td>0.096911</td>\n",
       "      <td>2554</td>\n",
       "      <td>0.100841</td>\n",
       "      <td>-0.039755</td>\n",
       "      <td>0.000156</td>\n",
       "    </tr>\n",
       "    <tr>\n",
       "      <th>8</th>\n",
       "      <td>loan_int_rate</td>\n",
       "      <td>(13.61, 15.23]</td>\n",
       "      <td>3288</td>\n",
       "      <td>1237</td>\n",
       "      <td>0.174496</td>\n",
       "      <td>2051</td>\n",
       "      <td>0.080981</td>\n",
       "      <td>0.767688</td>\n",
       "      <td>0.071790</td>\n",
       "    </tr>\n",
       "    <tr>\n",
       "      <th>9</th>\n",
       "      <td>loan_int_rate</td>\n",
       "      <td>(15.23, 23.22]</td>\n",
       "      <td>3118</td>\n",
       "      <td>1863</td>\n",
       "      <td>0.262802</td>\n",
       "      <td>1255</td>\n",
       "      <td>0.049552</td>\n",
       "      <td>1.668379</td>\n",
       "      <td>0.355781</td>\n",
       "    </tr>\n",
       "  </tbody>\n",
       "</table>\n",
       "</div>"
      ],
      "text/plain": [
       "        col name       bin range  num of data  Events  % of Events  \\\n",
       "0  loan_int_rate   (5.419, 6.92]         3375     272     0.038369   \n",
       "1  loan_int_rate    (6.92, 7.75]         3127     305     0.043024   \n",
       "2  loan_int_rate    (7.75, 9.32]         3263     398     0.056143   \n",
       "3  loan_int_rate   (9.32, 10.62]         3410     549     0.077444   \n",
       "4  loan_int_rate  (10.62, 10.99]         4745     915     0.129073   \n",
       "5  loan_int_rate  (10.99, 11.49]         1761     288     0.040626   \n",
       "6  loan_int_rate  (11.49, 12.68]         3088     575     0.081112   \n",
       "7  loan_int_rate  (12.68, 13.61]         3241     687     0.096911   \n",
       "8  loan_int_rate  (13.61, 15.23]         3288    1237     0.174496   \n",
       "9  loan_int_rate  (15.23, 23.22]         3118    1863     0.262802   \n",
       "\n",
       "   Non-Events  % of Non-Events       WoE        IV  \n",
       "0        3103         0.122517 -1.160996  0.097696  \n",
       "1        2822         0.111423 -0.951563  0.065085  \n",
       "2        2865         0.113120 -0.700545  0.039915  \n",
       "3        2861         0.112962 -0.377501  0.013408  \n",
       "4        3830         0.151222 -0.158369  0.003508  \n",
       "5        1473         0.058159 -0.358769  0.006290  \n",
       "6        2513         0.099222 -0.201536  0.003650  \n",
       "7        2554         0.100841 -0.039755  0.000156  \n",
       "8        2051         0.080981  0.767688  0.071790  \n",
       "9        1255         0.049552  1.668379  0.355781  "
      ]
     },
     "execution_count": 38,
     "metadata": {},
     "output_type": "execute_result"
    }
   ],
   "source": [
    "def calculate_woe_iv(data, col, target, bins=10):\n",
    "    if (data[col].dtype.kind in 'bifc') and (len(np.unique(data[col]))>10):\n",
    "        bin_df = pd.qcut(data[col], bins,  duplicates='drop')\n",
    "        d0 = pd.DataFrame({'bin range': bin_df, 'y': data[target]})\n",
    "    else:\n",
    "        d0 = pd.DataFrame({'bin range': data[col], 'y': data[target]})\n",
    "\n",
    "    d = d0.groupby(\"bin range\", as_index=False).agg({\"y\": [\"count\", \"sum\"]})\n",
    "    d.columns = ['bin range', 'num of data', 'Events']\n",
    "\n",
    "    d['% of Events'] = np.maximum(d['Events'], 0.5) / d['Events'].sum()# avoid 0\n",
    "\n",
    "    d['Non-Events'] = d['num of data'] - d['Events']\n",
    "\n",
    "    d['% of Non-Events'] = np.maximum(d['Non-Events'], 0.5) / d['Non-Events'].sum()#avoid 0\n",
    "\n",
    "    d['WoE'] = np.log(d['% of Events']/d['% of Non-Events'])\n",
    "    d['IV'] = d['WoE'] * (d['% of Events'] - d['% of Non-Events'])\n",
    "    d.insert(loc=0, column='col name', value=col)\n",
    "\n",
    "    return d\n",
    "\n",
    "calculate_woe_iv(data_cop, \"loan_int_rate\", \"loan_status\")"
   ]
  },
  {
   "cell_type": "code",
   "execution_count": 39,
   "id": "5844c246",
   "metadata": {
    "execution": {
     "iopub.execute_input": "2022-08-29T07:50:31.259076Z",
     "iopub.status.busy": "2022-08-29T07:50:31.258651Z",
     "iopub.status.idle": "2022-08-29T07:50:31.438977Z",
     "shell.execute_reply": "2022-08-29T07:50:31.437781Z"
    },
    "papermill": {
     "duration": 0.210409,
     "end_time": "2022-08-29T07:50:31.441593",
     "exception": false,
     "start_time": "2022-08-29T07:50:31.231184",
     "status": "completed"
    },
    "tags": []
   },
   "outputs": [
    {
     "data": {
      "text/html": [
       "<div>\n",
       "<style scoped>\n",
       "    .dataframe tbody tr th:only-of-type {\n",
       "        vertical-align: middle;\n",
       "    }\n",
       "\n",
       "    .dataframe tbody tr th {\n",
       "        vertical-align: top;\n",
       "    }\n",
       "\n",
       "    .dataframe thead th {\n",
       "        text-align: right;\n",
       "    }\n",
       "</style>\n",
       "<table border=\"1\" class=\"dataframe\">\n",
       "  <thead>\n",
       "    <tr style=\"text-align: right;\">\n",
       "      <th></th>\n",
       "      <th>col name</th>\n",
       "      <th>IV</th>\n",
       "      <th>rank</th>\n",
       "    </tr>\n",
       "  </thead>\n",
       "  <tbody>\n",
       "    <tr>\n",
       "      <th>10</th>\n",
       "      <td>cb_person_cred_hist_length</td>\n",
       "      <td>0.004207</td>\n",
       "      <td>Useless</td>\n",
       "    </tr>\n",
       "    <tr>\n",
       "      <th>0</th>\n",
       "      <td>person_age</td>\n",
       "      <td>0.010719</td>\n",
       "      <td>Useless</td>\n",
       "    </tr>\n",
       "    <tr>\n",
       "      <th>3</th>\n",
       "      <td>person_emp_length</td>\n",
       "      <td>0.060641</td>\n",
       "      <td>Weak</td>\n",
       "    </tr>\n",
       "    <tr>\n",
       "      <th>6</th>\n",
       "      <td>loan_amnt</td>\n",
       "      <td>0.085864</td>\n",
       "      <td>Weak</td>\n",
       "    </tr>\n",
       "    <tr>\n",
       "      <th>4</th>\n",
       "      <td>loan_intent</td>\n",
       "      <td>0.095977</td>\n",
       "      <td>Weak</td>\n",
       "    </tr>\n",
       "    <tr>\n",
       "      <th>9</th>\n",
       "      <td>cb_person_default_on_file</td>\n",
       "      <td>0.164265</td>\n",
       "      <td>Medium</td>\n",
       "    </tr>\n",
       "    <tr>\n",
       "      <th>2</th>\n",
       "      <td>person_home_ownership</td>\n",
       "      <td>0.375582</td>\n",
       "      <td>Strong</td>\n",
       "    </tr>\n",
       "    <tr>\n",
       "      <th>1</th>\n",
       "      <td>person_income</td>\n",
       "      <td>0.469830</td>\n",
       "      <td>Strong</td>\n",
       "    </tr>\n",
       "    <tr>\n",
       "      <th>7</th>\n",
       "      <td>loan_int_rate</td>\n",
       "      <td>0.657280</td>\n",
       "      <td>suspicious</td>\n",
       "    </tr>\n",
       "    <tr>\n",
       "      <th>8</th>\n",
       "      <td>loan_percent_income</td>\n",
       "      <td>0.872763</td>\n",
       "      <td>suspicious</td>\n",
       "    </tr>\n",
       "    <tr>\n",
       "      <th>5</th>\n",
       "      <td>loan_grade</td>\n",
       "      <td>0.882659</td>\n",
       "      <td>suspicious</td>\n",
       "    </tr>\n",
       "  </tbody>\n",
       "</table>\n",
       "</div>"
      ],
      "text/plain": [
       "                      col name        IV        rank\n",
       "10  cb_person_cred_hist_length  0.004207     Useless\n",
       "0                   person_age  0.010719     Useless\n",
       "3            person_emp_length  0.060641        Weak\n",
       "6                    loan_amnt  0.085864        Weak\n",
       "4                  loan_intent  0.095977        Weak\n",
       "9    cb_person_default_on_file  0.164265      Medium\n",
       "2        person_home_ownership  0.375582      Strong\n",
       "1                person_income  0.469830      Strong\n",
       "7                loan_int_rate  0.657280  suspicious\n",
       "8          loan_percent_income  0.872763  suspicious\n",
       "5                   loan_grade  0.882659  suspicious"
      ]
     },
     "execution_count": 39,
     "metadata": {},
     "output_type": "execute_result"
    }
   ],
   "source": [
    "def rank_iv(iv):\n",
    "    if iv <= 0.02:\n",
    "        return 'Useless'\n",
    "    elif iv <= 0.1:\n",
    "        return 'Weak'\n",
    "    elif iv <= 0.3:\n",
    "        return 'Medium'\n",
    "    elif iv <= 0.5:\n",
    "        return 'Strong'\n",
    "    else:\n",
    "        return 'suspicious'\n",
    "target = \"loan_status\"\n",
    "cols_expt_target = list(data.columns.drop(target))\n",
    "IV = []\n",
    "for col in cols_expt_target:\n",
    "    IV.append(calculate_woe_iv(data_cop, col, target)[\"IV\"].sum())\n",
    "\n",
    "res = pd.DataFrame(list(zip(cols_expt_target, IV)), columns=[\"col name\", \"IV\"])\n",
    "res[\"rank\"] = res[\"IV\"].apply(rank_iv)\n",
    "res.sort_values(\"IV\")"
   ]
  }
 ],
 "metadata": {
  "kernelspec": {
   "display_name": "Python 3",
   "language": "python",
   "name": "python3"
  },
  "language_info": {
   "codemirror_mode": {
    "name": "ipython",
    "version": 3
   },
   "file_extension": ".py",
   "mimetype": "text/x-python",
   "name": "python",
   "nbconvert_exporter": "python",
   "pygments_lexer": "ipython3",
   "version": "3.7.12"
  },
  "papermill": {
   "default_parameters": {},
   "duration": 24.626891,
   "end_time": "2022-08-29T07:50:32.291972",
   "environment_variables": {},
   "exception": null,
   "input_path": "__notebook__.ipynb",
   "output_path": "__notebook__.ipynb",
   "parameters": {},
   "start_time": "2022-08-29T07:50:07.665081",
   "version": "2.3.4"
  }
 },
 "nbformat": 4,
 "nbformat_minor": 5
}
