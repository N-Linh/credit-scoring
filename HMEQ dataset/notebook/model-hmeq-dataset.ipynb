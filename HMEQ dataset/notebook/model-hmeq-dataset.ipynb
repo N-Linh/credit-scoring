{
 "cells": [
  {
   "cell_type": "code",
   "execution_count": 1,
   "id": "43f2d19e",
   "metadata": {
    "_cell_guid": "b1076dfc-b9ad-4769-8c92-a6c4dae69d19",
    "_uuid": "8f2839f25d086af736a60e9eeb907d3b93b6e0e5",
    "execution": {
     "iopub.execute_input": "2022-08-29T07:40:16.754735Z",
     "iopub.status.busy": "2022-08-29T07:40:16.753770Z",
     "iopub.status.idle": "2022-08-29T07:40:18.357576Z",
     "shell.execute_reply": "2022-08-29T07:40:18.356446Z"
    },
    "papermill": {
     "duration": 1.617038,
     "end_time": "2022-08-29T07:40:18.360344",
     "exception": false,
     "start_time": "2022-08-29T07:40:16.743306",
     "status": "completed"
    },
    "tags": []
   },
   "outputs": [
    {
     "name": "stdout",
     "output_type": "stream",
     "text": [
      "/kaggle/input/hmeq-data/hmeq.csv\n"
     ]
    }
   ],
   "source": [
    "import numpy as np # linear algebra\n",
    "import pandas as pd # data processing, CSV file I/O (e.g. pd.read_csv)\n",
    "import matplotlib.pyplot as plt\n",
    "import seaborn as sns\n",
    "from scipy.stats import skew\n",
    "from scipy.stats import kurtosis\n",
    "import scipy.stats as stats\n",
    "from sklearn import preprocessing\n",
    "from itertools import combinations\n",
    "import warnings\n",
    "import pandas as pd\n",
    "import missingno as msno\n",
    "from sklearn.impute import SimpleImputer\n",
    "from sklearn.compose import ColumnTransformer\n",
    "from sklearn.model_selection import train_test_split\n",
    "from sklearn import svm\n",
    "from sklearn.pipeline import Pipeline\n",
    "from category_encoders.woe import WOEEncoder\n",
    "from sklearn.preprocessing import OneHotEncoder, RobustScaler\n",
    "from sklearn.linear_model import LogisticRegression\n",
    "from sklearn.metrics import accuracy_score\n",
    "warnings.filterwarnings(\"ignore\")\n",
    "\n",
    "\n",
    "import os\n",
    "for dirname, _, filenames in os.walk('/kaggle/input'):\n",
    "    for filename in filenames:\n",
    "        print(os.path.join(dirname, filename))\n",
    "\n"
   ]
  },
  {
   "cell_type": "code",
   "execution_count": 2,
   "id": "daa4c38f",
   "metadata": {
    "execution": {
     "iopub.execute_input": "2022-08-29T07:40:18.377020Z",
     "iopub.status.busy": "2022-08-29T07:40:18.376633Z",
     "iopub.status.idle": "2022-08-29T07:40:18.410989Z",
     "shell.execute_reply": "2022-08-29T07:40:18.410018Z"
    },
    "papermill": {
     "duration": 0.045389,
     "end_time": "2022-08-29T07:40:18.413327",
     "exception": false,
     "start_time": "2022-08-29T07:40:18.367938",
     "status": "completed"
    },
    "tags": []
   },
   "outputs": [],
   "source": [
    "data = pd.read_csv(\"/kaggle/input/hmeq-data/hmeq.csv\")"
   ]
  },
  {
   "cell_type": "code",
   "execution_count": 3,
   "id": "dca1bafa",
   "metadata": {
    "execution": {
     "iopub.execute_input": "2022-08-29T07:40:18.429123Z",
     "iopub.status.busy": "2022-08-29T07:40:18.428573Z",
     "iopub.status.idle": "2022-08-29T07:40:18.456737Z",
     "shell.execute_reply": "2022-08-29T07:40:18.455568Z"
    },
    "papermill": {
     "duration": 0.038671,
     "end_time": "2022-08-29T07:40:18.459105",
     "exception": false,
     "start_time": "2022-08-29T07:40:18.420434",
     "status": "completed"
    },
    "tags": []
   },
   "outputs": [
    {
     "data": {
      "text/html": [
       "<div>\n",
       "<style scoped>\n",
       "    .dataframe tbody tr th:only-of-type {\n",
       "        vertical-align: middle;\n",
       "    }\n",
       "\n",
       "    .dataframe tbody tr th {\n",
       "        vertical-align: top;\n",
       "    }\n",
       "\n",
       "    .dataframe thead th {\n",
       "        text-align: right;\n",
       "    }\n",
       "</style>\n",
       "<table border=\"1\" class=\"dataframe\">\n",
       "  <thead>\n",
       "    <tr style=\"text-align: right;\">\n",
       "      <th></th>\n",
       "      <th>BAD</th>\n",
       "      <th>LOAN</th>\n",
       "      <th>MORTDUE</th>\n",
       "      <th>VALUE</th>\n",
       "      <th>REASON</th>\n",
       "      <th>JOB</th>\n",
       "      <th>YOJ</th>\n",
       "      <th>DEROG</th>\n",
       "      <th>DELINQ</th>\n",
       "      <th>CLAGE</th>\n",
       "      <th>NINQ</th>\n",
       "      <th>CLNO</th>\n",
       "      <th>DEBTINC</th>\n",
       "    </tr>\n",
       "  </thead>\n",
       "  <tbody>\n",
       "    <tr>\n",
       "      <th>0</th>\n",
       "      <td>1</td>\n",
       "      <td>1100</td>\n",
       "      <td>25860.0</td>\n",
       "      <td>39025.0</td>\n",
       "      <td>HomeImp</td>\n",
       "      <td>Other</td>\n",
       "      <td>10.5</td>\n",
       "      <td>0.0</td>\n",
       "      <td>0.0</td>\n",
       "      <td>94.366667</td>\n",
       "      <td>1.0</td>\n",
       "      <td>9.0</td>\n",
       "      <td>NaN</td>\n",
       "    </tr>\n",
       "    <tr>\n",
       "      <th>1</th>\n",
       "      <td>1</td>\n",
       "      <td>1300</td>\n",
       "      <td>70053.0</td>\n",
       "      <td>68400.0</td>\n",
       "      <td>HomeImp</td>\n",
       "      <td>Other</td>\n",
       "      <td>7.0</td>\n",
       "      <td>0.0</td>\n",
       "      <td>2.0</td>\n",
       "      <td>121.833333</td>\n",
       "      <td>0.0</td>\n",
       "      <td>14.0</td>\n",
       "      <td>NaN</td>\n",
       "    </tr>\n",
       "    <tr>\n",
       "      <th>2</th>\n",
       "      <td>1</td>\n",
       "      <td>1500</td>\n",
       "      <td>13500.0</td>\n",
       "      <td>16700.0</td>\n",
       "      <td>HomeImp</td>\n",
       "      <td>Other</td>\n",
       "      <td>4.0</td>\n",
       "      <td>0.0</td>\n",
       "      <td>0.0</td>\n",
       "      <td>149.466667</td>\n",
       "      <td>1.0</td>\n",
       "      <td>10.0</td>\n",
       "      <td>NaN</td>\n",
       "    </tr>\n",
       "    <tr>\n",
       "      <th>3</th>\n",
       "      <td>1</td>\n",
       "      <td>1500</td>\n",
       "      <td>NaN</td>\n",
       "      <td>NaN</td>\n",
       "      <td>NaN</td>\n",
       "      <td>NaN</td>\n",
       "      <td>NaN</td>\n",
       "      <td>NaN</td>\n",
       "      <td>NaN</td>\n",
       "      <td>NaN</td>\n",
       "      <td>NaN</td>\n",
       "      <td>NaN</td>\n",
       "      <td>NaN</td>\n",
       "    </tr>\n",
       "    <tr>\n",
       "      <th>4</th>\n",
       "      <td>0</td>\n",
       "      <td>1700</td>\n",
       "      <td>97800.0</td>\n",
       "      <td>112000.0</td>\n",
       "      <td>HomeImp</td>\n",
       "      <td>Office</td>\n",
       "      <td>3.0</td>\n",
       "      <td>0.0</td>\n",
       "      <td>0.0</td>\n",
       "      <td>93.333333</td>\n",
       "      <td>0.0</td>\n",
       "      <td>14.0</td>\n",
       "      <td>NaN</td>\n",
       "    </tr>\n",
       "  </tbody>\n",
       "</table>\n",
       "</div>"
      ],
      "text/plain": [
       "   BAD  LOAN  MORTDUE     VALUE   REASON     JOB   YOJ  DEROG  DELINQ  \\\n",
       "0    1  1100  25860.0   39025.0  HomeImp   Other  10.5    0.0     0.0   \n",
       "1    1  1300  70053.0   68400.0  HomeImp   Other   7.0    0.0     2.0   \n",
       "2    1  1500  13500.0   16700.0  HomeImp   Other   4.0    0.0     0.0   \n",
       "3    1  1500      NaN       NaN      NaN     NaN   NaN    NaN     NaN   \n",
       "4    0  1700  97800.0  112000.0  HomeImp  Office   3.0    0.0     0.0   \n",
       "\n",
       "        CLAGE  NINQ  CLNO  DEBTINC  \n",
       "0   94.366667   1.0   9.0      NaN  \n",
       "1  121.833333   0.0  14.0      NaN  \n",
       "2  149.466667   1.0  10.0      NaN  \n",
       "3         NaN   NaN   NaN      NaN  \n",
       "4   93.333333   0.0  14.0      NaN  "
      ]
     },
     "execution_count": 3,
     "metadata": {},
     "output_type": "execute_result"
    }
   ],
   "source": [
    "data_copy = data.copy()\n",
    "data_copy.head()"
   ]
  },
  {
   "cell_type": "code",
   "execution_count": 4,
   "id": "e7c15d0b",
   "metadata": {
    "execution": {
     "iopub.execute_input": "2022-08-29T07:40:18.483173Z",
     "iopub.status.busy": "2022-08-29T07:40:18.482703Z",
     "iopub.status.idle": "2022-08-29T07:40:18.490430Z",
     "shell.execute_reply": "2022-08-29T07:40:18.488921Z"
    },
    "papermill": {
     "duration": 0.024533,
     "end_time": "2022-08-29T07:40:18.492854",
     "exception": false,
     "start_time": "2022-08-29T07:40:18.468321",
     "status": "completed"
    },
    "tags": []
   },
   "outputs": [
    {
     "data": {
      "text/plain": [
       "(5960, 13)"
      ]
     },
     "execution_count": 4,
     "metadata": {},
     "output_type": "execute_result"
    }
   ],
   "source": [
    "data_copy.shape"
   ]
  },
  {
   "cell_type": "markdown",
   "id": "80be9571",
   "metadata": {
    "papermill": {
     "duration": 0.010175,
     "end_time": "2022-08-29T07:40:18.512177",
     "exception": false,
     "start_time": "2022-08-29T07:40:18.502002",
     "status": "completed"
    },
    "tags": []
   },
   "source": [
    "# Train Test split before pre-processing"
   ]
  },
  {
   "cell_type": "code",
   "execution_count": 5,
   "id": "196bb0d1",
   "metadata": {
    "execution": {
     "iopub.execute_input": "2022-08-29T07:40:18.537090Z",
     "iopub.status.busy": "2022-08-29T07:40:18.536380Z",
     "iopub.status.idle": "2022-08-29T07:40:18.562234Z",
     "shell.execute_reply": "2022-08-29T07:40:18.561151Z"
    },
    "papermill": {
     "duration": 0.040707,
     "end_time": "2022-08-29T07:40:18.564453",
     "exception": false,
     "start_time": "2022-08-29T07:40:18.523746",
     "status": "completed"
    },
    "tags": []
   },
   "outputs": [
    {
     "data": {
      "text/plain": [
       "0"
      ]
     },
     "execution_count": 5,
     "metadata": {},
     "output_type": "execute_result"
    }
   ],
   "source": [
    "#check duplicate\n",
    "data_copy.duplicated().sum()"
   ]
  },
  {
   "cell_type": "code",
   "execution_count": 6,
   "id": "0204be8c",
   "metadata": {
    "execution": {
     "iopub.execute_input": "2022-08-29T07:40:18.581732Z",
     "iopub.status.busy": "2022-08-29T07:40:18.581016Z",
     "iopub.status.idle": "2022-08-29T07:40:18.587278Z",
     "shell.execute_reply": "2022-08-29T07:40:18.586589Z"
    },
    "papermill": {
     "duration": 0.017162,
     "end_time": "2022-08-29T07:40:18.589330",
     "exception": false,
     "start_time": "2022-08-29T07:40:18.572168",
     "status": "completed"
    },
    "tags": []
   },
   "outputs": [],
   "source": [
    "y = data_copy.pop(\"BAD\")\n",
    "X = data_copy"
   ]
  },
  {
   "cell_type": "code",
   "execution_count": 7,
   "id": "a69a5fd6",
   "metadata": {
    "execution": {
     "iopub.execute_input": "2022-08-29T07:40:18.606195Z",
     "iopub.status.busy": "2022-08-29T07:40:18.605557Z",
     "iopub.status.idle": "2022-08-29T07:40:18.614629Z",
     "shell.execute_reply": "2022-08-29T07:40:18.613842Z"
    },
    "papermill": {
     "duration": 0.019967,
     "end_time": "2022-08-29T07:40:18.616869",
     "exception": false,
     "start_time": "2022-08-29T07:40:18.596902",
     "status": "completed"
    },
    "tags": []
   },
   "outputs": [],
   "source": [
    "#train test split\n",
    "X_train, X_test, y_train, y_test = train_test_split(X, y, random_state=42, test_size = 0.2)"
   ]
  },
  {
   "cell_type": "code",
   "execution_count": 8,
   "id": "3f8ae830",
   "metadata": {
    "execution": {
     "iopub.execute_input": "2022-08-29T07:40:18.634455Z",
     "iopub.status.busy": "2022-08-29T07:40:18.633956Z",
     "iopub.status.idle": "2022-08-29T07:40:18.640322Z",
     "shell.execute_reply": "2022-08-29T07:40:18.639597Z"
    },
    "papermill": {
     "duration": 0.01766,
     "end_time": "2022-08-29T07:40:18.642223",
     "exception": false,
     "start_time": "2022-08-29T07:40:18.624563",
     "status": "completed"
    },
    "tags": []
   },
   "outputs": [
    {
     "data": {
      "text/plain": [
       "((4768, 12), (4768,), (1192, 12), (1192,))"
      ]
     },
     "execution_count": 8,
     "metadata": {},
     "output_type": "execute_result"
    }
   ],
   "source": [
    "X_train.shape, y_train.shape, X_test.shape, y_test.shape"
   ]
  },
  {
   "cell_type": "markdown",
   "id": "4efa166f",
   "metadata": {
    "papermill": {
     "duration": 0.007414,
     "end_time": "2022-08-29T07:40:18.657571",
     "exception": false,
     "start_time": "2022-08-29T07:40:18.650157",
     "status": "completed"
    },
    "tags": []
   },
   "source": [
    "# Feature engineering"
   ]
  },
  {
   "cell_type": "markdown",
   "id": "5c2b65c4",
   "metadata": {
    "papermill": {
     "duration": 0.007163,
     "end_time": "2022-08-29T07:40:18.672615",
     "exception": false,
     "start_time": "2022-08-29T07:40:18.665452",
     "status": "completed"
    },
    "tags": []
   },
   "source": [
    "1. drop duplicate\n",
    "2. impute missing\n",
    "3. process outliers (robust scaler)\n",
    "4. encode categorical data"
   ]
  },
  {
   "cell_type": "code",
   "execution_count": 9,
   "id": "3cf73811",
   "metadata": {
    "execution": {
     "iopub.execute_input": "2022-08-29T07:40:18.689152Z",
     "iopub.status.busy": "2022-08-29T07:40:18.688467Z",
     "iopub.status.idle": "2022-08-29T07:40:18.693033Z",
     "shell.execute_reply": "2022-08-29T07:40:18.692114Z"
    },
    "papermill": {
     "duration": 0.015461,
     "end_time": "2022-08-29T07:40:18.695134",
     "exception": false,
     "start_time": "2022-08-29T07:40:18.679673",
     "status": "completed"
    },
    "tags": []
   },
   "outputs": [],
   "source": [
    "categorical_cols= ['REASON', 'JOB']\n",
    "numerical_cols= ['LOAN', 'DEBTINC', 'DELINQ', 'MORTDUE', 'YOJ', 'CLNO', 'DEROG', 'CLAGE', 'NINQ', 'VALUE']"
   ]
  },
  {
   "cell_type": "code",
   "execution_count": 10,
   "id": "ab2f2362",
   "metadata": {
    "execution": {
     "iopub.execute_input": "2022-08-29T07:40:18.712422Z",
     "iopub.status.busy": "2022-08-29T07:40:18.711773Z",
     "iopub.status.idle": "2022-08-29T07:40:18.718038Z",
     "shell.execute_reply": "2022-08-29T07:40:18.717273Z"
    },
    "papermill": {
     "duration": 0.017011,
     "end_time": "2022-08-29T07:40:18.720009",
     "exception": false,
     "start_time": "2022-08-29T07:40:18.702998",
     "status": "completed"
    },
    "tags": []
   },
   "outputs": [],
   "source": [
    "#feature engineering for numerical data\n",
    "num_transformer = Pipeline(\n",
    "    steps=[(\"imputer\", SimpleImputer(missing_values=np.nan, strategy='median')), (\"scaler\", RobustScaler())]\n",
    ")\n",
    "\n",
    "#feature engineering for categorical data\n",
    "cat_transformer = Pipeline(\n",
    "    steps=[\n",
    "        (\"imputer\", SimpleImputer(strategy=\"most_frequent\")),\n",
    "        (\"onehot\", OneHotEncoder(handle_unknown=\"ignore\", sparse=False)),\n",
    "    ]\n",
    ")\n",
    "#full training feature engineering\n",
    "preprocessor = ColumnTransformer(\n",
    "    transformers=[\n",
    "        (\"num\", num_transformer, numerical_cols),\n",
    "        (\"cat\", cat_transformer, categorical_cols),\n",
    "    ]\n",
    ")"
   ]
  },
  {
   "cell_type": "markdown",
   "id": "b14578e3",
   "metadata": {
    "papermill": {
     "duration": 0.00726,
     "end_time": "2022-08-29T07:40:18.735138",
     "exception": false,
     "start_time": "2022-08-29T07:40:18.727878",
     "status": "completed"
    },
    "tags": []
   },
   "source": [
    "# Model"
   ]
  },
  {
   "cell_type": "code",
   "execution_count": 11,
   "id": "855e317b",
   "metadata": {
    "execution": {
     "iopub.execute_input": "2022-08-29T07:40:18.752710Z",
     "iopub.status.busy": "2022-08-29T07:40:18.752033Z",
     "iopub.status.idle": "2022-08-29T07:40:18.757129Z",
     "shell.execute_reply": "2022-08-29T07:40:18.756412Z"
    },
    "papermill": {
     "duration": 0.01621,
     "end_time": "2022-08-29T07:40:18.759125",
     "exception": false,
     "start_time": "2022-08-29T07:40:18.742915",
     "status": "completed"
    },
    "tags": []
   },
   "outputs": [],
   "source": [
    "#full training pipline\n",
    "clf_logReg = Pipeline(\n",
    "    steps=[(\"preprocessor\", preprocessor), (\"classifier\", LogisticRegression())]\n",
    ")\n",
    "\n",
    "clf_svm = Pipeline(\n",
    "    steps=[(\"preprocessor\", preprocessor), (\"classifier\", svm.SVC(probability=True))]\n",
    ")"
   ]
  },
  {
   "cell_type": "code",
   "execution_count": 12,
   "id": "a8f480fb",
   "metadata": {
    "execution": {
     "iopub.execute_input": "2022-08-29T07:40:18.776158Z",
     "iopub.status.busy": "2022-08-29T07:40:18.775517Z",
     "iopub.status.idle": "2022-08-29T07:40:21.900162Z",
     "shell.execute_reply": "2022-08-29T07:40:21.899335Z"
    },
    "papermill": {
     "duration": 3.135637,
     "end_time": "2022-08-29T07:40:21.902338",
     "exception": false,
     "start_time": "2022-08-29T07:40:18.766701",
     "status": "completed"
    },
    "tags": []
   },
   "outputs": [
    {
     "data": {
      "text/plain": [
       "Pipeline(steps=[('preprocessor',\n",
       "                 ColumnTransformer(transformers=[('num',\n",
       "                                                  Pipeline(steps=[('imputer',\n",
       "                                                                   SimpleImputer(strategy='median')),\n",
       "                                                                  ('scaler',\n",
       "                                                                   RobustScaler())]),\n",
       "                                                  ['LOAN', 'DEBTINC', 'DELINQ',\n",
       "                                                   'MORTDUE', 'YOJ', 'CLNO',\n",
       "                                                   'DEROG', 'CLAGE', 'NINQ',\n",
       "                                                   'VALUE']),\n",
       "                                                 ('cat',\n",
       "                                                  Pipeline(steps=[('imputer',\n",
       "                                                                   SimpleImputer(strategy='most_frequent')),\n",
       "                                                                  ('onehot',\n",
       "                                                                   OneHotEncoder(handle_unknown='ignore',\n",
       "                                                                                 sparse=False))]),\n",
       "                                                  ['REASON', 'JOB'])])),\n",
       "                ('classifier', SVC(probability=True))])"
      ]
     },
     "execution_count": 12,
     "metadata": {},
     "output_type": "execute_result"
    }
   ],
   "source": [
    "clf_logReg.fit(X_train, y_train)\n",
    "clf_svm.fit(X_train, y_train)"
   ]
  },
  {
   "cell_type": "code",
   "execution_count": 13,
   "id": "f91ebc94",
   "metadata": {
    "execution": {
     "iopub.execute_input": "2022-08-29T07:40:21.921143Z",
     "iopub.status.busy": "2022-08-29T07:40:21.920426Z",
     "iopub.status.idle": "2022-08-29T07:40:22.147560Z",
     "shell.execute_reply": "2022-08-29T07:40:22.145459Z"
    },
    "papermill": {
     "duration": 0.239647,
     "end_time": "2022-08-29T07:40:22.150293",
     "exception": false,
     "start_time": "2022-08-29T07:40:21.910646",
     "status": "completed"
    },
    "tags": []
   },
   "outputs": [
    {
     "name": "stdout",
     "output_type": "stream",
     "text": [
      "Accuracy score logistic regression 0.8162751677852349\n",
      "Accuracy score svm 0.863255033557047\n"
     ]
    }
   ],
   "source": [
    "y_pred = clf_logReg.predict(X_test)\n",
    "print(f\"Accuracy score logistic regression {accuracy_score(list(y_test), list(y_pred))}\")\n",
    "\n",
    "y_pred = clf_svm.predict(X_test)\n",
    "print(f\"Accuracy score svm {accuracy_score(list(y_test), list(y_pred))}\")"
   ]
  },
  {
   "cell_type": "code",
   "execution_count": 14,
   "id": "01bca4b3",
   "metadata": {
    "execution": {
     "iopub.execute_input": "2022-08-29T07:40:22.168363Z",
     "iopub.status.busy": "2022-08-29T07:40:22.167766Z",
     "iopub.status.idle": "2022-08-29T07:40:22.176847Z",
     "shell.execute_reply": "2022-08-29T07:40:22.175931Z"
    },
    "papermill": {
     "duration": 0.02059,
     "end_time": "2022-08-29T07:40:22.179134",
     "exception": false,
     "start_time": "2022-08-29T07:40:22.158544",
     "status": "completed"
    },
    "tags": []
   },
   "outputs": [],
   "source": [
    "from sklearn.metrics import roc_curve, auc\n",
    "\n",
    "\n",
    "def plot_roc_curve(model, X_test, y_test):\n",
    "    y_pred_prob_test = model.predict_proba(X_test)[:, 1]\n",
    "    fpr, tpr, thres = roc_curve(y_test, y_pred_prob_test)\n",
    "    roc_auc = auc(fpr, tpr)\n",
    "    plt.figure(figsize = (10, 8))\n",
    "    plt.plot(fpr, tpr, 'b-', color='darkorange', lw=2, linestyle='--', label='ROC curve (area = %0.2f)'%roc_auc)\n",
    "    plt.plot([0, 1], [0, 1], '--')\n",
    "    plt.axis([0, 1, 0, 1])\n",
    "    plt.xlabel('False Positive Rate')\n",
    "    plt.ylabel('True Positive Rate')\n",
    "    plt.legend(loc='lower right')\n",
    "    plt.title('ROC Curve')\n"
   ]
  },
  {
   "cell_type": "code",
   "execution_count": 15,
   "id": "4b9df65d",
   "metadata": {
    "execution": {
     "iopub.execute_input": "2022-08-29T07:40:22.197338Z",
     "iopub.status.busy": "2022-08-29T07:40:22.196416Z",
     "iopub.status.idle": "2022-08-29T07:40:22.878565Z",
     "shell.execute_reply": "2022-08-29T07:40:22.877555Z"
    },
    "papermill": {
     "duration": 0.693876,
     "end_time": "2022-08-29T07:40:22.881026",
     "exception": false,
     "start_time": "2022-08-29T07:40:22.187150",
     "status": "completed"
    },
    "tags": []
   },
   "outputs": [
    {
     "data": {
      "image/png": "[encoded data removed]",
      "text/plain": [
       "<Figure size 720x576 with 1 Axes>"
      ]
     },
     "metadata": {
      "needs_background": "light"
     },
     "output_type": "display_data"
    },
    {
     "data": {
      "image/png": "[encoded data removed]",
      "text/plain": [
       "<Figure size 720x576 with 1 Axes>"
      ]
     },
     "metadata": {
      "needs_background": "light"
     },
     "output_type": "display_data"
    }
   ],
   "source": [
    "plot_roc_curve(clf_logReg, X_test, y_test)\n",
    "plot_roc_curve(clf_svm, X_test, y_test)"
   ]
  },
  {
   "cell_type": "markdown",
   "id": "0135d597",
   "metadata": {
    "papermill": {
     "duration": 0.008361,
     "end_time": "2022-08-29T07:40:22.898833",
     "exception": false,
     "start_time": "2022-08-29T07:40:22.890472",
     "status": "completed"
    },
    "tags": []
   },
   "source": [
    "# Using weight of evidence - IV encoder"
   ]
  },
  {
   "cell_type": "code",
   "execution_count": 16,
   "id": "3d7ce4d5",
   "metadata": {
    "execution": {
     "iopub.execute_input": "2022-08-29T07:40:22.917714Z",
     "iopub.status.busy": "2022-08-29T07:40:22.917277Z",
     "iopub.status.idle": "2022-08-29T07:40:22.922269Z",
     "shell.execute_reply": "2022-08-29T07:40:22.921560Z"
    },
    "papermill": {
     "duration": 0.016879,
     "end_time": "2022-08-29T07:40:22.924214",
     "exception": false,
     "start_time": "2022-08-29T07:40:22.907335",
     "status": "completed"
    },
    "tags": []
   },
   "outputs": [],
   "source": [
    "data_woe = data.copy()"
   ]
  },
  {
   "cell_type": "code",
   "execution_count": 17,
   "id": "299cd76b",
   "metadata": {
    "execution": {
     "iopub.execute_input": "2022-08-29T07:40:22.943378Z",
     "iopub.status.busy": "2022-08-29T07:40:22.942833Z",
     "iopub.status.idle": "2022-08-29T07:40:22.961725Z",
     "shell.execute_reply": "2022-08-29T07:40:22.960876Z"
    },
    "papermill": {
     "duration": 0.030812,
     "end_time": "2022-08-29T07:40:22.963733",
     "exception": false,
     "start_time": "2022-08-29T07:40:22.932921",
     "status": "completed"
    },
    "tags": []
   },
   "outputs": [
    {
     "data": {
      "text/plain": [
       "0"
      ]
     },
     "execution_count": 17,
     "metadata": {},
     "output_type": "execute_result"
    }
   ],
   "source": [
    "#remove duplicate\n",
    "data_woe = data_woe.drop_duplicates()\n",
    "data_woe.reset_index(drop=True, inplace=True)\n",
    "data_woe.duplicated().sum()"
   ]
  },
  {
   "cell_type": "code",
   "execution_count": 18,
   "id": "c20b054a",
   "metadata": {
    "execution": {
     "iopub.execute_input": "2022-08-29T07:40:22.983650Z",
     "iopub.status.busy": "2022-08-29T07:40:22.983033Z",
     "iopub.status.idle": "2022-08-29T07:40:22.990926Z",
     "shell.execute_reply": "2022-08-29T07:40:22.989929Z"
    },
    "papermill": {
     "duration": 0.020423,
     "end_time": "2022-08-29T07:40:22.993341",
     "exception": false,
     "start_time": "2022-08-29T07:40:22.972918",
     "status": "completed"
    },
    "tags": []
   },
   "outputs": [],
   "source": [
    "#train test split\n",
    "y_woe = data_woe.pop(\"BAD\")\n",
    "X_woe = data_woe\n",
    "X_train_woe, X_test_woe, y_train_woe, y_test_woe = train_test_split(X_woe, y_woe, random_state=42, test_size=0.2)"
   ]
  },
  {
   "cell_type": "code",
   "execution_count": 19,
   "id": "c8e7af79",
   "metadata": {
    "execution": {
     "iopub.execute_input": "2022-08-29T07:40:23.013374Z",
     "iopub.status.busy": "2022-08-29T07:40:23.012763Z",
     "iopub.status.idle": "2022-08-29T07:40:23.019750Z",
     "shell.execute_reply": "2022-08-29T07:40:23.018866Z"
    },
    "papermill": {
     "duration": 0.019547,
     "end_time": "2022-08-29T07:40:23.021827",
     "exception": false,
     "start_time": "2022-08-29T07:40:23.002280",
     "status": "completed"
    },
    "tags": []
   },
   "outputs": [
    {
     "data": {
      "text/plain": [
       "((4768, 12), (1192, 12), (4768,), (1192,))"
      ]
     },
     "execution_count": 19,
     "metadata": {},
     "output_type": "execute_result"
    }
   ],
   "source": [
    "X_train_woe.shape, X_test_woe.shape, y_train_woe.shape, y_test_woe.shape"
   ]
  },
  {
   "cell_type": "code",
   "execution_count": 20,
   "id": "934c7c24",
   "metadata": {
    "execution": {
     "iopub.execute_input": "2022-08-29T07:40:23.042150Z",
     "iopub.status.busy": "2022-08-29T07:40:23.041566Z",
     "iopub.status.idle": "2022-08-29T07:40:23.347828Z",
     "shell.execute_reply": "2022-08-29T07:40:23.346715Z"
    },
    "papermill": {
     "duration": 0.319431,
     "end_time": "2022-08-29T07:40:23.350639",
     "exception": false,
     "start_time": "2022-08-29T07:40:23.031208",
     "status": "completed"
    },
    "tags": []
   },
   "outputs": [],
   "source": [
    "for col in categorical_cols + numerical_cols:\n",
    "    woe=WOEEncoder(cols=[col], random_state=42, regularization=1)\n",
    "        \n",
    "    X_train_woe['woe_'+col]=woe.fit_transform(X_train_woe[col],y_train_woe)\n",
    "    X_test_woe['woe_'+col]=woe.transform(X_test_woe[col])"
   ]
  },
  {
   "cell_type": "code",
   "execution_count": 21,
   "id": "c4829ebd",
   "metadata": {
    "execution": {
     "iopub.execute_input": "2022-08-29T07:40:23.371126Z",
     "iopub.status.busy": "2022-08-29T07:40:23.370490Z",
     "iopub.status.idle": "2022-08-29T07:40:23.377477Z",
     "shell.execute_reply": "2022-08-29T07:40:23.376601Z"
    },
    "papermill": {
     "duration": 0.019549,
     "end_time": "2022-08-29T07:40:23.379606",
     "exception": false,
     "start_time": "2022-08-29T07:40:23.360057",
     "status": "completed"
    },
    "tags": []
   },
   "outputs": [
    {
     "data": {
      "text/plain": [
       "['woe_REASON',\n",
       " 'woe_JOB',\n",
       " 'woe_LOAN',\n",
       " 'woe_DEBTINC',\n",
       " 'woe_DELINQ',\n",
       " 'woe_MORTDUE',\n",
       " 'woe_YOJ',\n",
       " 'woe_CLNO',\n",
       " 'woe_DEROG',\n",
       " 'woe_CLAGE',\n",
       " 'woe_NINQ',\n",
       " 'woe_VALUE']"
      ]
     },
     "execution_count": 21,
     "metadata": {},
     "output_type": "execute_result"
    }
   ],
   "source": [
    "woe_cols = list(X_train_woe.columns)[-12:]\n",
    "woe_cols"
   ]
  },
  {
   "cell_type": "code",
   "execution_count": 22,
   "id": "47a8d331",
   "metadata": {
    "execution": {
     "iopub.execute_input": "2022-08-29T07:40:23.400695Z",
     "iopub.status.busy": "2022-08-29T07:40:23.400297Z",
     "iopub.status.idle": "2022-08-29T07:40:23.413254Z",
     "shell.execute_reply": "2022-08-29T07:40:23.412561Z"
    },
    "papermill": {
     "duration": 0.026117,
     "end_time": "2022-08-29T07:40:23.415449",
     "exception": false,
     "start_time": "2022-08-29T07:40:23.389332",
     "status": "completed"
    },
    "tags": []
   },
   "outputs": [
    {
     "data": {
      "text/html": [
       "<div>\n",
       "<style scoped>\n",
       "    .dataframe tbody tr th:only-of-type {\n",
       "        vertical-align: middle;\n",
       "    }\n",
       "\n",
       "    .dataframe tbody tr th {\n",
       "        vertical-align: top;\n",
       "    }\n",
       "\n",
       "    .dataframe thead th {\n",
       "        text-align: right;\n",
       "    }\n",
       "</style>\n",
       "<table border=\"1\" class=\"dataframe\">\n",
       "  <thead>\n",
       "    <tr style=\"text-align: right;\">\n",
       "      <th></th>\n",
       "      <th>LOAN</th>\n",
       "      <th>woe_LOAN</th>\n",
       "    </tr>\n",
       "  </thead>\n",
       "  <tbody>\n",
       "    <tr>\n",
       "      <th>944</th>\n",
       "      <td>9100</td>\n",
       "      <td>0.394295</td>\n",
       "    </tr>\n",
       "    <tr>\n",
       "      <th>5755</th>\n",
       "      <td>43800</td>\n",
       "      <td>0.325302</td>\n",
       "    </tr>\n",
       "    <tr>\n",
       "      <th>2259</th>\n",
       "      <td>13800</td>\n",
       "      <td>-0.310686</td>\n",
       "    </tr>\n",
       "    <tr>\n",
       "      <th>12</th>\n",
       "      <td>2000</td>\n",
       "      <td>2.340205</td>\n",
       "    </tr>\n",
       "    <tr>\n",
       "      <th>1117</th>\n",
       "      <td>9900</td>\n",
       "      <td>0.325302</td>\n",
       "    </tr>\n",
       "    <tr>\n",
       "      <th>...</th>\n",
       "      <td>...</td>\n",
       "      <td>...</td>\n",
       "    </tr>\n",
       "    <tr>\n",
       "      <th>3772</th>\n",
       "      <td>20000</td>\n",
       "      <td>0.975890</td>\n",
       "    </tr>\n",
       "    <tr>\n",
       "      <th>5191</th>\n",
       "      <td>28000</td>\n",
       "      <td>0.443085</td>\n",
       "    </tr>\n",
       "    <tr>\n",
       "      <th>5226</th>\n",
       "      <td>28300</td>\n",
       "      <td>-0.185523</td>\n",
       "    </tr>\n",
       "    <tr>\n",
       "      <th>5390</th>\n",
       "      <td>31100</td>\n",
       "      <td>0.325302</td>\n",
       "    </tr>\n",
       "    <tr>\n",
       "      <th>860</th>\n",
       "      <td>8700</td>\n",
       "      <td>-0.696349</td>\n",
       "    </tr>\n",
       "  </tbody>\n",
       "</table>\n",
       "<p>4768 rows × 2 columns</p>\n",
       "</div>"
      ],
      "text/plain": [
       "       LOAN  woe_LOAN\n",
       "944    9100  0.394295\n",
       "5755  43800  0.325302\n",
       "2259  13800 -0.310686\n",
       "12     2000  2.340205\n",
       "1117   9900  0.325302\n",
       "...     ...       ...\n",
       "3772  20000  0.975890\n",
       "5191  28000  0.443085\n",
       "5226  28300 -0.185523\n",
       "5390  31100  0.325302\n",
       "860    8700 -0.696349\n",
       "\n",
       "[4768 rows x 2 columns]"
      ]
     },
     "execution_count": 22,
     "metadata": {},
     "output_type": "execute_result"
    }
   ],
   "source": [
    "X_train_woe[[\"LOAN\",\"woe_LOAN\"]]"
   ]
  },
  {
   "cell_type": "code",
   "execution_count": 23,
   "id": "6eb88695",
   "metadata": {
    "execution": {
     "iopub.execute_input": "2022-08-29T07:40:23.436755Z",
     "iopub.status.busy": "2022-08-29T07:40:23.435723Z",
     "iopub.status.idle": "2022-08-29T07:40:25.923176Z",
     "shell.execute_reply": "2022-08-29T07:40:25.922253Z"
    },
    "papermill": {
     "duration": 2.500623,
     "end_time": "2022-08-29T07:40:25.925698",
     "exception": false,
     "start_time": "2022-08-29T07:40:23.425075",
     "status": "completed"
    },
    "tags": []
   },
   "outputs": [],
   "source": [
    "clf_logReg_woe = LogisticRegression(random_state=42).fit(X_train_woe[woe_cols[-12:]], y_train_woe)\n",
    "clf_svm_woe = svm.SVC(probability=True).fit(X_train_woe[woe_cols[-12:]], y_train_woe)"
   ]
  },
  {
   "cell_type": "code",
   "execution_count": 24,
   "id": "7890221d",
   "metadata": {
    "execution": {
     "iopub.execute_input": "2022-08-29T07:40:25.946764Z",
     "iopub.status.busy": "2022-08-29T07:40:25.946411Z",
     "iopub.status.idle": "2022-08-29T07:40:26.127572Z",
     "shell.execute_reply": "2022-08-29T07:40:26.126649Z"
    },
    "papermill": {
     "duration": 0.194592,
     "end_time": "2022-08-29T07:40:26.130180",
     "exception": false,
     "start_time": "2022-08-29T07:40:25.935588",
     "status": "completed"
    },
    "tags": []
   },
   "outputs": [],
   "source": [
    "y_pre_logReg_woe = clf_logReg_woe.predict(X_test_woe[woe_cols[-12:]])\n",
    "y_pre_svm_woe = clf_svm_woe.predict(X_test_woe[woe_cols[-12:]])"
   ]
  },
  {
   "cell_type": "code",
   "execution_count": 25,
   "id": "6692775d",
   "metadata": {
    "execution": {
     "iopub.execute_input": "2022-08-29T07:40:26.151505Z",
     "iopub.status.busy": "2022-08-29T07:40:26.151128Z",
     "iopub.status.idle": "2022-08-29T07:40:26.158944Z",
     "shell.execute_reply": "2022-08-29T07:40:26.157834Z"
    },
    "papermill": {
     "duration": 0.020772,
     "end_time": "2022-08-29T07:40:26.161106",
     "exception": false,
     "start_time": "2022-08-29T07:40:26.140334",
     "status": "completed"
    },
    "tags": []
   },
   "outputs": [
    {
     "name": "stdout",
     "output_type": "stream",
     "text": [
      "Accuracy score logistic regression 0.8548657718120806\n",
      "Accuracy score svm 0.8657718120805369\n"
     ]
    }
   ],
   "source": [
    "print(f\"Accuracy score logistic regression {accuracy_score(list(y_test_woe), list(y_pre_logReg_woe))}\")\n",
    "print(f\"Accuracy score svm {accuracy_score(list(y_test_woe), list(y_pre_svm_woe))}\")"
   ]
  },
  {
   "cell_type": "code",
   "execution_count": 26,
   "id": "4983e032",
   "metadata": {
    "execution": {
     "iopub.execute_input": "2022-08-29T07:40:26.181721Z",
     "iopub.status.busy": "2022-08-29T07:40:26.181073Z",
     "iopub.status.idle": "2022-08-29T07:40:26.796403Z",
     "shell.execute_reply": "2022-08-29T07:40:26.795288Z"
    },
    "papermill": {
     "duration": 0.628419,
     "end_time": "2022-08-29T07:40:26.798610",
     "exception": false,
     "start_time": "2022-08-29T07:40:26.170191",
     "status": "completed"
    },
    "tags": []
   },
   "outputs": [
    {
     "data": {
      "image/png": "[encoded data removed]",
      "text/plain": [
       "<Figure size 720x576 with 1 Axes>"
      ]
     },
     "metadata": {
      "needs_background": "light"
     },
     "output_type": "display_data"
    },
    {
     "data": {
      "image/png": "[encoded data removed]",
      "text/plain": [
       "<Figure size 720x576 with 1 Axes>"
      ]
     },
     "metadata": {
      "needs_background": "light"
     },
     "output_type": "display_data"
    }
   ],
   "source": [
    "plot_roc_curve(clf_logReg_woe, X_test_woe[woe_cols[-12:]], y_test_woe)\n",
    "plot_roc_curve(clf_svm_woe, X_test_woe[woe_cols[-12:]], y_test_woe)"
   ]
  }
 ],
 "metadata": {
  "kernelspec": {
   "display_name": "Python 3",
   "language": "python",
   "name": "python3"
  },
  "language_info": {
   "codemirror_mode": {
    "name": "ipython",
    "version": 3
   },
   "file_extension": ".py",
   "mimetype": "text/x-python",
   "name": "python",
   "nbconvert_exporter": "python",
   "pygments_lexer": "ipython3",
   "version": "3.7.12"
  },
  "papermill": {
   "default_parameters": {},
   "duration": 19.486841,
   "end_time": "2022-08-29T07:40:27.532608",
   "environment_variables": {},
   "exception": null,
   "input_path": "__notebook__.ipynb",
   "output_path": "__notebook__.ipynb",
   "parameters": {},
   "start_time": "2022-08-29T07:40:08.045767",
   "version": "2.3.4"
  }
 },
 "nbformat": 4,
 "nbformat_minor": 5
}
