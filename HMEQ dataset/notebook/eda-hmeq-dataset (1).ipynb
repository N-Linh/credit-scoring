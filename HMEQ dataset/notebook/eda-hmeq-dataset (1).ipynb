{
 "cells": [
  {
   "cell_type": "code",
   "execution_count": 1,
   "id": "d1675c4c",
   "metadata": {
    "_cell_guid": "b1076dfc-b9ad-4769-8c92-a6c4dae69d19",
    "_uuid": "8f2839f25d086af736a60e9eeb907d3b93b6e0e5",
    "execution": {
     "iopub.execute_input": "2022-08-29T07:40:16.001213Z",
     "iopub.status.busy": "2022-08-29T07:40:16.000531Z",
     "iopub.status.idle": "2022-08-29T07:40:17.382565Z",
     "shell.execute_reply": "2022-08-29T07:40:17.381370Z"
    },
    "papermill": {
     "duration": 1.403726,
     "end_time": "2022-08-29T07:40:17.385614",
     "exception": false,
     "start_time": "2022-08-29T07:40:15.981888",
     "status": "completed"
    },
    "tags": []
   },
   "outputs": [],
   "source": [
    "import numpy as np \n",
    "import pandas as pd \n",
    "import pandas as pd\n",
    "import missingno as msno\n",
    "from matplotlib import pyplot as plt\n",
    "import seaborn as sns\n",
    "from scipy.stats import skew\n",
    "from scipy.stats import kurtosis\n",
    "import scipy.stats as stats\n",
    "from sklearn import preprocessing\n",
    "from scipy.stats import chi2_contingency"
   ]
  },
  {
   "cell_type": "code",
   "execution_count": 2,
   "id": "070e0462",
   "metadata": {
    "execution": {
     "iopub.execute_input": "2022-08-29T07:40:17.418581Z",
     "iopub.status.busy": "2022-08-29T07:40:17.417981Z",
     "iopub.status.idle": "2022-08-29T07:40:18.101673Z",
     "shell.execute_reply": "2022-08-29T07:40:18.100407Z"
    },
    "papermill": {
     "duration": 0.704401,
     "end_time": "2022-08-29T07:40:18.104722",
     "exception": false,
     "start_time": "2022-08-29T07:40:17.400321",
     "status": "completed"
    },
    "tags": []
   },
   "outputs": [],
   "source": [
    "hmeq_path = \"https://raw.githubusercontent.com/michstg/creditscoring-hmeq-machinelearning-Xtree-KNN/main/hmeq.csv\"\n",
    "data = pd.read_csv(hmeq_path)"
   ]
  },
  {
   "cell_type": "code",
   "execution_count": 3,
   "id": "259c8a51",
   "metadata": {
    "execution": {
     "iopub.execute_input": "2022-08-29T07:40:18.136180Z",
     "iopub.status.busy": "2022-08-29T07:40:18.135764Z",
     "iopub.status.idle": "2022-08-29T07:40:18.146081Z",
     "shell.execute_reply": "2022-08-29T07:40:18.144885Z"
    },
    "papermill": {
     "duration": 0.029332,
     "end_time": "2022-08-29T07:40:18.148623",
     "exception": false,
     "start_time": "2022-08-29T07:40:18.119291",
     "status": "completed"
    },
    "tags": []
   },
   "outputs": [
    {
     "data": {
      "text/plain": [
       "(5960, 13)"
      ]
     },
     "execution_count": 3,
     "metadata": {},
     "output_type": "execute_result"
    }
   ],
   "source": [
    "data_copy = data.copy()\n",
    "data_copy.shape"
   ]
  },
  {
   "cell_type": "code",
   "execution_count": 4,
   "id": "30b30194",
   "metadata": {
    "execution": {
     "iopub.execute_input": "2022-08-29T07:40:18.180211Z",
     "iopub.status.busy": "2022-08-29T07:40:18.179772Z",
     "iopub.status.idle": "2022-08-29T07:40:18.207879Z",
     "shell.execute_reply": "2022-08-29T07:40:18.206563Z"
    },
    "papermill": {
     "duration": 0.046961,
     "end_time": "2022-08-29T07:40:18.210727",
     "exception": false,
     "start_time": "2022-08-29T07:40:18.163766",
     "status": "completed"
    },
    "tags": []
   },
   "outputs": [
    {
     "data": {
      "text/html": [
       "<div>\n",
       "<style scoped>\n",
       "    .dataframe tbody tr th:only-of-type {\n",
       "        vertical-align: middle;\n",
       "    }\n",
       "\n",
       "    .dataframe tbody tr th {\n",
       "        vertical-align: top;\n",
       "    }\n",
       "\n",
       "    .dataframe thead th {\n",
       "        text-align: right;\n",
       "    }\n",
       "</style>\n",
       "<table border=\"1\" class=\"dataframe\">\n",
       "  <thead>\n",
       "    <tr style=\"text-align: right;\">\n",
       "      <th></th>\n",
       "      <th>BAD</th>\n",
       "      <th>LOAN</th>\n",
       "      <th>MORTDUE</th>\n",
       "      <th>VALUE</th>\n",
       "      <th>REASON</th>\n",
       "      <th>JOB</th>\n",
       "      <th>YOJ</th>\n",
       "      <th>DEROG</th>\n",
       "      <th>DELINQ</th>\n",
       "      <th>CLAGE</th>\n",
       "      <th>NINQ</th>\n",
       "      <th>CLNO</th>\n",
       "      <th>DEBTINC</th>\n",
       "    </tr>\n",
       "  </thead>\n",
       "  <tbody>\n",
       "    <tr>\n",
       "      <th>0</th>\n",
       "      <td>1</td>\n",
       "      <td>1100</td>\n",
       "      <td>25860.0</td>\n",
       "      <td>39025.0</td>\n",
       "      <td>HomeImp</td>\n",
       "      <td>Other</td>\n",
       "      <td>10.5</td>\n",
       "      <td>0.0</td>\n",
       "      <td>0.0</td>\n",
       "      <td>94.366667</td>\n",
       "      <td>1.0</td>\n",
       "      <td>9.0</td>\n",
       "      <td>NaN</td>\n",
       "    </tr>\n",
       "    <tr>\n",
       "      <th>1</th>\n",
       "      <td>1</td>\n",
       "      <td>1300</td>\n",
       "      <td>70053.0</td>\n",
       "      <td>68400.0</td>\n",
       "      <td>HomeImp</td>\n",
       "      <td>Other</td>\n",
       "      <td>7.0</td>\n",
       "      <td>0.0</td>\n",
       "      <td>2.0</td>\n",
       "      <td>121.833333</td>\n",
       "      <td>0.0</td>\n",
       "      <td>14.0</td>\n",
       "      <td>NaN</td>\n",
       "    </tr>\n",
       "    <tr>\n",
       "      <th>2</th>\n",
       "      <td>1</td>\n",
       "      <td>1500</td>\n",
       "      <td>13500.0</td>\n",
       "      <td>16700.0</td>\n",
       "      <td>HomeImp</td>\n",
       "      <td>Other</td>\n",
       "      <td>4.0</td>\n",
       "      <td>0.0</td>\n",
       "      <td>0.0</td>\n",
       "      <td>149.466667</td>\n",
       "      <td>1.0</td>\n",
       "      <td>10.0</td>\n",
       "      <td>NaN</td>\n",
       "    </tr>\n",
       "    <tr>\n",
       "      <th>3</th>\n",
       "      <td>1</td>\n",
       "      <td>1500</td>\n",
       "      <td>NaN</td>\n",
       "      <td>NaN</td>\n",
       "      <td>NaN</td>\n",
       "      <td>NaN</td>\n",
       "      <td>NaN</td>\n",
       "      <td>NaN</td>\n",
       "      <td>NaN</td>\n",
       "      <td>NaN</td>\n",
       "      <td>NaN</td>\n",
       "      <td>NaN</td>\n",
       "      <td>NaN</td>\n",
       "    </tr>\n",
       "    <tr>\n",
       "      <th>4</th>\n",
       "      <td>0</td>\n",
       "      <td>1700</td>\n",
       "      <td>97800.0</td>\n",
       "      <td>112000.0</td>\n",
       "      <td>HomeImp</td>\n",
       "      <td>Office</td>\n",
       "      <td>3.0</td>\n",
       "      <td>0.0</td>\n",
       "      <td>0.0</td>\n",
       "      <td>93.333333</td>\n",
       "      <td>0.0</td>\n",
       "      <td>14.0</td>\n",
       "      <td>NaN</td>\n",
       "    </tr>\n",
       "  </tbody>\n",
       "</table>\n",
       "</div>"
      ],
      "text/plain": [
       "   BAD  LOAN  MORTDUE     VALUE   REASON     JOB   YOJ  DEROG  DELINQ  \\\n",
       "0    1  1100  25860.0   39025.0  HomeImp   Other  10.5    0.0     0.0   \n",
       "1    1  1300  70053.0   68400.0  HomeImp   Other   7.0    0.0     2.0   \n",
       "2    1  1500  13500.0   16700.0  HomeImp   Other   4.0    0.0     0.0   \n",
       "3    1  1500      NaN       NaN      NaN     NaN   NaN    NaN     NaN   \n",
       "4    0  1700  97800.0  112000.0  HomeImp  Office   3.0    0.0     0.0   \n",
       "\n",
       "        CLAGE  NINQ  CLNO  DEBTINC  \n",
       "0   94.366667   1.0   9.0      NaN  \n",
       "1  121.833333   0.0  14.0      NaN  \n",
       "2  149.466667   1.0  10.0      NaN  \n",
       "3         NaN   NaN   NaN      NaN  \n",
       "4   93.333333   0.0  14.0      NaN  "
      ]
     },
     "execution_count": 4,
     "metadata": {},
     "output_type": "execute_result"
    }
   ],
   "source": [
    "data_copy.head()"
   ]
  },
  {
   "cell_type": "markdown",
   "id": "e892af27",
   "metadata": {
    "papermill": {
     "duration": 0.014953,
     "end_time": "2022-08-29T07:40:18.241357",
     "exception": false,
     "start_time": "2022-08-29T07:40:18.226404",
     "status": "completed"
    },
    "tags": []
   },
   "source": [
    "# Meaning of all data fields\n",
    "* BAD: the target variable, contain binary value 0 or 1, 0-not bad risk (not default). 1-bad risk(default) -> categorical\n",
    "* LOAN: amount of loan -> mumberical\n",
    "* MORTDUE: Amount due on the existing mortgage.-> numberical\n",
    "* VALUE: Current value of the property. -> numberical\n",
    "* REASON: Reason for the loan request. (HomeImp = home improvement, DebtCon= debt consolidation) -> categorical\n",
    "* JOB: Six occupational categories. -> categorical\n",
    "* YOJ: Years at present job. -> numberical\n",
    "* DEROG: Number of major derogatory reports. -> numberical\n",
    "* DELINQ: Number of delinquent credit lines. -> numberical\n",
    "* CLAGE: Age of the oldest credit line in months. -> numberical\n",
    "* NINQ: Number of recent credit inquiries. -> numberical\n",
    "* CLNO: Number of existing credit lines. -> numberical\n",
    "* DEBTINC: Debt-to-income ratio -> numberical"
   ]
  },
  {
   "cell_type": "markdown",
   "id": "bc89bc01",
   "metadata": {
    "papermill": {
     "duration": 0.014189,
     "end_time": "2022-08-29T07:40:18.270385",
     "exception": false,
     "start_time": "2022-08-29T07:40:18.256196",
     "status": "completed"
    },
    "tags": []
   },
   "source": [
    "# Check duplicate"
   ]
  },
  {
   "cell_type": "code",
   "execution_count": 5,
   "id": "783e6652",
   "metadata": {
    "execution": {
     "iopub.execute_input": "2022-08-29T07:40:18.301143Z",
     "iopub.status.busy": "2022-08-29T07:40:18.300753Z",
     "iopub.status.idle": "2022-08-29T07:40:18.323411Z",
     "shell.execute_reply": "2022-08-29T07:40:18.322210Z"
    },
    "papermill": {
     "duration": 0.041285,
     "end_time": "2022-08-29T07:40:18.326182",
     "exception": false,
     "start_time": "2022-08-29T07:40:18.284897",
     "status": "completed"
    },
    "tags": []
   },
   "outputs": [
    {
     "data": {
      "text/plain": [
       "0"
      ]
     },
     "execution_count": 5,
     "metadata": {},
     "output_type": "execute_result"
    }
   ],
   "source": [
    "data_copy.duplicated(keep=False).sum()"
   ]
  },
  {
   "cell_type": "markdown",
   "id": "7116f08d",
   "metadata": {
    "papermill": {
     "duration": 0.014354,
     "end_time": "2022-08-29T07:40:18.355640",
     "exception": false,
     "start_time": "2022-08-29T07:40:18.341286",
     "status": "completed"
    },
    "tags": []
   },
   "source": [
    "# Check missing value"
   ]
  },
  {
   "cell_type": "code",
   "execution_count": 6,
   "id": "2960a892",
   "metadata": {
    "execution": {
     "iopub.execute_input": "2022-08-29T07:40:18.387758Z",
     "iopub.status.busy": "2022-08-29T07:40:18.386613Z",
     "iopub.status.idle": "2022-08-29T07:40:19.533830Z",
     "shell.execute_reply": "2022-08-29T07:40:19.532748Z"
    },
    "papermill": {
     "duration": 1.166368,
     "end_time": "2022-08-29T07:40:19.536768",
     "exception": false,
     "start_time": "2022-08-29T07:40:18.370400",
     "status": "completed"
    },
    "tags": []
   },
   "outputs": [
    {
     "data": {
      "text/plain": [
       "<AxesSubplot:>"
      ]
     },
     "execution_count": 6,
     "metadata": {},
     "output_type": "execute_result"
    },
    {
     "data": {
      "image/png": "[encoded data removed]",
      "text/plain": [
       "<Figure size 1728x720 with 3 Axes>"
      ]
     },
     "metadata": {
      "needs_background": "light"
     },
     "output_type": "display_data"
    }
   ],
   "source": [
    "msno.bar(data_copy)"
   ]
  },
  {
   "cell_type": "code",
   "execution_count": 7,
   "id": "ca0c21ac",
   "metadata": {
    "execution": {
     "iopub.execute_input": "2022-08-29T07:40:19.570561Z",
     "iopub.status.busy": "2022-08-29T07:40:19.570111Z",
     "iopub.status.idle": "2022-08-29T07:40:19.579694Z",
     "shell.execute_reply": "2022-08-29T07:40:19.578874Z"
    },
    "papermill": {
     "duration": 0.029093,
     "end_time": "2022-08-29T07:40:19.582036",
     "exception": false,
     "start_time": "2022-08-29T07:40:19.552943",
     "status": "completed"
    },
    "tags": []
   },
   "outputs": [],
   "source": [
    "x = data_copy.isnull().sum()/len(data_copy)*100"
   ]
  },
  {
   "cell_type": "code",
   "execution_count": 8,
   "id": "66181db8",
   "metadata": {
    "execution": {
     "iopub.execute_input": "2022-08-29T07:40:19.615586Z",
     "iopub.status.busy": "2022-08-29T07:40:19.614782Z",
     "iopub.status.idle": "2022-08-29T07:40:19.885179Z",
     "shell.execute_reply": "2022-08-29T07:40:19.883980Z"
    },
    "papermill": {
     "duration": 0.290154,
     "end_time": "2022-08-29T07:40:19.887776",
     "exception": false,
     "start_time": "2022-08-29T07:40:19.597622",
     "status": "completed"
    },
    "tags": []
   },
   "outputs": [
    {
     "data": {
      "text/plain": [
       "<AxesSubplot:>"
      ]
     },
     "execution_count": 8,
     "metadata": {},
     "output_type": "execute_result"
    },
    {
     "data": {
      "image/png": "[encoded data removed]",
      "text/plain": [
       "<Figure size 432x288 with 1 Axes>"
      ]
     },
     "metadata": {
      "needs_background": "light"
     },
     "output_type": "display_data"
    }
   ],
   "source": [
    "x.plot(kind=\"barh\")"
   ]
  },
  {
   "cell_type": "markdown",
   "id": "67f027b0",
   "metadata": {
    "papermill": {
     "duration": 0.015766,
     "end_time": "2022-08-29T07:40:19.919786",
     "exception": false,
     "start_time": "2022-08-29T07:40:19.904020",
     "status": "completed"
    },
    "tags": []
   },
   "source": [
    "* columns have missing value: 'MORTDUE', 'VALUE', 'REASON', 'JOB', 'YOJ', 'DEROG',\n",
    "       'DELINQ', 'CLAGE', 'NINQ', 'CLNO', 'DEBTINC'\n",
    "* missing value < 30%"
   ]
  },
  {
   "cell_type": "markdown",
   "id": "387191d6",
   "metadata": {
    "papermill": {
     "duration": 0.015708,
     "end_time": "2022-08-29T07:40:19.951577",
     "exception": false,
     "start_time": "2022-08-29T07:40:19.935869",
     "status": "completed"
    },
    "tags": []
   },
   "source": [
    "# Type of data"
   ]
  },
  {
   "cell_type": "markdown",
   "id": "ee57f1ae",
   "metadata": {
    "papermill": {
     "duration": 0.015808,
     "end_time": "2022-08-29T07:40:19.983444",
     "exception": false,
     "start_time": "2022-08-29T07:40:19.967636",
     "status": "completed"
    },
    "tags": []
   },
   "source": [
    "**target variable is BAD column**"
   ]
  },
  {
   "cell_type": "code",
   "execution_count": 9,
   "id": "4bae24b1",
   "metadata": {
    "execution": {
     "iopub.execute_input": "2022-08-29T07:40:20.018390Z",
     "iopub.status.busy": "2022-08-29T07:40:20.017553Z",
     "iopub.status.idle": "2022-08-29T07:40:20.026052Z",
     "shell.execute_reply": "2022-08-29T07:40:20.025065Z"
    },
    "papermill": {
     "duration": 0.028812,
     "end_time": "2022-08-29T07:40:20.028449",
     "exception": false,
     "start_time": "2022-08-29T07:40:19.999637",
     "status": "completed"
    },
    "tags": []
   },
   "outputs": [
    {
     "data": {
      "text/plain": [
       "0    1\n",
       "1    1\n",
       "2    1\n",
       "3    1\n",
       "4    0\n",
       "Name: BAD, dtype: int64"
      ]
     },
     "execution_count": 9,
     "metadata": {},
     "output_type": "execute_result"
    }
   ],
   "source": [
    "data_copy[\"BAD\"].head()"
   ]
  },
  {
   "cell_type": "code",
   "execution_count": 10,
   "id": "f89919c9",
   "metadata": {
    "execution": {
     "iopub.execute_input": "2022-08-29T07:40:20.064402Z",
     "iopub.status.busy": "2022-08-29T07:40:20.063643Z",
     "iopub.status.idle": "2022-08-29T07:40:20.072090Z",
     "shell.execute_reply": "2022-08-29T07:40:20.071185Z"
    },
    "papermill": {
     "duration": 0.028604,
     "end_time": "2022-08-29T07:40:20.074404",
     "exception": false,
     "start_time": "2022-08-29T07:40:20.045800",
     "status": "completed"
    },
    "tags": []
   },
   "outputs": [
    {
     "data": {
      "text/plain": [
       "0    4771\n",
       "1    1189\n",
       "Name: BAD, dtype: int64"
      ]
     },
     "execution_count": 10,
     "metadata": {},
     "output_type": "execute_result"
    }
   ],
   "source": [
    "data_copy[\"BAD\"].value_counts()"
   ]
  },
  {
   "cell_type": "code",
   "execution_count": 11,
   "id": "081cb095",
   "metadata": {
    "execution": {
     "iopub.execute_input": "2022-08-29T07:40:20.110248Z",
     "iopub.status.busy": "2022-08-29T07:40:20.109035Z",
     "iopub.status.idle": "2022-08-29T07:40:20.296319Z",
     "shell.execute_reply": "2022-08-29T07:40:20.295421Z"
    },
    "papermill": {
     "duration": 0.208027,
     "end_time": "2022-08-29T07:40:20.299095",
     "exception": false,
     "start_time": "2022-08-29T07:40:20.091068",
     "status": "completed"
    },
    "tags": []
   },
   "outputs": [
    {
     "data": {
      "text/plain": [
       "<AxesSubplot:>"
      ]
     },
     "execution_count": 11,
     "metadata": {},
     "output_type": "execute_result"
    },
    {
     "data": {
      "image/png": "[encoded data removed]",
      "text/plain": [
       "<Figure size 432x288 with 1 Axes>"
      ]
     },
     "metadata": {
      "needs_background": "light"
     },
     "output_type": "display_data"
    }
   ],
   "source": [
    "data_copy[\"BAD\"].value_counts().plot(kind=\"bar\")"
   ]
  },
  {
   "cell_type": "code",
   "execution_count": 12,
   "id": "a836f776",
   "metadata": {
    "execution": {
     "iopub.execute_input": "2022-08-29T07:40:20.335140Z",
     "iopub.status.busy": "2022-08-29T07:40:20.334684Z",
     "iopub.status.idle": "2022-08-29T07:40:20.354681Z",
     "shell.execute_reply": "2022-08-29T07:40:20.352613Z"
    },
    "papermill": {
     "duration": 0.042069,
     "end_time": "2022-08-29T07:40:20.358429",
     "exception": false,
     "start_time": "2022-08-29T07:40:20.316360",
     "status": "completed"
    },
    "tags": []
   },
   "outputs": [
    {
     "name": "stdout",
     "output_type": "stream",
     "text": [
      "<class 'pandas.core.frame.DataFrame'>\n",
      "RangeIndex: 5960 entries, 0 to 5959\n",
      "Data columns (total 13 columns):\n",
      " #   Column   Non-Null Count  Dtype  \n",
      "---  ------   --------------  -----  \n",
      " 0   BAD      5960 non-null   int64  \n",
      " 1   LOAN     5960 non-null   int64  \n",
      " 2   MORTDUE  5442 non-null   float64\n",
      " 3   VALUE    5848 non-null   float64\n",
      " 4   REASON   5708 non-null   object \n",
      " 5   JOB      5681 non-null   object \n",
      " 6   YOJ      5445 non-null   float64\n",
      " 7   DEROG    5252 non-null   float64\n",
      " 8   DELINQ   5380 non-null   float64\n",
      " 9   CLAGE    5652 non-null   float64\n",
      " 10  NINQ     5450 non-null   float64\n",
      " 11  CLNO     5738 non-null   float64\n",
      " 12  DEBTINC  4693 non-null   float64\n",
      "dtypes: float64(9), int64(2), object(2)\n",
      "memory usage: 605.4+ KB\n"
     ]
    }
   ],
   "source": [
    "data_copy.info()"
   ]
  },
  {
   "cell_type": "code",
   "execution_count": 13,
   "id": "ca684b58",
   "metadata": {
    "execution": {
     "iopub.execute_input": "2022-08-29T07:40:20.394717Z",
     "iopub.status.busy": "2022-08-29T07:40:20.393888Z",
     "iopub.status.idle": "2022-08-29T07:40:20.401875Z",
     "shell.execute_reply": "2022-08-29T07:40:20.400456Z"
    },
    "papermill": {
     "duration": 0.028525,
     "end_time": "2022-08-29T07:40:20.404261",
     "exception": false,
     "start_time": "2022-08-29T07:40:20.375736",
     "status": "completed"
    },
    "tags": []
   },
   "outputs": [
    {
     "data": {
      "text/plain": [
       "Index(['BAD', 'LOAN', 'MORTDUE', 'VALUE', 'REASON', 'JOB', 'YOJ', 'DEROG',\n",
       "       'DELINQ', 'CLAGE', 'NINQ', 'CLNO', 'DEBTINC'],\n",
       "      dtype='object')"
      ]
     },
     "execution_count": 13,
     "metadata": {},
     "output_type": "execute_result"
    }
   ],
   "source": [
    "data_copy.columns"
   ]
  },
  {
   "cell_type": "code",
   "execution_count": 14,
   "id": "34af460a",
   "metadata": {
    "execution": {
     "iopub.execute_input": "2022-08-29T07:40:20.440273Z",
     "iopub.status.busy": "2022-08-29T07:40:20.439846Z",
     "iopub.status.idle": "2022-08-29T07:40:20.445697Z",
     "shell.execute_reply": "2022-08-29T07:40:20.444517Z"
    },
    "papermill": {
     "duration": 0.026681,
     "end_time": "2022-08-29T07:40:20.447859",
     "exception": false,
     "start_time": "2022-08-29T07:40:20.421178",
     "status": "completed"
    },
    "tags": []
   },
   "outputs": [],
   "source": [
    "categorical = ['REASON', 'JOB', 'BAD']\n",
    "numerical = list(set(data_copy.columns) - set(categorical))"
   ]
  },
  {
   "cell_type": "code",
   "execution_count": 15,
   "id": "6bcfcdd7",
   "metadata": {
    "execution": {
     "iopub.execute_input": "2022-08-29T07:40:20.484748Z",
     "iopub.status.busy": "2022-08-29T07:40:20.484009Z",
     "iopub.status.idle": "2022-08-29T07:40:20.489953Z",
     "shell.execute_reply": "2022-08-29T07:40:20.488642Z"
    },
    "papermill": {
     "duration": 0.028042,
     "end_time": "2022-08-29T07:40:20.493007",
     "exception": false,
     "start_time": "2022-08-29T07:40:20.464965",
     "status": "completed"
    },
    "tags": []
   },
   "outputs": [
    {
     "name": "stdout",
     "output_type": "stream",
     "text": [
      "categorical data: ['REASON', 'JOB', 'BAD']\n",
      "numerical data: ['LOAN', 'YOJ', 'NINQ', 'DEROG', 'VALUE', 'DELINQ', 'MORTDUE', 'DEBTINC', 'CLAGE', 'CLNO']\n"
     ]
    }
   ],
   "source": [
    "print(\"categorical data: {}\".format(categorical))\n",
    "print(\"numerical data: {}\".format(numerical))"
   ]
  },
  {
   "cell_type": "markdown",
   "id": "49e1b95c",
   "metadata": {
    "papermill": {
     "duration": 0.016725,
     "end_time": "2022-08-29T07:40:20.527141",
     "exception": false,
     "start_time": "2022-08-29T07:40:20.510416",
     "status": "completed"
    },
    "tags": []
   },
   "source": [
    "# Summary of numerical data"
   ]
  },
  {
   "cell_type": "code",
   "execution_count": 16,
   "id": "2a20d2d0",
   "metadata": {
    "execution": {
     "iopub.execute_input": "2022-08-29T07:40:20.563318Z",
     "iopub.status.busy": "2022-08-29T07:40:20.562920Z",
     "iopub.status.idle": "2022-08-29T07:40:20.611748Z",
     "shell.execute_reply": "2022-08-29T07:40:20.610440Z"
    },
    "papermill": {
     "duration": 0.070409,
     "end_time": "2022-08-29T07:40:20.614583",
     "exception": false,
     "start_time": "2022-08-29T07:40:20.544174",
     "status": "completed"
    },
    "tags": []
   },
   "outputs": [
    {
     "data": {
      "text/html": [
       "<div>\n",
       "<style scoped>\n",
       "    .dataframe tbody tr th:only-of-type {\n",
       "        vertical-align: middle;\n",
       "    }\n",
       "\n",
       "    .dataframe tbody tr th {\n",
       "        vertical-align: top;\n",
       "    }\n",
       "\n",
       "    .dataframe thead th {\n",
       "        text-align: right;\n",
       "    }\n",
       "</style>\n",
       "<table border=\"1\" class=\"dataframe\">\n",
       "  <thead>\n",
       "    <tr style=\"text-align: right;\">\n",
       "      <th></th>\n",
       "      <th>BAD</th>\n",
       "      <th>LOAN</th>\n",
       "      <th>MORTDUE</th>\n",
       "      <th>VALUE</th>\n",
       "      <th>YOJ</th>\n",
       "      <th>DEROG</th>\n",
       "      <th>DELINQ</th>\n",
       "      <th>CLAGE</th>\n",
       "      <th>NINQ</th>\n",
       "      <th>CLNO</th>\n",
       "      <th>DEBTINC</th>\n",
       "    </tr>\n",
       "  </thead>\n",
       "  <tbody>\n",
       "    <tr>\n",
       "      <th>count</th>\n",
       "      <td>5960.000000</td>\n",
       "      <td>5960.000000</td>\n",
       "      <td>5442.000000</td>\n",
       "      <td>5848.000000</td>\n",
       "      <td>5445.000000</td>\n",
       "      <td>5252.000000</td>\n",
       "      <td>5380.000000</td>\n",
       "      <td>5652.000000</td>\n",
       "      <td>5450.000000</td>\n",
       "      <td>5738.000000</td>\n",
       "      <td>4693.000000</td>\n",
       "    </tr>\n",
       "    <tr>\n",
       "      <th>mean</th>\n",
       "      <td>0.199497</td>\n",
       "      <td>18607.969799</td>\n",
       "      <td>73760.817200</td>\n",
       "      <td>101776.048741</td>\n",
       "      <td>8.922268</td>\n",
       "      <td>0.254570</td>\n",
       "      <td>0.449442</td>\n",
       "      <td>179.766275</td>\n",
       "      <td>1.186055</td>\n",
       "      <td>21.296096</td>\n",
       "      <td>33.779915</td>\n",
       "    </tr>\n",
       "    <tr>\n",
       "      <th>std</th>\n",
       "      <td>0.399656</td>\n",
       "      <td>11207.480417</td>\n",
       "      <td>44457.609458</td>\n",
       "      <td>57385.775334</td>\n",
       "      <td>7.573982</td>\n",
       "      <td>0.846047</td>\n",
       "      <td>1.127266</td>\n",
       "      <td>85.810092</td>\n",
       "      <td>1.728675</td>\n",
       "      <td>10.138933</td>\n",
       "      <td>8.601746</td>\n",
       "    </tr>\n",
       "    <tr>\n",
       "      <th>min</th>\n",
       "      <td>0.000000</td>\n",
       "      <td>1100.000000</td>\n",
       "      <td>2063.000000</td>\n",
       "      <td>8000.000000</td>\n",
       "      <td>0.000000</td>\n",
       "      <td>0.000000</td>\n",
       "      <td>0.000000</td>\n",
       "      <td>0.000000</td>\n",
       "      <td>0.000000</td>\n",
       "      <td>0.000000</td>\n",
       "      <td>0.524499</td>\n",
       "    </tr>\n",
       "    <tr>\n",
       "      <th>25%</th>\n",
       "      <td>0.000000</td>\n",
       "      <td>11100.000000</td>\n",
       "      <td>46276.000000</td>\n",
       "      <td>66075.500000</td>\n",
       "      <td>3.000000</td>\n",
       "      <td>0.000000</td>\n",
       "      <td>0.000000</td>\n",
       "      <td>115.116702</td>\n",
       "      <td>0.000000</td>\n",
       "      <td>15.000000</td>\n",
       "      <td>29.140031</td>\n",
       "    </tr>\n",
       "    <tr>\n",
       "      <th>50%</th>\n",
       "      <td>0.000000</td>\n",
       "      <td>16300.000000</td>\n",
       "      <td>65019.000000</td>\n",
       "      <td>89235.500000</td>\n",
       "      <td>7.000000</td>\n",
       "      <td>0.000000</td>\n",
       "      <td>0.000000</td>\n",
       "      <td>173.466667</td>\n",
       "      <td>1.000000</td>\n",
       "      <td>20.000000</td>\n",
       "      <td>34.818262</td>\n",
       "    </tr>\n",
       "    <tr>\n",
       "      <th>75%</th>\n",
       "      <td>0.000000</td>\n",
       "      <td>23300.000000</td>\n",
       "      <td>91488.000000</td>\n",
       "      <td>119824.250000</td>\n",
       "      <td>13.000000</td>\n",
       "      <td>0.000000</td>\n",
       "      <td>0.000000</td>\n",
       "      <td>231.562278</td>\n",
       "      <td>2.000000</td>\n",
       "      <td>26.000000</td>\n",
       "      <td>39.003141</td>\n",
       "    </tr>\n",
       "    <tr>\n",
       "      <th>max</th>\n",
       "      <td>1.000000</td>\n",
       "      <td>89900.000000</td>\n",
       "      <td>399550.000000</td>\n",
       "      <td>855909.000000</td>\n",
       "      <td>41.000000</td>\n",
       "      <td>10.000000</td>\n",
       "      <td>15.000000</td>\n",
       "      <td>1168.233561</td>\n",
       "      <td>17.000000</td>\n",
       "      <td>71.000000</td>\n",
       "      <td>203.312149</td>\n",
       "    </tr>\n",
       "  </tbody>\n",
       "</table>\n",
       "</div>"
      ],
      "text/plain": [
       "               BAD          LOAN        MORTDUE          VALUE          YOJ  \\\n",
       "count  5960.000000   5960.000000    5442.000000    5848.000000  5445.000000   \n",
       "mean      0.199497  18607.969799   73760.817200  101776.048741     8.922268   \n",
       "std       0.399656  11207.480417   44457.609458   57385.775334     7.573982   \n",
       "min       0.000000   1100.000000    2063.000000    8000.000000     0.000000   \n",
       "25%       0.000000  11100.000000   46276.000000   66075.500000     3.000000   \n",
       "50%       0.000000  16300.000000   65019.000000   89235.500000     7.000000   \n",
       "75%       0.000000  23300.000000   91488.000000  119824.250000    13.000000   \n",
       "max       1.000000  89900.000000  399550.000000  855909.000000    41.000000   \n",
       "\n",
       "             DEROG       DELINQ        CLAGE         NINQ         CLNO  \\\n",
       "count  5252.000000  5380.000000  5652.000000  5450.000000  5738.000000   \n",
       "mean      0.254570     0.449442   179.766275     1.186055    21.296096   \n",
       "std       0.846047     1.127266    85.810092     1.728675    10.138933   \n",
       "min       0.000000     0.000000     0.000000     0.000000     0.000000   \n",
       "25%       0.000000     0.000000   115.116702     0.000000    15.000000   \n",
       "50%       0.000000     0.000000   173.466667     1.000000    20.000000   \n",
       "75%       0.000000     0.000000   231.562278     2.000000    26.000000   \n",
       "max      10.000000    15.000000  1168.233561    17.000000    71.000000   \n",
       "\n",
       "           DEBTINC  \n",
       "count  4693.000000  \n",
       "mean     33.779915  \n",
       "std       8.601746  \n",
       "min       0.524499  \n",
       "25%      29.140031  \n",
       "50%      34.818262  \n",
       "75%      39.003141  \n",
       "max     203.312149  "
      ]
     },
     "execution_count": 16,
     "metadata": {},
     "output_type": "execute_result"
    }
   ],
   "source": [
    "data_copy.describe()"
   ]
  },
  {
   "cell_type": "markdown",
   "id": "675ba93d",
   "metadata": {
    "papermill": {
     "duration": 0.016846,
     "end_time": "2022-08-29T07:40:20.648734",
     "exception": false,
     "start_time": "2022-08-29T07:40:20.631888",
     "status": "completed"
    },
    "tags": []
   },
   "source": [
    "* 'CLNO', 'DEROG', 'DELINQ', 'CLAGE', 'VALUE', 'YOJ', 'MORTDUE', 'NINQ', 'DEBTINC' have count < 5960 -> missing value\n",
    "* LOAN, MORTDUE, VALUE, DEROG, CLAGE, DELINQ, NINQ, CLNO, DEBTINC have maximun value is quite far from 75th percentile value -> seem skewness."
   ]
  },
  {
   "cell_type": "markdown",
   "id": "bc00cbca",
   "metadata": {
    "papermill": {
     "duration": 0.016614,
     "end_time": "2022-08-29T07:40:20.682356",
     "exception": false,
     "start_time": "2022-08-29T07:40:20.665742",
     "status": "completed"
    },
    "tags": []
   },
   "source": [
    "check normal distribution "
   ]
  },
  {
   "cell_type": "code",
   "execution_count": 17,
   "id": "d5ab24f4",
   "metadata": {
    "execution": {
     "iopub.execute_input": "2022-08-29T07:40:20.719721Z",
     "iopub.status.busy": "2022-08-29T07:40:20.718423Z",
     "iopub.status.idle": "2022-08-29T07:40:23.642108Z",
     "shell.execute_reply": "2022-08-29T07:40:23.640937Z"
    },
    "papermill": {
     "duration": 2.944865,
     "end_time": "2022-08-29T07:40:23.644576",
     "exception": false,
     "start_time": "2022-08-29T07:40:20.699711",
     "status": "completed"
    },
    "tags": []
   },
   "outputs": [
    {
     "data": {
      "text/plain": [
       "array([[<AxesSubplot:title={'center':'BAD'}>,\n",
       "        <AxesSubplot:title={'center':'LOAN'}>,\n",
       "        <AxesSubplot:title={'center':'MORTDUE'}>],\n",
       "       [<AxesSubplot:title={'center':'VALUE'}>,\n",
       "        <AxesSubplot:title={'center':'YOJ'}>,\n",
       "        <AxesSubplot:title={'center':'DEROG'}>],\n",
       "       [<AxesSubplot:title={'center':'DELINQ'}>,\n",
       "        <AxesSubplot:title={'center':'CLAGE'}>,\n",
       "        <AxesSubplot:title={'center':'NINQ'}>],\n",
       "       [<AxesSubplot:title={'center':'CLNO'}>,\n",
       "        <AxesSubplot:title={'center':'DEBTINC'}>, <AxesSubplot:>]],\n",
       "      dtype=object)"
      ]
     },
     "execution_count": 17,
     "metadata": {},
     "output_type": "execute_result"
    },
    {
     "data": {
      "image/png": "[encoded data removed]",
      "text/plain": [
       "<Figure size 1440x1080 with 12 Axes>"
      ]
     },
     "metadata": {
      "needs_background": "light"
     },
     "output_type": "display_data"
    }
   ],
   "source": [
    "data_copy.hist(bins=50, figsize=(20, 15))"
   ]
  },
  {
   "cell_type": "code",
   "execution_count": 18,
   "id": "18cad511",
   "metadata": {
    "execution": {
     "iopub.execute_input": "2022-08-29T07:40:23.683948Z",
     "iopub.status.busy": "2022-08-29T07:40:23.683547Z",
     "iopub.status.idle": "2022-08-29T07:40:23.694421Z",
     "shell.execute_reply": "2022-08-29T07:40:23.693438Z"
    },
    "papermill": {
     "duration": 0.033714,
     "end_time": "2022-08-29T07:40:23.697484",
     "exception": false,
     "start_time": "2022-08-29T07:40:23.663770",
     "status": "completed"
    },
    "tags": []
   },
   "outputs": [],
   "source": [
    "def descriptive_summary_n(data, column_name):\n",
    "    fig, axs = plt.subplots(1,2, figsize=(19,6))\n",
    "    axs[0].hist(data[column_name], bins=50) \n",
    "    axs[0].axvline(data[column_name].mean(), color='red', label=f\"Mean: {round(data[column_name].mean(),2)}\") \n",
    "    axs[0].axvline(data[column_name].median(), color='green', label=f\"Median: {round(data[column_name].median(),2)}\") \n",
    "    axs[0].axvline(x=data[column_name].describe()[4],color='r', linestyle='--', label=f\"25th percentile: {data[column_name].describe()[4]}\") \n",
    "    axs[0].axvline(x=data[column_name].describe()[6],color='r', linestyle='--', label=f\"75th percentile: {data[column_name].describe()[6]}\") \n",
    "    axs[0].legend()\n",
    "    sns.boxplot(data=data, x=column_name, ax=axs[1]) #creating boxplot\n",
    "    axs[1].axvline(data[column_name].mean(), color='red') #vertical line for the mean of the distribution\n",
    "    fig.suptitle(f\"Histogram and Boxplot of {column_name}\")\n",
    "    plt.show()\n",
    "    \n",
    "    print(f\"{data[column_name].describe().round(3)}\\n\")\n",
    "    print(f\"Skewness: {skew(data[data[column_name].isna()==False][column_name], bias=True)}\")\n",
    "    print(f\"Kurtosis: {kurtosis(data[data[column_name].isna()==False][column_name], bias=True)}\")"
   ]
  },
  {
   "cell_type": "code",
   "execution_count": 19,
   "id": "d1072075",
   "metadata": {
    "execution": {
     "iopub.execute_input": "2022-08-29T07:40:23.736139Z",
     "iopub.status.busy": "2022-08-29T07:40:23.735735Z",
     "iopub.status.idle": "2022-08-29T07:40:24.214270Z",
     "shell.execute_reply": "2022-08-29T07:40:24.212550Z"
    },
    "papermill": {
     "duration": 0.501332,
     "end_time": "2022-08-29T07:40:24.217249",
     "exception": false,
     "start_time": "2022-08-29T07:40:23.715917",
     "status": "completed"
    },
    "tags": []
   },
   "outputs": [
    {
     "data": {
      "image/png": "[encoded data removed]",
      "text/plain": [
       "<Figure size 1368x432 with 2 Axes>"
      ]
     },
     "metadata": {
      "needs_background": "light"
     },
     "output_type": "display_data"
    },
    {
     "name": "stdout",
     "output_type": "stream",
     "text": [
      "count     5960.00\n",
      "mean     18607.97\n",
      "std      11207.48\n",
      "min       1100.00\n",
      "25%      11100.00\n",
      "50%      16300.00\n",
      "75%      23300.00\n",
      "max      89900.00\n",
      "Name: LOAN, dtype: float64\n",
      "\n",
      "Skewness: 2.023271335267116\n",
      "Kurtosis: 6.925768660586122\n"
     ]
    }
   ],
   "source": [
    "descriptive_summary_n(data_copy, numerical[0])"
   ]
  },
  {
   "cell_type": "markdown",
   "id": "44b8e5c7",
   "metadata": {
    "papermill": {
     "duration": 0.018845,
     "end_time": "2022-08-29T07:40:24.255055",
     "exception": false,
     "start_time": "2022-08-29T07:40:24.236210",
     "status": "completed"
    },
    "tags": []
   },
   "source": [
    "Data is mostly distributed between 15 and 26. Data distribution is quite similar normal distribution whoes skewness reachs to 0. (0.77)-> don't need modify anything"
   ]
  },
  {
   "cell_type": "code",
   "execution_count": 20,
   "id": "3185a7cc",
   "metadata": {
    "execution": {
     "iopub.execute_input": "2022-08-29T07:40:24.294800Z",
     "iopub.status.busy": "2022-08-29T07:40:24.294369Z",
     "iopub.status.idle": "2022-08-29T07:40:24.772628Z",
     "shell.execute_reply": "2022-08-29T07:40:24.771136Z"
    },
    "papermill": {
     "duration": 0.501741,
     "end_time": "2022-08-29T07:40:24.775717",
     "exception": false,
     "start_time": "2022-08-29T07:40:24.273976",
     "status": "completed"
    },
    "tags": []
   },
   "outputs": [
    {
     "data": {
      "image/png": "[encoded data removed]",
      "text/plain": [
       "<Figure size 1368x432 with 2 Axes>"
      ]
     },
     "metadata": {
      "needs_background": "light"
     },
     "output_type": "display_data"
    },
    {
     "name": "stdout",
     "output_type": "stream",
     "text": [
      "count    5445.000\n",
      "mean        8.922\n",
      "std         7.574\n",
      "min         0.000\n",
      "25%         3.000\n",
      "50%         7.000\n",
      "75%        13.000\n",
      "max        41.000\n",
      "Name: YOJ, dtype: float64\n",
      "\n",
      "Skewness: 0.988187745571414\n",
      "Kurtosis: 0.37062917639303716\n"
     ]
    }
   ],
   "source": [
    "descriptive_summary_n(data_copy, numerical[1])"
   ]
  },
  {
   "cell_type": "markdown",
   "id": "649d114d",
   "metadata": {
    "papermill": {
     "duration": 0.018725,
     "end_time": "2022-08-29T07:40:24.813812",
     "exception": false,
     "start_time": "2022-08-29T07:40:24.795087",
     "status": "completed"
    },
    "tags": []
   },
   "source": [
    "data is mostly distributed between 29 and 39, some data can be outliers with value > 100. -> clip"
   ]
  },
  {
   "cell_type": "code",
   "execution_count": 21,
   "id": "52f0c2c3",
   "metadata": {
    "execution": {
     "iopub.execute_input": "2022-08-29T07:40:24.854472Z",
     "iopub.status.busy": "2022-08-29T07:40:24.854039Z",
     "iopub.status.idle": "2022-08-29T07:40:25.356808Z",
     "shell.execute_reply": "2022-08-29T07:40:25.355419Z"
    },
    "papermill": {
     "duration": 0.527065,
     "end_time": "2022-08-29T07:40:25.360199",
     "exception": false,
     "start_time": "2022-08-29T07:40:24.833134",
     "status": "completed"
    },
    "tags": []
   },
   "outputs": [
    {
     "data": {
      "image/png": "[encoded data removed]",
      "text/plain": [
       "<Figure size 1368x432 with 2 Axes>"
      ]
     },
     "metadata": {
      "needs_background": "light"
     },
     "output_type": "display_data"
    },
    {
     "name": "stdout",
     "output_type": "stream",
     "text": [
      "count    5450.000\n",
      "mean        1.186\n",
      "std         1.729\n",
      "min         0.000\n",
      "25%         0.000\n",
      "50%         1.000\n",
      "75%         2.000\n",
      "max        17.000\n",
      "Name: NINQ, dtype: float64\n",
      "\n",
      "Skewness: 2.6212624700635554\n",
      "Kurtosis: 9.77643042145174\n"
     ]
    }
   ],
   "source": [
    "descriptive_summary_n(data_copy, numerical[2])"
   ]
  },
  {
   "cell_type": "code",
   "execution_count": 22,
   "id": "377190a7",
   "metadata": {
    "execution": {
     "iopub.execute_input": "2022-08-29T07:40:25.402207Z",
     "iopub.status.busy": "2022-08-29T07:40:25.401733Z",
     "iopub.status.idle": "2022-08-29T07:40:25.413853Z",
     "shell.execute_reply": "2022-08-29T07:40:25.412532Z"
    },
    "papermill": {
     "duration": 0.036311,
     "end_time": "2022-08-29T07:40:25.416717",
     "exception": false,
     "start_time": "2022-08-29T07:40:25.380406",
     "status": "completed"
    },
    "tags": []
   },
   "outputs": [
    {
     "data": {
      "text/plain": [
       "0.0     4179\n",
       "1.0      654\n",
       "2.0      250\n",
       "3.0      129\n",
       "4.0       78\n",
       "5.0       38\n",
       "6.0       27\n",
       "7.0       13\n",
       "8.0        5\n",
       "10.0       2\n",
       "11.0       2\n",
       "15.0       1\n",
       "12.0       1\n",
       "13.0       1\n",
       "Name: DELINQ, dtype: int64"
      ]
     },
     "execution_count": 22,
     "metadata": {},
     "output_type": "execute_result"
    }
   ],
   "source": [
    "data_copy[\"DELINQ\"].value_counts()"
   ]
  },
  {
   "cell_type": "markdown",
   "id": "c0b10f33",
   "metadata": {
    "papermill": {
     "duration": 0.020271,
     "end_time": "2022-08-29T07:40:25.457266",
     "exception": false,
     "start_time": "2022-08-29T07:40:25.436995",
     "status": "completed"
    },
    "tags": []
   },
   "source": [
    "most of values is 0, data contain discrete value from 0 to 13 -> categorical data"
   ]
  },
  {
   "cell_type": "code",
   "execution_count": 23,
   "id": "51462ae0",
   "metadata": {
    "execution": {
     "iopub.execute_input": "2022-08-29T07:40:25.501958Z",
     "iopub.status.busy": "2022-08-29T07:40:25.501086Z",
     "iopub.status.idle": "2022-08-29T07:40:25.979452Z",
     "shell.execute_reply": "2022-08-29T07:40:25.978018Z"
    },
    "papermill": {
     "duration": 0.504174,
     "end_time": "2022-08-29T07:40:25.982271",
     "exception": false,
     "start_time": "2022-08-29T07:40:25.478097",
     "status": "completed"
    },
    "tags": []
   },
   "outputs": [
    {
     "data": {
      "image/png": "[encoded data removed]",
      "text/plain": [
       "<Figure size 1368x432 with 2 Axes>"
      ]
     },
     "metadata": {
      "needs_background": "light"
     },
     "output_type": "display_data"
    },
    {
     "name": "stdout",
     "output_type": "stream",
     "text": [
      "count    5252.000\n",
      "mean        0.255\n",
      "std         0.846\n",
      "min         0.000\n",
      "25%         0.000\n",
      "50%         0.000\n",
      "75%         0.000\n",
      "max        10.000\n",
      "Name: DEROG, dtype: float64\n",
      "\n",
      "Skewness: 5.319350460035318\n",
      "Kurtosis: 36.83652699472577\n"
     ]
    }
   ],
   "source": [
    "descriptive_summary_n(data_copy, numerical[3])"
   ]
  },
  {
   "cell_type": "markdown",
   "id": "c9264e8a",
   "metadata": {
    "papermill": {
     "duration": 0.020425,
     "end_time": "2022-08-29T07:40:26.023827",
     "exception": false,
     "start_time": "2022-08-29T07:40:26.003402",
     "status": "completed"
    },
    "tags": []
   },
   "source": [
    "Data is mostly distributed between 46276 to 91488 with mean value 73760. Some cases is outliers with value close to 400000. => clip outliers."
   ]
  },
  {
   "cell_type": "code",
   "execution_count": 24,
   "id": "6c1c9873",
   "metadata": {
    "execution": {
     "iopub.execute_input": "2022-08-29T07:40:26.067809Z",
     "iopub.status.busy": "2022-08-29T07:40:26.067005Z",
     "iopub.status.idle": "2022-08-29T07:40:26.555301Z",
     "shell.execute_reply": "2022-08-29T07:40:26.553856Z"
    },
    "papermill": {
     "duration": 0.514222,
     "end_time": "2022-08-29T07:40:26.558109",
     "exception": false,
     "start_time": "2022-08-29T07:40:26.043887",
     "status": "completed"
    },
    "tags": []
   },
   "outputs": [
    {
     "data": {
      "image/png": "[encoded data removed]",
      "text/plain": [
       "<Figure size 1368x432 with 2 Axes>"
      ]
     },
     "metadata": {
      "needs_background": "light"
     },
     "output_type": "display_data"
    },
    {
     "name": "stdout",
     "output_type": "stream",
     "text": [
      "count      5848.000\n",
      "mean     101776.049\n",
      "std       57385.775\n",
      "min        8000.000\n",
      "25%       66075.500\n",
      "50%       89235.500\n",
      "75%      119824.250\n",
      "max      855909.000\n",
      "Name: VALUE, dtype: float64\n",
      "\n",
      "Skewness: 3.052561034173924\n",
      "Kurtosis: 24.340954016849995\n"
     ]
    }
   ],
   "source": [
    "descriptive_summary_n(data_copy, numerical[4])"
   ]
  },
  {
   "cell_type": "markdown",
   "id": "c7f75cb3",
   "metadata": {
    "papermill": {
     "duration": 0.020682,
     "end_time": "2022-08-29T07:40:26.600064",
     "exception": false,
     "start_time": "2022-08-29T07:40:26.579382",
     "status": "completed"
    },
    "tags": []
   },
   "source": [
    "data mostly distributed in range from 3 to 13. less data point have value close to 40"
   ]
  },
  {
   "cell_type": "code",
   "execution_count": 25,
   "id": "b27d22f7",
   "metadata": {
    "execution": {
     "iopub.execute_input": "2022-08-29T07:40:26.643650Z",
     "iopub.status.busy": "2022-08-29T07:40:26.643176Z",
     "iopub.status.idle": "2022-08-29T07:40:27.338639Z",
     "shell.execute_reply": "2022-08-29T07:40:27.336866Z"
    },
    "papermill": {
     "duration": 0.72086,
     "end_time": "2022-08-29T07:40:27.341627",
     "exception": false,
     "start_time": "2022-08-29T07:40:26.620767",
     "status": "completed"
    },
    "tags": []
   },
   "outputs": [
    {
     "data": {
      "image/png": "[encoded data removed]",
      "text/plain": [
       "<Figure size 1368x432 with 2 Axes>"
      ]
     },
     "metadata": {
      "needs_background": "light"
     },
     "output_type": "display_data"
    },
    {
     "name": "stdout",
     "output_type": "stream",
     "text": [
      "count    5380.000\n",
      "mean        0.449\n",
      "std         1.127\n",
      "min         0.000\n",
      "25%         0.000\n",
      "50%         0.000\n",
      "75%         0.000\n",
      "max        15.000\n",
      "Name: DELINQ, dtype: float64\n",
      "\n",
      "Skewness: 4.022027794361161\n",
      "Kurtosis: 23.542438371980538\n"
     ]
    }
   ],
   "source": [
    "descriptive_summary_n(data_copy, numerical[5])"
   ]
  },
  {
   "cell_type": "markdown",
   "id": "ef1c19aa",
   "metadata": {
    "papermill": {
     "duration": 0.022201,
     "end_time": "2022-08-29T07:40:27.385317",
     "exception": false,
     "start_time": "2022-08-29T07:40:27.363116",
     "status": "completed"
    },
    "tags": []
   },
   "source": [
    "all value mostly distributed between 15 and 26. close to normal distribution"
   ]
  },
  {
   "cell_type": "code",
   "execution_count": 26,
   "id": "be68a6f8",
   "metadata": {
    "execution": {
     "iopub.execute_input": "2022-08-29T07:40:27.431992Z",
     "iopub.status.busy": "2022-08-29T07:40:27.431561Z",
     "iopub.status.idle": "2022-08-29T07:40:27.959193Z",
     "shell.execute_reply": "2022-08-29T07:40:27.957879Z"
    },
    "papermill": {
     "duration": 0.554974,
     "end_time": "2022-08-29T07:40:27.962257",
     "exception": false,
     "start_time": "2022-08-29T07:40:27.407283",
     "status": "completed"
    },
    "tags": []
   },
   "outputs": [
    {
     "data": {
      "image/png": "[encoded data removed]",
      "text/plain": [
       "<Figure size 1368x432 with 2 Axes>"
      ]
     },
     "metadata": {
      "needs_background": "light"
     },
     "output_type": "display_data"
    },
    {
     "name": "stdout",
     "output_type": "stream",
     "text": [
      "count      5442.000\n",
      "mean      73760.817\n",
      "std       44457.609\n",
      "min        2063.000\n",
      "25%       46276.000\n",
      "50%       65019.000\n",
      "75%       91488.000\n",
      "max      399550.000\n",
      "Name: MORTDUE, dtype: float64\n",
      "\n",
      "Skewness: 1.8139805316190307\n",
      "Kurtosis: 6.474810104240438\n"
     ]
    }
   ],
   "source": [
    "descriptive_summary_n(data_copy, numerical[6])"
   ]
  },
  {
   "cell_type": "code",
   "execution_count": 27,
   "id": "dfcc4ac6",
   "metadata": {
    "execution": {
     "iopub.execute_input": "2022-08-29T07:40:28.021263Z",
     "iopub.status.busy": "2022-08-29T07:40:28.020697Z",
     "iopub.status.idle": "2022-08-29T07:40:28.033870Z",
     "shell.execute_reply": "2022-08-29T07:40:28.032521Z"
    },
    "papermill": {
     "duration": 0.049038,
     "end_time": "2022-08-29T07:40:28.036704",
     "exception": false,
     "start_time": "2022-08-29T07:40:27.987666",
     "status": "completed"
    },
    "tags": []
   },
   "outputs": [
    {
     "data": {
      "text/plain": [
       "0.0     4527\n",
       "1.0      435\n",
       "2.0      160\n",
       "3.0       58\n",
       "4.0       23\n",
       "5.0       15\n",
       "6.0       15\n",
       "7.0        8\n",
       "8.0        6\n",
       "9.0        3\n",
       "10.0       2\n",
       "Name: DEROG, dtype: int64"
      ]
     },
     "execution_count": 27,
     "metadata": {},
     "output_type": "execute_result"
    }
   ],
   "source": [
    "data_copy[\"DEROG\"].value_counts()"
   ]
  },
  {
   "cell_type": "markdown",
   "id": "47065872",
   "metadata": {
    "papermill": {
     "duration": 0.02132,
     "end_time": "2022-08-29T07:40:28.086856",
     "exception": false,
     "start_time": "2022-08-29T07:40:28.065536",
     "status": "completed"
    },
    "tags": []
   },
   "source": [
    "DEROG have discrete values in few cases, range from 0-10. So, can consider as categorical data."
   ]
  },
  {
   "cell_type": "code",
   "execution_count": 28,
   "id": "e9050b0c",
   "metadata": {
    "execution": {
     "iopub.execute_input": "2022-08-29T07:40:28.132896Z",
     "iopub.status.busy": "2022-08-29T07:40:28.131599Z",
     "iopub.status.idle": "2022-08-29T07:40:28.631034Z",
     "shell.execute_reply": "2022-08-29T07:40:28.629286Z"
    },
    "papermill": {
     "duration": 0.526688,
     "end_time": "2022-08-29T07:40:28.635244",
     "exception": false,
     "start_time": "2022-08-29T07:40:28.108556",
     "status": "completed"
    },
    "tags": []
   },
   "outputs": [
    {
     "data": {
      "image/png": "[encoded data removed]",
      "text/plain": [
       "<Figure size 1368x432 with 2 Axes>"
      ]
     },
     "metadata": {
      "needs_background": "light"
     },
     "output_type": "display_data"
    },
    {
     "name": "stdout",
     "output_type": "stream",
     "text": [
      "count    4693.000\n",
      "mean       33.780\n",
      "std         8.602\n",
      "min         0.524\n",
      "25%        29.140\n",
      "50%        34.818\n",
      "75%        39.003\n",
      "max       203.312\n",
      "Name: DEBTINC, dtype: float64\n",
      "\n",
      "Skewness: 2.8514416518751813\n",
      "Kurtosis: 50.44897150965423\n"
     ]
    }
   ],
   "source": [
    "descriptive_summary_n(data_copy, numerical[7])"
   ]
  },
  {
   "cell_type": "markdown",
   "id": "a0818185",
   "metadata": {
    "papermill": {
     "duration": 0.022089,
     "end_time": "2022-08-29T07:40:28.680335",
     "exception": false,
     "start_time": "2022-08-29T07:40:28.658246",
     "status": "completed"
    },
    "tags": []
   },
   "source": [
    "data moslty around 115-231. few value > 600 -> clip"
   ]
  },
  {
   "cell_type": "code",
   "execution_count": 29,
   "id": "8055652d",
   "metadata": {
    "execution": {
     "iopub.execute_input": "2022-08-29T07:40:28.730516Z",
     "iopub.status.busy": "2022-08-29T07:40:28.730105Z",
     "iopub.status.idle": "2022-08-29T07:40:29.234509Z",
     "shell.execute_reply": "2022-08-29T07:40:29.232735Z"
    },
    "papermill": {
     "duration": 0.531283,
     "end_time": "2022-08-29T07:40:29.237604",
     "exception": false,
     "start_time": "2022-08-29T07:40:28.706321",
     "status": "completed"
    },
    "tags": []
   },
   "outputs": [
    {
     "data": {
      "image/png": "[encoded data removed]",
      "text/plain": [
       "<Figure size 1368x432 with 2 Axes>"
      ]
     },
     "metadata": {
      "needs_background": "light"
     },
     "output_type": "display_data"
    },
    {
     "name": "stdout",
     "output_type": "stream",
     "text": [
      "count    5652.000\n",
      "mean      179.766\n",
      "std        85.810\n",
      "min         0.000\n",
      "25%       115.117\n",
      "50%       173.467\n",
      "75%       231.562\n",
      "max      1168.234\n",
      "Name: CLAGE, dtype: float64\n",
      "\n",
      "Skewness: 1.3430554852403158\n",
      "Kurtosis: 7.591766725791192\n"
     ]
    }
   ],
   "source": [
    "descriptive_summary_n(data_copy, numerical[8])"
   ]
  },
  {
   "cell_type": "code",
   "execution_count": 30,
   "id": "9b3aa283",
   "metadata": {
    "execution": {
     "iopub.execute_input": "2022-08-29T07:40:29.287422Z",
     "iopub.status.busy": "2022-08-29T07:40:29.286398Z",
     "iopub.status.idle": "2022-08-29T07:40:29.296103Z",
     "shell.execute_reply": "2022-08-29T07:40:29.294952Z"
    },
    "papermill": {
     "duration": 0.037147,
     "end_time": "2022-08-29T07:40:29.298531",
     "exception": false,
     "start_time": "2022-08-29T07:40:29.261384",
     "status": "completed"
    },
    "tags": []
   },
   "outputs": [
    {
     "data": {
      "text/plain": [
       "0.0     2531\n",
       "1.0     1339\n",
       "2.0      780\n",
       "3.0      392\n",
       "4.0      156\n",
       "5.0       75\n",
       "6.0       56\n",
       "7.0       44\n",
       "10.0      28\n",
       "8.0       22\n",
       "9.0       11\n",
       "11.0      10\n",
       "12.0       2\n",
       "13.0       2\n",
       "14.0       1\n",
       "17.0       1\n",
       "Name: NINQ, dtype: int64"
      ]
     },
     "execution_count": 30,
     "metadata": {},
     "output_type": "execute_result"
    }
   ],
   "source": [
    "data_copy[\"NINQ\"].value_counts()"
   ]
  },
  {
   "cell_type": "markdown",
   "id": "9e7acb90",
   "metadata": {
    "papermill": {
     "duration": 0.023138,
     "end_time": "2022-08-29T07:40:29.345433",
     "exception": false,
     "start_time": "2022-08-29T07:40:29.322295",
     "status": "completed"
    },
    "tags": []
   },
   "source": [
    "discrete value from 0 to 17. -> categorical data"
   ]
  },
  {
   "cell_type": "code",
   "execution_count": 31,
   "id": "f3176741",
   "metadata": {
    "execution": {
     "iopub.execute_input": "2022-08-29T07:40:29.393297Z",
     "iopub.status.busy": "2022-08-29T07:40:29.392856Z",
     "iopub.status.idle": "2022-08-29T07:40:29.882165Z",
     "shell.execute_reply": "2022-08-29T07:40:29.880269Z"
    },
    "papermill": {
     "duration": 0.516937,
     "end_time": "2022-08-29T07:40:29.885159",
     "exception": false,
     "start_time": "2022-08-29T07:40:29.368222",
     "status": "completed"
    },
    "tags": []
   },
   "outputs": [
    {
     "data": {
      "image/png": "[encoded data removed]",
      "text/plain": [
       "<Figure size 1368x432 with 2 Axes>"
      ]
     },
     "metadata": {
      "needs_background": "light"
     },
     "output_type": "display_data"
    },
    {
     "name": "stdout",
     "output_type": "stream",
     "text": [
      "count    5738.000\n",
      "mean       21.296\n",
      "std        10.139\n",
      "min         0.000\n",
      "25%        15.000\n",
      "50%        20.000\n",
      "75%        26.000\n",
      "max        71.000\n",
      "Name: CLNO, dtype: float64\n",
      "\n",
      "Skewness: 0.7748491333266019\n",
      "Kurtosis: 1.1556187224902832\n"
     ]
    }
   ],
   "source": [
    "descriptive_summary_n(data_copy, numerical[9])"
   ]
  },
  {
   "cell_type": "markdown",
   "id": "65350885",
   "metadata": {
    "papermill": {
     "duration": 0.024217,
     "end_time": "2022-08-29T07:40:29.934239",
     "exception": false,
     "start_time": "2022-08-29T07:40:29.910022",
     "status": "completed"
    },
    "tags": []
   },
   "source": [
    "data is mostly distributed between 66075 and 119824. few data > 400000 -> clip"
   ]
  },
  {
   "cell_type": "markdown",
   "id": "e7a23d3a",
   "metadata": {
    "papermill": {
     "duration": 0.023709,
     "end_time": "2022-08-29T07:40:29.982430",
     "exception": false,
     "start_time": "2022-08-29T07:40:29.958721",
     "status": "completed"
    },
    "tags": []
   },
   "source": [
    "# Summary of categorical data"
   ]
  },
  {
   "cell_type": "code",
   "execution_count": 32,
   "id": "63ed2ed6",
   "metadata": {
    "execution": {
     "iopub.execute_input": "2022-08-29T07:40:30.035556Z",
     "iopub.status.busy": "2022-08-29T07:40:30.034822Z",
     "iopub.status.idle": "2022-08-29T07:40:30.043363Z",
     "shell.execute_reply": "2022-08-29T07:40:30.042449Z"
    },
    "papermill": {
     "duration": 0.037611,
     "end_time": "2022-08-29T07:40:30.045946",
     "exception": false,
     "start_time": "2022-08-29T07:40:30.008335",
     "status": "completed"
    },
    "tags": []
   },
   "outputs": [],
   "source": [
    "data_c = data.copy()\n",
    "data_c.loc[data_c['BAD']==0, 'BAD']='Not default'\n",
    "data_c.loc[data_c['BAD']==1, 'BAD']='Default'"
   ]
  },
  {
   "cell_type": "code",
   "execution_count": 33,
   "id": "dd2292e0",
   "metadata": {
    "execution": {
     "iopub.execute_input": "2022-08-29T07:40:30.097269Z",
     "iopub.status.busy": "2022-08-29T07:40:30.096577Z",
     "iopub.status.idle": "2022-08-29T07:40:30.104964Z",
     "shell.execute_reply": "2022-08-29T07:40:30.103850Z"
    },
    "papermill": {
     "duration": 0.038007,
     "end_time": "2022-08-29T07:40:30.107783",
     "exception": false,
     "start_time": "2022-08-29T07:40:30.069776",
     "status": "completed"
    },
    "tags": []
   },
   "outputs": [],
   "source": [
    "def descriptive_summary_c(data, column_name):\n",
    "    print(f\"\\033[1mFrequency table of {column_name} variable: \\033[0m\")\n",
    "    freq_table = data[column_name].value_counts().to_frame().reset_index() \n",
    "    freq_table.columns = [column_name, 'Frequencies']\n",
    "    freq_table['% Percentages'] = round(freq_table['Frequencies']/data[column_name].count()*100,2) \n",
    "    display(freq_table)\n",
    "    print()\n",
    "    fig,axs = plt.subplots(1,2,figsize=(15,5))\n",
    "    sns.barplot(data=freq_table, x='Frequencies', y=column_name, palette='flare', ax=axs[0]) \n",
    "    colors = sns.color_palette('flare')\n",
    "    d = list(freq_table['% Percentages'])\n",
    "    labels = list(freq_table[column_name])\n",
    "    plt.pie(d, labels = labels, colors = colors, autopct='%.0f%%')\n",
    "    fig.suptitle(f\"Bar Chart and Pie Chart of {column_name} variable\")\n",
    "    plt.show()"
   ]
  },
  {
   "cell_type": "code",
   "execution_count": 34,
   "id": "16d9c2e3",
   "metadata": {
    "execution": {
     "iopub.execute_input": "2022-08-29T07:40:30.157979Z",
     "iopub.status.busy": "2022-08-29T07:40:30.157550Z",
     "iopub.status.idle": "2022-08-29T07:40:30.454909Z",
     "shell.execute_reply": "2022-08-29T07:40:30.453673Z"
    },
    "papermill": {
     "duration": 0.325553,
     "end_time": "2022-08-29T07:40:30.457560",
     "exception": false,
     "start_time": "2022-08-29T07:40:30.132007",
     "status": "completed"
    },
    "tags": []
   },
   "outputs": [
    {
     "name": "stdout",
     "output_type": "stream",
     "text": [
      "\u001b[1mFrequency table of REASON variable: \u001b[0m\n"
     ]
    },
    {
     "data": {
      "text/html": [
       "<div>\n",
       "<style scoped>\n",
       "    .dataframe tbody tr th:only-of-type {\n",
       "        vertical-align: middle;\n",
       "    }\n",
       "\n",
       "    .dataframe tbody tr th {\n",
       "        vertical-align: top;\n",
       "    }\n",
       "\n",
       "    .dataframe thead th {\n",
       "        text-align: right;\n",
       "    }\n",
       "</style>\n",
       "<table border=\"1\" class=\"dataframe\">\n",
       "  <thead>\n",
       "    <tr style=\"text-align: right;\">\n",
       "      <th></th>\n",
       "      <th>REASON</th>\n",
       "      <th>Frequencies</th>\n",
       "      <th>% Percentages</th>\n",
       "    </tr>\n",
       "  </thead>\n",
       "  <tbody>\n",
       "    <tr>\n",
       "      <th>0</th>\n",
       "      <td>DebtCon</td>\n",
       "      <td>3928</td>\n",
       "      <td>68.82</td>\n",
       "    </tr>\n",
       "    <tr>\n",
       "      <th>1</th>\n",
       "      <td>HomeImp</td>\n",
       "      <td>1780</td>\n",
       "      <td>31.18</td>\n",
       "    </tr>\n",
       "  </tbody>\n",
       "</table>\n",
       "</div>"
      ],
      "text/plain": [
       "    REASON  Frequencies  % Percentages\n",
       "0  DebtCon         3928          68.82\n",
       "1  HomeImp         1780          31.18"
      ]
     },
     "metadata": {},
     "output_type": "display_data"
    },
    {
     "name": "stdout",
     "output_type": "stream",
     "text": [
      "\n"
     ]
    },
    {
     "data": {
      "image/png": "[encoded data removed]",
      "text/plain": [
       "<Figure size 1080x360 with 2 Axes>"
      ]
     },
     "metadata": {
      "needs_background": "light"
     },
     "output_type": "display_data"
    }
   ],
   "source": [
    "descriptive_summary_c(data_c, categorical[0])"
   ]
  },
  {
   "cell_type": "markdown",
   "id": "a7813ef1",
   "metadata": {
    "papermill": {
     "duration": 0.02568,
     "end_time": "2022-08-29T07:40:30.508081",
     "exception": false,
     "start_time": "2022-08-29T07:40:30.482401",
     "status": "completed"
    },
    "tags": []
   },
   "source": []
  },
  {
   "cell_type": "code",
   "execution_count": 35,
   "id": "989f00e3",
   "metadata": {
    "execution": {
     "iopub.execute_input": "2022-08-29T07:40:30.559931Z",
     "iopub.status.busy": "2022-08-29T07:40:30.559459Z",
     "iopub.status.idle": "2022-08-29T07:40:30.897114Z",
     "shell.execute_reply": "2022-08-29T07:40:30.895742Z"
    },
    "papermill": {
     "duration": 0.367033,
     "end_time": "2022-08-29T07:40:30.899954",
     "exception": false,
     "start_time": "2022-08-29T07:40:30.532921",
     "status": "completed"
    },
    "tags": []
   },
   "outputs": [
    {
     "name": "stdout",
     "output_type": "stream",
     "text": [
      "\u001b[1mFrequency table of JOB variable: \u001b[0m\n"
     ]
    },
    {
     "data": {
      "text/html": [
       "<div>\n",
       "<style scoped>\n",
       "    .dataframe tbody tr th:only-of-type {\n",
       "        vertical-align: middle;\n",
       "    }\n",
       "\n",
       "    .dataframe tbody tr th {\n",
       "        vertical-align: top;\n",
       "    }\n",
       "\n",
       "    .dataframe thead th {\n",
       "        text-align: right;\n",
       "    }\n",
       "</style>\n",
       "<table border=\"1\" class=\"dataframe\">\n",
       "  <thead>\n",
       "    <tr style=\"text-align: right;\">\n",
       "      <th></th>\n",
       "      <th>JOB</th>\n",
       "      <th>Frequencies</th>\n",
       "      <th>% Percentages</th>\n",
       "    </tr>\n",
       "  </thead>\n",
       "  <tbody>\n",
       "    <tr>\n",
       "      <th>0</th>\n",
       "      <td>Other</td>\n",
       "      <td>2388</td>\n",
       "      <td>42.03</td>\n",
       "    </tr>\n",
       "    <tr>\n",
       "      <th>1</th>\n",
       "      <td>ProfExe</td>\n",
       "      <td>1276</td>\n",
       "      <td>22.46</td>\n",
       "    </tr>\n",
       "    <tr>\n",
       "      <th>2</th>\n",
       "      <td>Office</td>\n",
       "      <td>948</td>\n",
       "      <td>16.69</td>\n",
       "    </tr>\n",
       "    <tr>\n",
       "      <th>3</th>\n",
       "      <td>Mgr</td>\n",
       "      <td>767</td>\n",
       "      <td>13.50</td>\n",
       "    </tr>\n",
       "    <tr>\n",
       "      <th>4</th>\n",
       "      <td>Self</td>\n",
       "      <td>193</td>\n",
       "      <td>3.40</td>\n",
       "    </tr>\n",
       "    <tr>\n",
       "      <th>5</th>\n",
       "      <td>Sales</td>\n",
       "      <td>109</td>\n",
       "      <td>1.92</td>\n",
       "    </tr>\n",
       "  </tbody>\n",
       "</table>\n",
       "</div>"
      ],
      "text/plain": [
       "       JOB  Frequencies  % Percentages\n",
       "0    Other         2388          42.03\n",
       "1  ProfExe         1276          22.46\n",
       "2   Office          948          16.69\n",
       "3      Mgr          767          13.50\n",
       "4     Self          193           3.40\n",
       "5    Sales          109           1.92"
      ]
     },
     "metadata": {},
     "output_type": "display_data"
    },
    {
     "name": "stdout",
     "output_type": "stream",
     "text": [
      "\n"
     ]
    },
    {
     "data": {
      "image/png": "[encoded data removed]",
      "text/plain": [
       "<Figure size 1080x360 with 2 Axes>"
      ]
     },
     "metadata": {
      "needs_background": "light"
     },
     "output_type": "display_data"
    }
   ],
   "source": [
    "descriptive_summary_c(data_c, categorical[1])"
   ]
  },
  {
   "cell_type": "code",
   "execution_count": 36,
   "id": "6745ea61",
   "metadata": {
    "execution": {
     "iopub.execute_input": "2022-08-29T07:40:30.953072Z",
     "iopub.status.busy": "2022-08-29T07:40:30.952150Z",
     "iopub.status.idle": "2022-08-29T07:40:31.226281Z",
     "shell.execute_reply": "2022-08-29T07:40:31.224979Z"
    },
    "papermill": {
     "duration": 0.303636,
     "end_time": "2022-08-29T07:40:31.228925",
     "exception": false,
     "start_time": "2022-08-29T07:40:30.925289",
     "status": "completed"
    },
    "tags": []
   },
   "outputs": [
    {
     "name": "stdout",
     "output_type": "stream",
     "text": [
      "\u001b[1mFrequency table of BAD variable: \u001b[0m\n"
     ]
    },
    {
     "data": {
      "text/html": [
       "<div>\n",
       "<style scoped>\n",
       "    .dataframe tbody tr th:only-of-type {\n",
       "        vertical-align: middle;\n",
       "    }\n",
       "\n",
       "    .dataframe tbody tr th {\n",
       "        vertical-align: top;\n",
       "    }\n",
       "\n",
       "    .dataframe thead th {\n",
       "        text-align: right;\n",
       "    }\n",
       "</style>\n",
       "<table border=\"1\" class=\"dataframe\">\n",
       "  <thead>\n",
       "    <tr style=\"text-align: right;\">\n",
       "      <th></th>\n",
       "      <th>BAD</th>\n",
       "      <th>Frequencies</th>\n",
       "      <th>% Percentages</th>\n",
       "    </tr>\n",
       "  </thead>\n",
       "  <tbody>\n",
       "    <tr>\n",
       "      <th>0</th>\n",
       "      <td>Not default</td>\n",
       "      <td>4771</td>\n",
       "      <td>80.05</td>\n",
       "    </tr>\n",
       "    <tr>\n",
       "      <th>1</th>\n",
       "      <td>Default</td>\n",
       "      <td>1189</td>\n",
       "      <td>19.95</td>\n",
       "    </tr>\n",
       "  </tbody>\n",
       "</table>\n",
       "</div>"
      ],
      "text/plain": [
       "           BAD  Frequencies  % Percentages\n",
       "0  Not default         4771          80.05\n",
       "1      Default         1189          19.95"
      ]
     },
     "metadata": {},
     "output_type": "display_data"
    },
    {
     "name": "stdout",
     "output_type": "stream",
     "text": [
      "\n"
     ]
    },
    {
     "data": {
      "image/png": "[encoded data removed]",
      "text/plain": [
       "<Figure size 1080x360 with 2 Axes>"
      ]
     },
     "metadata": {
      "needs_background": "light"
     },
     "output_type": "display_data"
    }
   ],
   "source": [
    "descriptive_summary_c(data_c, categorical[2])"
   ]
  },
  {
   "cell_type": "markdown",
   "id": "4809bd93",
   "metadata": {
    "papermill": {
     "duration": 0.025818,
     "end_time": "2022-08-29T07:40:31.280726",
     "exception": false,
     "start_time": "2022-08-29T07:40:31.254908",
     "status": "completed"
    },
    "tags": []
   },
   "source": [
    "target class is a bit imbalanced."
   ]
  },
  {
   "cell_type": "markdown",
   "id": "752ea2b3",
   "metadata": {
    "papermill": {
     "duration": 0.025471,
     "end_time": "2022-08-29T07:40:31.331873",
     "exception": false,
     "start_time": "2022-08-29T07:40:31.306402",
     "status": "completed"
    },
    "tags": []
   },
   "source": [
    "# Correlation among categorical data"
   ]
  },
  {
   "cell_type": "markdown",
   "id": "17b59130",
   "metadata": {
    "papermill": {
     "duration": 0.026416,
     "end_time": "2022-08-29T07:40:31.385834",
     "exception": false,
     "start_time": "2022-08-29T07:40:31.359418",
     "status": "completed"
    },
    "tags": []
   },
   "source": [
    "**using cramers'v measure**"
   ]
  },
  {
   "cell_type": "code",
   "execution_count": 37,
   "id": "b23e54bc",
   "metadata": {
    "execution": {
     "iopub.execute_input": "2022-08-29T07:40:31.440933Z",
     "iopub.status.busy": "2022-08-29T07:40:31.440075Z",
     "iopub.status.idle": "2022-08-29T07:40:31.454763Z",
     "shell.execute_reply": "2022-08-29T07:40:31.453378Z"
    },
    "papermill": {
     "duration": 0.045639,
     "end_time": "2022-08-29T07:40:31.457400",
     "exception": false,
     "start_time": "2022-08-29T07:40:31.411761",
     "status": "completed"
    },
    "tags": []
   },
   "outputs": [],
   "source": [
    "label = preprocessing.LabelEncoder() \n",
    "data_encoded = pd.DataFrame() \n",
    "\n",
    "for i in data_copy[categorical].columns :\n",
    "    data_encoded[i]=label.fit_transform(data_copy[i])"
   ]
  },
  {
   "cell_type": "code",
   "execution_count": 38,
   "id": "929d4dff",
   "metadata": {
    "execution": {
     "iopub.execute_input": "2022-08-29T07:40:31.511403Z",
     "iopub.status.busy": "2022-08-29T07:40:31.510984Z",
     "iopub.status.idle": "2022-08-29T07:40:31.517800Z",
     "shell.execute_reply": "2022-08-29T07:40:31.516596Z"
    },
    "papermill": {
     "duration": 0.036928,
     "end_time": "2022-08-29T07:40:31.520083",
     "exception": false,
     "start_time": "2022-08-29T07:40:31.483155",
     "status": "completed"
    },
    "tags": []
   },
   "outputs": [],
   "source": [
    "def cramers_V(var1,var2) :\n",
    "    crosstab =np.array(pd.crosstab(var1,var2, rownames=None, colnames=None)) # Cross table building\n",
    "    stat = chi2_contingency(crosstab)[0] \n",
    "    obs = np.sum(crosstab) \n",
    "    mini = min(crosstab.shape)-1 \n",
    "    return (stat/(obs*mini))"
   ]
  },
  {
   "cell_type": "code",
   "execution_count": 39,
   "id": "757d5a9b",
   "metadata": {
    "execution": {
     "iopub.execute_input": "2022-08-29T07:40:31.576325Z",
     "iopub.status.busy": "2022-08-29T07:40:31.575017Z",
     "iopub.status.idle": "2022-08-29T07:40:31.691006Z",
     "shell.execute_reply": "2022-08-29T07:40:31.690100Z"
    },
    "papermill": {
     "duration": 0.146895,
     "end_time": "2022-08-29T07:40:31.693355",
     "exception": false,
     "start_time": "2022-08-29T07:40:31.546460",
     "status": "completed"
    },
    "tags": []
   },
   "outputs": [
    {
     "data": {
      "text/html": [
       "<div>\n",
       "<style scoped>\n",
       "    .dataframe tbody tr th:only-of-type {\n",
       "        vertical-align: middle;\n",
       "    }\n",
       "\n",
       "    .dataframe tbody tr th {\n",
       "        vertical-align: top;\n",
       "    }\n",
       "\n",
       "    .dataframe thead th {\n",
       "        text-align: right;\n",
       "    }\n",
       "</style>\n",
       "<table border=\"1\" class=\"dataframe\">\n",
       "  <thead>\n",
       "    <tr style=\"text-align: right;\">\n",
       "      <th></th>\n",
       "      <th>REASON</th>\n",
       "      <th>JOB</th>\n",
       "      <th>BAD</th>\n",
       "    </tr>\n",
       "  </thead>\n",
       "  <tbody>\n",
       "    <tr>\n",
       "      <th>REASON</th>\n",
       "      <td>1.00</td>\n",
       "      <td>0.08</td>\n",
       "      <td>0.00</td>\n",
       "    </tr>\n",
       "    <tr>\n",
       "      <th>JOB</th>\n",
       "      <td>0.08</td>\n",
       "      <td>1.00</td>\n",
       "      <td>0.02</td>\n",
       "    </tr>\n",
       "    <tr>\n",
       "      <th>BAD</th>\n",
       "      <td>0.00</td>\n",
       "      <td>0.02</td>\n",
       "      <td>1.00</td>\n",
       "    </tr>\n",
       "  </tbody>\n",
       "</table>\n",
       "</div>"
      ],
      "text/plain": [
       "        REASON   JOB   BAD\n",
       "REASON    1.00  0.08  0.00\n",
       "JOB       0.08  1.00  0.02\n",
       "BAD       0.00  0.02  1.00"
      ]
     },
     "execution_count": 39,
     "metadata": {},
     "output_type": "execute_result"
    }
   ],
   "source": [
    "rows= []\n",
    "for var1 in data_encoded:\n",
    "    col = []\n",
    "    for var2 in data_encoded :\n",
    "        cramers =cramers_V(data_encoded[var1], data_encoded[var2])\n",
    "        col.append(round(cramers,2)) \n",
    "    rows.append(col)      \n",
    "cramers_results = np.array(rows)\n",
    "df = pd.DataFrame(cramers_results, columns = data_encoded.columns, index =data_encoded.columns)\n",
    "df"
   ]
  },
  {
   "cell_type": "code",
   "execution_count": 40,
   "id": "39bf6eb4",
   "metadata": {
    "execution": {
     "iopub.execute_input": "2022-08-29T07:40:31.749117Z",
     "iopub.status.busy": "2022-08-29T07:40:31.747986Z",
     "iopub.status.idle": "2022-08-29T07:40:32.009405Z",
     "shell.execute_reply": "2022-08-29T07:40:32.007994Z"
    },
    "papermill": {
     "duration": 0.292094,
     "end_time": "2022-08-29T07:40:32.012056",
     "exception": false,
     "start_time": "2022-08-29T07:40:31.719962",
     "status": "completed"
    },
    "tags": []
   },
   "outputs": [
    {
     "name": "stderr",
     "output_type": "stream",
     "text": [
      "/opt/conda/lib/python3.7/site-packages/ipykernel_launcher.py:2: DeprecationWarning: `np.bool` is a deprecated alias for the builtin `bool`. To silence this warning, use `bool` by itself. Doing this will not modify any behavior and is safe. If you specifically wanted the numpy scalar type, use `np.bool_` here.\n",
      "Deprecated in NumPy 1.20; for more details and guidance: https://numpy.org/devdocs/release/1.20.0-notes.html#deprecations\n",
      "  \n"
     ]
    },
    {
     "data": {
      "image/png": "[encoded data removed]",
      "text/plain": [
       "<Figure size 432x432 with 2 Axes>"
      ]
     },
     "metadata": {
      "needs_background": "light"
     },
     "output_type": "display_data"
    }
   ],
   "source": [
    "fig, ax = plt.subplots(figsize=(6,6))\n",
    "mask = np.zeros_like(df, dtype=np.bool)\n",
    "mask[np.triu_indices_from(mask)] = True\n",
    "with sns.axes_style(\"white\"):\n",
    "    ax = sns.heatmap(df, mask=mask, square=True)\n",
    "plt.show()"
   ]
  },
  {
   "cell_type": "markdown",
   "id": "ee07b39d",
   "metadata": {
    "papermill": {
     "duration": 0.026094,
     "end_time": "2022-08-29T07:40:32.064368",
     "exception": false,
     "start_time": "2022-08-29T07:40:32.038274",
     "status": "completed"
    },
    "tags": []
   },
   "source": [
    "# Correlation among numerical data"
   ]
  },
  {
   "cell_type": "markdown",
   "id": "f6ec3535",
   "metadata": {
    "papermill": {
     "duration": 0.026427,
     "end_time": "2022-08-29T07:40:32.117154",
     "exception": false,
     "start_time": "2022-08-29T07:40:32.090727",
     "status": "completed"
    },
    "tags": []
   },
   "source": [
    "using pearson measure"
   ]
  },
  {
   "cell_type": "code",
   "execution_count": 41,
   "id": "2cb832b0",
   "metadata": {
    "execution": {
     "iopub.execute_input": "2022-08-29T07:40:32.171357Z",
     "iopub.status.busy": "2022-08-29T07:40:32.170965Z",
     "iopub.status.idle": "2022-08-29T07:40:32.195329Z",
     "shell.execute_reply": "2022-08-29T07:40:32.194336Z"
    },
    "papermill": {
     "duration": 0.054456,
     "end_time": "2022-08-29T07:40:32.197794",
     "exception": false,
     "start_time": "2022-08-29T07:40:32.143338",
     "status": "completed"
    },
    "tags": []
   },
   "outputs": [
    {
     "data": {
      "text/html": [
       "<div>\n",
       "<style scoped>\n",
       "    .dataframe tbody tr th:only-of-type {\n",
       "        vertical-align: middle;\n",
       "    }\n",
       "\n",
       "    .dataframe tbody tr th {\n",
       "        vertical-align: top;\n",
       "    }\n",
       "\n",
       "    .dataframe thead th {\n",
       "        text-align: right;\n",
       "    }\n",
       "</style>\n",
       "<table border=\"1\" class=\"dataframe\">\n",
       "  <thead>\n",
       "    <tr style=\"text-align: right;\">\n",
       "      <th></th>\n",
       "      <th>LOAN</th>\n",
       "      <th>YOJ</th>\n",
       "      <th>NINQ</th>\n",
       "      <th>DEROG</th>\n",
       "      <th>VALUE</th>\n",
       "      <th>DELINQ</th>\n",
       "      <th>MORTDUE</th>\n",
       "      <th>DEBTINC</th>\n",
       "      <th>CLAGE</th>\n",
       "      <th>CLNO</th>\n",
       "      <th>BAD</th>\n",
       "    </tr>\n",
       "  </thead>\n",
       "  <tbody>\n",
       "    <tr>\n",
       "      <th>LOAN</th>\n",
       "      <td>1.000000</td>\n",
       "      <td>0.105728</td>\n",
       "      <td>0.044487</td>\n",
       "      <td>-0.001302</td>\n",
       "      <td>0.335393</td>\n",
       "      <td>-0.035144</td>\n",
       "      <td>0.228595</td>\n",
       "      <td>0.084735</td>\n",
       "      <td>0.088540</td>\n",
       "      <td>0.072631</td>\n",
       "      <td>-0.075099</td>\n",
       "    </tr>\n",
       "    <tr>\n",
       "      <th>YOJ</th>\n",
       "      <td>0.105728</td>\n",
       "      <td>1.000000</td>\n",
       "      <td>-0.071627</td>\n",
       "      <td>-0.065879</td>\n",
       "      <td>0.007759</td>\n",
       "      <td>0.038153</td>\n",
       "      <td>-0.088480</td>\n",
       "      <td>-0.055891</td>\n",
       "      <td>0.201718</td>\n",
       "      <td>0.024838</td>\n",
       "      <td>-0.060238</td>\n",
       "    </tr>\n",
       "    <tr>\n",
       "      <th>NINQ</th>\n",
       "      <td>0.044487</td>\n",
       "      <td>-0.071627</td>\n",
       "      <td>1.000000</td>\n",
       "      <td>0.173934</td>\n",
       "      <td>-0.004398</td>\n",
       "      <td>0.067812</td>\n",
       "      <td>0.031392</td>\n",
       "      <td>0.141344</td>\n",
       "      <td>-0.116935</td>\n",
       "      <td>0.088389</td>\n",
       "      <td>0.174980</td>\n",
       "    </tr>\n",
       "    <tr>\n",
       "      <th>DEROG</th>\n",
       "      <td>-0.001302</td>\n",
       "      <td>-0.065879</td>\n",
       "      <td>0.173934</td>\n",
       "      <td>1.000000</td>\n",
       "      <td>-0.048689</td>\n",
       "      <td>0.211832</td>\n",
       "      <td>-0.049516</td>\n",
       "      <td>0.017065</td>\n",
       "      <td>-0.083047</td>\n",
       "      <td>0.061884</td>\n",
       "      <td>0.276081</td>\n",
       "    </tr>\n",
       "    <tr>\n",
       "      <th>VALUE</th>\n",
       "      <td>0.335393</td>\n",
       "      <td>0.007759</td>\n",
       "      <td>-0.004398</td>\n",
       "      <td>-0.048689</td>\n",
       "      <td>1.000000</td>\n",
       "      <td>-0.014103</td>\n",
       "      <td>0.875666</td>\n",
       "      <td>0.132174</td>\n",
       "      <td>0.171238</td>\n",
       "      <td>0.269149</td>\n",
       "      <td>-0.029954</td>\n",
       "    </tr>\n",
       "    <tr>\n",
       "      <th>DELINQ</th>\n",
       "      <td>-0.035144</td>\n",
       "      <td>0.038153</td>\n",
       "      <td>0.067812</td>\n",
       "      <td>0.211832</td>\n",
       "      <td>-0.014103</td>\n",
       "      <td>1.000000</td>\n",
       "      <td>-0.001044</td>\n",
       "      <td>0.052364</td>\n",
       "      <td>0.022488</td>\n",
       "      <td>0.164639</td>\n",
       "      <td>0.354107</td>\n",
       "    </tr>\n",
       "    <tr>\n",
       "      <th>MORTDUE</th>\n",
       "      <td>0.228595</td>\n",
       "      <td>-0.088480</td>\n",
       "      <td>0.031392</td>\n",
       "      <td>-0.049516</td>\n",
       "      <td>0.875666</td>\n",
       "      <td>-0.001044</td>\n",
       "      <td>1.000000</td>\n",
       "      <td>0.154939</td>\n",
       "      <td>0.140047</td>\n",
       "      <td>0.323631</td>\n",
       "      <td>-0.048219</td>\n",
       "    </tr>\n",
       "    <tr>\n",
       "      <th>DEBTINC</th>\n",
       "      <td>0.084735</td>\n",
       "      <td>-0.055891</td>\n",
       "      <td>0.141344</td>\n",
       "      <td>0.017065</td>\n",
       "      <td>0.132174</td>\n",
       "      <td>0.052364</td>\n",
       "      <td>0.154939</td>\n",
       "      <td>1.000000</td>\n",
       "      <td>-0.046477</td>\n",
       "      <td>0.185539</td>\n",
       "      <td>0.199835</td>\n",
       "    </tr>\n",
       "    <tr>\n",
       "      <th>CLAGE</th>\n",
       "      <td>0.088540</td>\n",
       "      <td>0.201718</td>\n",
       "      <td>-0.116935</td>\n",
       "      <td>-0.083047</td>\n",
       "      <td>0.171238</td>\n",
       "      <td>0.022488</td>\n",
       "      <td>0.140047</td>\n",
       "      <td>-0.046477</td>\n",
       "      <td>1.000000</td>\n",
       "      <td>0.237987</td>\n",
       "      <td>-0.170499</td>\n",
       "    </tr>\n",
       "    <tr>\n",
       "      <th>CLNO</th>\n",
       "      <td>0.072631</td>\n",
       "      <td>0.024838</td>\n",
       "      <td>0.088389</td>\n",
       "      <td>0.061884</td>\n",
       "      <td>0.269149</td>\n",
       "      <td>0.164639</td>\n",
       "      <td>0.323631</td>\n",
       "      <td>0.185539</td>\n",
       "      <td>0.237987</td>\n",
       "      <td>1.000000</td>\n",
       "      <td>-0.004157</td>\n",
       "    </tr>\n",
       "    <tr>\n",
       "      <th>BAD</th>\n",
       "      <td>-0.075099</td>\n",
       "      <td>-0.060238</td>\n",
       "      <td>0.174980</td>\n",
       "      <td>0.276081</td>\n",
       "      <td>-0.029954</td>\n",
       "      <td>0.354107</td>\n",
       "      <td>-0.048219</td>\n",
       "      <td>0.199835</td>\n",
       "      <td>-0.170499</td>\n",
       "      <td>-0.004157</td>\n",
       "      <td>1.000000</td>\n",
       "    </tr>\n",
       "  </tbody>\n",
       "</table>\n",
       "</div>"
      ],
      "text/plain": [
       "             LOAN       YOJ      NINQ     DEROG     VALUE    DELINQ   MORTDUE  \\\n",
       "LOAN     1.000000  0.105728  0.044487 -0.001302  0.335393 -0.035144  0.228595   \n",
       "YOJ      0.105728  1.000000 -0.071627 -0.065879  0.007759  0.038153 -0.088480   \n",
       "NINQ     0.044487 -0.071627  1.000000  0.173934 -0.004398  0.067812  0.031392   \n",
       "DEROG   -0.001302 -0.065879  0.173934  1.000000 -0.048689  0.211832 -0.049516   \n",
       "VALUE    0.335393  0.007759 -0.004398 -0.048689  1.000000 -0.014103  0.875666   \n",
       "DELINQ  -0.035144  0.038153  0.067812  0.211832 -0.014103  1.000000 -0.001044   \n",
       "MORTDUE  0.228595 -0.088480  0.031392 -0.049516  0.875666 -0.001044  1.000000   \n",
       "DEBTINC  0.084735 -0.055891  0.141344  0.017065  0.132174  0.052364  0.154939   \n",
       "CLAGE    0.088540  0.201718 -0.116935 -0.083047  0.171238  0.022488  0.140047   \n",
       "CLNO     0.072631  0.024838  0.088389  0.061884  0.269149  0.164639  0.323631   \n",
       "BAD     -0.075099 -0.060238  0.174980  0.276081 -0.029954  0.354107 -0.048219   \n",
       "\n",
       "          DEBTINC     CLAGE      CLNO       BAD  \n",
       "LOAN     0.084735  0.088540  0.072631 -0.075099  \n",
       "YOJ     -0.055891  0.201718  0.024838 -0.060238  \n",
       "NINQ     0.141344 -0.116935  0.088389  0.174980  \n",
       "DEROG    0.017065 -0.083047  0.061884  0.276081  \n",
       "VALUE    0.132174  0.171238  0.269149 -0.029954  \n",
       "DELINQ   0.052364  0.022488  0.164639  0.354107  \n",
       "MORTDUE  0.154939  0.140047  0.323631 -0.048219  \n",
       "DEBTINC  1.000000 -0.046477  0.185539  0.199835  \n",
       "CLAGE   -0.046477  1.000000  0.237987 -0.170499  \n",
       "CLNO     0.185539  0.237987  1.000000 -0.004157  \n",
       "BAD      0.199835 -0.170499 -0.004157  1.000000  "
      ]
     },
     "execution_count": 41,
     "metadata": {},
     "output_type": "execute_result"
    }
   ],
   "source": [
    "data_copy[numerical+[\"BAD\"]].corr(method='pearson')"
   ]
  },
  {
   "cell_type": "code",
   "execution_count": 42,
   "id": "0d949b82",
   "metadata": {
    "execution": {
     "iopub.execute_input": "2022-08-29T07:40:32.253183Z",
     "iopub.status.busy": "2022-08-29T07:40:32.252749Z",
     "iopub.status.idle": "2022-08-29T07:40:32.600754Z",
     "shell.execute_reply": "2022-08-29T07:40:32.599203Z"
    },
    "papermill": {
     "duration": 0.379594,
     "end_time": "2022-08-29T07:40:32.604074",
     "exception": false,
     "start_time": "2022-08-29T07:40:32.224480",
     "status": "completed"
    },
    "tags": []
   },
   "outputs": [
    {
     "name": "stderr",
     "output_type": "stream",
     "text": [
      "/opt/conda/lib/python3.7/site-packages/ipykernel_launcher.py:2: DeprecationWarning: `np.bool` is a deprecated alias for the builtin `bool`. To silence this warning, use `bool` by itself. Doing this will not modify any behavior and is safe. If you specifically wanted the numpy scalar type, use `np.bool_` here.\n",
      "Deprecated in NumPy 1.20; for more details and guidance: https://numpy.org/devdocs/release/1.20.0-notes.html#deprecations\n",
      "  \n"
     ]
    },
    {
     "data": {
      "image/png": "[encoded data removed]",
      "text/plain": [
       "<Figure size 432x432 with 2 Axes>"
      ]
     },
     "metadata": {
      "needs_background": "light"
     },
     "output_type": "display_data"
    }
   ],
   "source": [
    "fig, ax = plt.subplots(figsize=(6,6))\n",
    "mask = np.zeros_like(data_copy[numerical+[\"BAD\"]].corr(method='pearson'), dtype=np.bool)\n",
    "mask[np.triu_indices_from(mask)] = True\n",
    "with sns.axes_style(\"white\"):\n",
    "    ax = sns.heatmap(data_copy[numerical+[\"BAD\"]].corr(method='pearson'), mask=mask, square=True)\n",
    "plt.show()"
   ]
  },
  {
   "cell_type": "markdown",
   "id": "101b985b",
   "metadata": {
    "papermill": {
     "duration": 0.026744,
     "end_time": "2022-08-29T07:40:32.659491",
     "exception": false,
     "start_time": "2022-08-29T07:40:32.632747",
     "status": "completed"
    },
    "tags": []
   },
   "source": [
    "* MORTDUE-CLNO, CLAGE-CLNO, VALUE-CLNO, DELINQ-DEROG, CLAGE-YOJ,LOAN-VALUE, LOAN-MORTDUE are a bit positive-correlation\n",
    "* MORTDUE-VALUE are strong positive-correlation\n",
    "* correlation with target variable: BAD-DEROG, DELINQ-BAD are a bit positive-correlation"
   ]
  },
  {
   "cell_type": "markdown",
   "id": "98651e4e",
   "metadata": {
    "papermill": {
     "duration": 0.026688,
     "end_time": "2022-08-29T07:40:32.713400",
     "exception": false,
     "start_time": "2022-08-29T07:40:32.686712",
     "status": "completed"
    },
    "tags": []
   },
   "source": [
    "# Weight of evidence - IV"
   ]
  },
  {
   "cell_type": "markdown",
   "id": "4521d8dc",
   "metadata": {
    "papermill": {
     "duration": 0.027337,
     "end_time": "2022-08-29T07:40:32.767798",
     "exception": false,
     "start_time": "2022-08-29T07:40:32.740461",
     "status": "completed"
    },
    "tags": []
   },
   "source": [
    "**impute missing data from numerical, categorical data**"
   ]
  },
  {
   "cell_type": "code",
   "execution_count": 43,
   "id": "f309721f",
   "metadata": {
    "execution": {
     "iopub.execute_input": "2022-08-29T07:40:32.824608Z",
     "iopub.status.busy": "2022-08-29T07:40:32.824174Z",
     "iopub.status.idle": "2022-08-29T07:40:32.846079Z",
     "shell.execute_reply": "2022-08-29T07:40:32.844946Z"
    },
    "papermill": {
     "duration": 0.053242,
     "end_time": "2022-08-29T07:40:32.848755",
     "exception": false,
     "start_time": "2022-08-29T07:40:32.795513",
     "status": "completed"
    },
    "tags": []
   },
   "outputs": [],
   "source": [
    "data_cop = data.copy()\n",
    "columns_num = data_cop.select_dtypes(['float', 'int']).columns\n",
    "data_cop[columns_num] = data_cop[columns_num].apply(lambda x: x.fillna(x.mean()), axis=0)\n",
    "\n",
    "columns_obj = data_cop.select_dtypes(['object']).columns\n",
    "data_cop[columns_obj] = data_cop[columns_obj].apply(lambda x: x.fillna('Missing'), axis=0)\n"
   ]
  },
  {
   "cell_type": "code",
   "execution_count": 44,
   "id": "b3191d5a",
   "metadata": {
    "execution": {
     "iopub.execute_input": "2022-08-29T07:40:32.905186Z",
     "iopub.status.busy": "2022-08-29T07:40:32.904780Z",
     "iopub.status.idle": "2022-08-29T07:40:32.948165Z",
     "shell.execute_reply": "2022-08-29T07:40:32.946962Z"
    },
    "papermill": {
     "duration": 0.074987,
     "end_time": "2022-08-29T07:40:32.950846",
     "exception": false,
     "start_time": "2022-08-29T07:40:32.875859",
     "status": "completed"
    },
    "tags": []
   },
   "outputs": [
    {
     "data": {
      "text/html": [
       "<div>\n",
       "<style scoped>\n",
       "    .dataframe tbody tr th:only-of-type {\n",
       "        vertical-align: middle;\n",
       "    }\n",
       "\n",
       "    .dataframe tbody tr th {\n",
       "        vertical-align: top;\n",
       "    }\n",
       "\n",
       "    .dataframe thead th {\n",
       "        text-align: right;\n",
       "    }\n",
       "</style>\n",
       "<table border=\"1\" class=\"dataframe\">\n",
       "  <thead>\n",
       "    <tr style=\"text-align: right;\">\n",
       "      <th></th>\n",
       "      <th>col name</th>\n",
       "      <th>bin range</th>\n",
       "      <th>num of data</th>\n",
       "      <th>Events</th>\n",
       "      <th>% of Events</th>\n",
       "      <th>Non-Events</th>\n",
       "      <th>% of Non-Events</th>\n",
       "      <th>WoE</th>\n",
       "      <th>IV</th>\n",
       "    </tr>\n",
       "  </thead>\n",
       "  <tbody>\n",
       "    <tr>\n",
       "      <th>0</th>\n",
       "      <td>LOAN</td>\n",
       "      <td>(1099.999, 7600.0]</td>\n",
       "      <td>603</td>\n",
       "      <td>229</td>\n",
       "      <td>0.192599</td>\n",
       "      <td>374</td>\n",
       "      <td>0.078390</td>\n",
       "      <td>0.898910</td>\n",
       "      <td>0.102663</td>\n",
       "    </tr>\n",
       "    <tr>\n",
       "      <th>1</th>\n",
       "      <td>LOAN</td>\n",
       "      <td>(7600.0, 10000.0]</td>\n",
       "      <td>608</td>\n",
       "      <td>137</td>\n",
       "      <td>0.115223</td>\n",
       "      <td>471</td>\n",
       "      <td>0.098721</td>\n",
       "      <td>0.154566</td>\n",
       "      <td>0.002551</td>\n",
       "    </tr>\n",
       "    <tr>\n",
       "      <th>2</th>\n",
       "      <td>LOAN</td>\n",
       "      <td>(10000.0, 12100.0]</td>\n",
       "      <td>582</td>\n",
       "      <td>106</td>\n",
       "      <td>0.089151</td>\n",
       "      <td>476</td>\n",
       "      <td>0.099769</td>\n",
       "      <td>-0.112535</td>\n",
       "      <td>0.001195</td>\n",
       "    </tr>\n",
       "    <tr>\n",
       "      <th>3</th>\n",
       "      <td>LOAN</td>\n",
       "      <td>(12100.0, 14400.0]</td>\n",
       "      <td>610</td>\n",
       "      <td>107</td>\n",
       "      <td>0.089992</td>\n",
       "      <td>503</td>\n",
       "      <td>0.105429</td>\n",
       "      <td>-0.158318</td>\n",
       "      <td>0.002444</td>\n",
       "    </tr>\n",
       "    <tr>\n",
       "      <th>4</th>\n",
       "      <td>LOAN</td>\n",
       "      <td>(14400.0, 16300.0]</td>\n",
       "      <td>578</td>\n",
       "      <td>131</td>\n",
       "      <td>0.110177</td>\n",
       "      <td>447</td>\n",
       "      <td>0.093691</td>\n",
       "      <td>0.162082</td>\n",
       "      <td>0.002672</td>\n",
       "    </tr>\n",
       "    <tr>\n",
       "      <th>5</th>\n",
       "      <td>LOAN</td>\n",
       "      <td>(16300.0, 18800.0]</td>\n",
       "      <td>604</td>\n",
       "      <td>84</td>\n",
       "      <td>0.070648</td>\n",
       "      <td>520</td>\n",
       "      <td>0.108992</td>\n",
       "      <td>-0.433569</td>\n",
       "      <td>0.016625</td>\n",
       "    </tr>\n",
       "    <tr>\n",
       "      <th>6</th>\n",
       "      <td>LOAN</td>\n",
       "      <td>(18800.0, 21700.0]</td>\n",
       "      <td>591</td>\n",
       "      <td>99</td>\n",
       "      <td>0.083263</td>\n",
       "      <td>492</td>\n",
       "      <td>0.103123</td>\n",
       "      <td>-0.213916</td>\n",
       "      <td>0.004248</td>\n",
       "    </tr>\n",
       "    <tr>\n",
       "      <th>7</th>\n",
       "      <td>LOAN</td>\n",
       "      <td>(21700.0, 25000.0]</td>\n",
       "      <td>613</td>\n",
       "      <td>107</td>\n",
       "      <td>0.089992</td>\n",
       "      <td>506</td>\n",
       "      <td>0.106057</td>\n",
       "      <td>-0.164265</td>\n",
       "      <td>0.002639</td>\n",
       "    </tr>\n",
       "    <tr>\n",
       "      <th>8</th>\n",
       "      <td>LOAN</td>\n",
       "      <td>(25000.0, 30500.0]</td>\n",
       "      <td>576</td>\n",
       "      <td>72</td>\n",
       "      <td>0.060555</td>\n",
       "      <td>504</td>\n",
       "      <td>0.105638</td>\n",
       "      <td>-0.556467</td>\n",
       "      <td>0.025087</td>\n",
       "    </tr>\n",
       "    <tr>\n",
       "      <th>9</th>\n",
       "      <td>LOAN</td>\n",
       "      <td>(30500.0, 89900.0]</td>\n",
       "      <td>595</td>\n",
       "      <td>117</td>\n",
       "      <td>0.098402</td>\n",
       "      <td>478</td>\n",
       "      <td>0.100189</td>\n",
       "      <td>-0.017993</td>\n",
       "      <td>0.000032</td>\n",
       "    </tr>\n",
       "  </tbody>\n",
       "</table>\n",
       "</div>"
      ],
      "text/plain": [
       "  col name           bin range  num of data  Events  % of Events  Non-Events  \\\n",
       "0     LOAN  (1099.999, 7600.0]          603     229     0.192599         374   \n",
       "1     LOAN   (7600.0, 10000.0]          608     137     0.115223         471   \n",
       "2     LOAN  (10000.0, 12100.0]          582     106     0.089151         476   \n",
       "3     LOAN  (12100.0, 14400.0]          610     107     0.089992         503   \n",
       "4     LOAN  (14400.0, 16300.0]          578     131     0.110177         447   \n",
       "5     LOAN  (16300.0, 18800.0]          604      84     0.070648         520   \n",
       "6     LOAN  (18800.0, 21700.0]          591      99     0.083263         492   \n",
       "7     LOAN  (21700.0, 25000.0]          613     107     0.089992         506   \n",
       "8     LOAN  (25000.0, 30500.0]          576      72     0.060555         504   \n",
       "9     LOAN  (30500.0, 89900.0]          595     117     0.098402         478   \n",
       "\n",
       "   % of Non-Events       WoE        IV  \n",
       "0         0.078390  0.898910  0.102663  \n",
       "1         0.098721  0.154566  0.002551  \n",
       "2         0.099769 -0.112535  0.001195  \n",
       "3         0.105429 -0.158318  0.002444  \n",
       "4         0.093691  0.162082  0.002672  \n",
       "5         0.108992 -0.433569  0.016625  \n",
       "6         0.103123 -0.213916  0.004248  \n",
       "7         0.106057 -0.164265  0.002639  \n",
       "8         0.105638 -0.556467  0.025087  \n",
       "9         0.100189 -0.017993  0.000032  "
      ]
     },
     "execution_count": 44,
     "metadata": {},
     "output_type": "execute_result"
    }
   ],
   "source": [
    "def calculate_woe_iv(data, col, target, bins=10):\n",
    "    if (data[col].dtype.kind in 'bifc') and (len(np.unique(data[col]))>10):\n",
    "        bin_df = pd.qcut(data[col], bins,  duplicates='drop')\n",
    "        d0 = pd.DataFrame({'bin range': bin_df, 'y': data[target]})\n",
    "    else:\n",
    "        d0 = pd.DataFrame({'bin range': data[col], 'y': data[target]})\n",
    "\n",
    "    d = d0.groupby(\"bin range\", as_index=False).agg({\"y\": [\"count\", \"sum\"]})\n",
    "    d.columns = ['bin range', 'num of data', 'Events']\n",
    "\n",
    "    d['% of Events'] = np.maximum(d['Events'], 0.5) / d['Events'].sum()# avoid 0\n",
    "\n",
    "    d['Non-Events'] = d['num of data'] - d['Events']\n",
    "\n",
    "    d['% of Non-Events'] = np.maximum(d['Non-Events'], 0.5) / d['Non-Events'].sum()#avoid 0\n",
    "\n",
    "    d['WoE'] = np.log(d['% of Events']/d['% of Non-Events'])\n",
    "    d['IV'] = d['WoE'] * (d['% of Events'] - d['% of Non-Events'])\n",
    "    d.insert(loc=0, column='col name', value=col)\n",
    "\n",
    "    return d\n",
    "\n",
    "calculate_woe_iv(data_cop, \"LOAN\", \"BAD\")"
   ]
  },
  {
   "cell_type": "code",
   "execution_count": 45,
   "id": "f7881b4b",
   "metadata": {
    "execution": {
     "iopub.execute_input": "2022-08-29T07:40:33.007778Z",
     "iopub.status.busy": "2022-08-29T07:40:33.007325Z",
     "iopub.status.idle": "2022-08-29T07:40:33.122103Z",
     "shell.execute_reply": "2022-08-29T07:40:33.120447Z"
    },
    "papermill": {
     "duration": 0.145858,
     "end_time": "2022-08-29T07:40:33.124390",
     "exception": true,
     "start_time": "2022-08-29T07:40:32.978532",
     "status": "failed"
    },
    "tags": []
   },
   "outputs": [
    {
     "ename": "NameError",
     "evalue": "name 'target' is not defined",
     "output_type": "error",
     "traceback": [
      "\u001b[0;31m---------------------------------------------------------------------------\u001b[0m",
      "\u001b[0;31mNameError\u001b[0m                                 Traceback (most recent call last)",
      "\u001b[0;32m/tmp/ipykernel_19/2368603248.py\u001b[0m in \u001b[0;36m<module>\u001b[0;34m\u001b[0m\n\u001b[1;32m     10\u001b[0m     \u001b[0;32melse\u001b[0m\u001b[0;34m:\u001b[0m\u001b[0;34m\u001b[0m\u001b[0;34m\u001b[0m\u001b[0m\n\u001b[1;32m     11\u001b[0m         \u001b[0;32mreturn\u001b[0m \u001b[0;34m'suspicious'\u001b[0m\u001b[0;34m\u001b[0m\u001b[0;34m\u001b[0m\u001b[0m\n\u001b[0;32m---> 12\u001b[0;31m \u001b[0mcols_expt_target\u001b[0m \u001b[0;34m=\u001b[0m \u001b[0mlist\u001b[0m\u001b[0;34m(\u001b[0m\u001b[0mdata\u001b[0m\u001b[0;34m.\u001b[0m\u001b[0mcolumns\u001b[0m\u001b[0;34m.\u001b[0m\u001b[0mdrop\u001b[0m\u001b[0;34m(\u001b[0m\u001b[0mtarget\u001b[0m\u001b[0;34m)\u001b[0m\u001b[0;34m)\u001b[0m\u001b[0;34m\u001b[0m\u001b[0;34m\u001b[0m\u001b[0m\n\u001b[0m\u001b[1;32m     13\u001b[0m \u001b[0mtarget\u001b[0m \u001b[0;34m=\u001b[0m \u001b[0;34m\"BAD\"\u001b[0m\u001b[0;34m\u001b[0m\u001b[0;34m\u001b[0m\u001b[0m\n\u001b[1;32m     14\u001b[0m \u001b[0mIV\u001b[0m \u001b[0;34m=\u001b[0m \u001b[0;34m[\u001b[0m\u001b[0;34m]\u001b[0m\u001b[0;34m\u001b[0m\u001b[0;34m\u001b[0m\u001b[0m\n",
      "\u001b[0;31mNameError\u001b[0m: name 'target' is not defined"
     ]
    }
   ],
   "source": [
    "def rank_iv(iv):\n",
    "    if iv <= 0.02:\n",
    "        return 'Useless'\n",
    "    elif iv <= 0.1:\n",
    "        return 'Weak'\n",
    "    elif iv <= 0.3:\n",
    "        return 'Medium'\n",
    "    elif iv <= 0.5:\n",
    "        return 'Strong'\n",
    "    else:\n",
    "        return 'suspicious'\n",
    "cols_expt_target = list(data.columns.drop(target))\n",
    "target = \"BAD\"\n",
    "IV = []\n",
    "for col in cols_expt_target:\n",
    "    IV.append(calculate_woe_iv(data_cop, col, target)[\"IV\"].sum())\n",
    "\n",
    "res = pd.DataFrame(list(zip(cols_expt_target, IV)), columns=[\"col name\", \"IV\"])\n",
    "res[\"rank\"] = res[\"IV\"].apply(rank_iv)\n",
    "res.sort_values(\"IV\")"
   ]
  }
 ],
 "metadata": {
  "kernelspec": {
   "display_name": "Python 3",
   "language": "python",
   "name": "python3"
  },
  "language_info": {
   "codemirror_mode": {
    "name": "ipython",
    "version": 3
   },
   "file_extension": ".py",
   "mimetype": "text/x-python",
   "name": "python",
   "nbconvert_exporter": "python",
   "pygments_lexer": "ipython3",
   "version": "3.7.12"
  },
  "papermill": {
   "default_parameters": {},
   "duration": 27.790364,
   "end_time": "2022-08-29T07:40:34.074977",
   "environment_variables": {},
   "exception": true,
   "input_path": "__notebook__.ipynb",
   "output_path": "__notebook__.ipynb",
   "parameters": {},
   "start_time": "2022-08-29T07:40:06.284613",
   "version": "2.3.4"
  }
 },
 "nbformat": 4,
 "nbformat_minor": 5
}
